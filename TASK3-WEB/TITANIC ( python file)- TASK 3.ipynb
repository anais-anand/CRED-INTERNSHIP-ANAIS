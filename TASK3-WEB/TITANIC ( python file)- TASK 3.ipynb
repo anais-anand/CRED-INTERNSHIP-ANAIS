{
  "nbformat": 4,
  "nbformat_minor": 0,
  "metadata": {
    "colab": {
      "provenance": []
    },
    "kernelspec": {
      "name": "python3",
      "display_name": "Python 3"
    },
    "language_info": {
      "name": "python"
    }
  },
  "cells": [
    {
      "cell_type": "code",
      "execution_count": null,
      "metadata": {
        "id": "1XTQpm7j2BLg"
      },
      "outputs": [],
      "source": [
        "import pandas as pd\n",
        "import numpy as np\n",
        "import matplotlib.pyplot as plt\n",
        "import seaborn as sns"
      ]
    },
    {
      "cell_type": "markdown",
      "source": [
        "**CAYTM TECHNOLOGIES INTERNSHIP PROJECT**.\n",
        "\n",
        "TITANIC DATASET\n",
        "\n",
        "TARGET VARIABLE- SURVIVED\n",
        "\n",
        "PROBLEM- CLASSIFICATION"
      ],
      "metadata": {
        "id": "N8XghlDuEm64"
      }
    },
    {
      "cell_type": "code",
      "source": [
        "#reading the dataset\n",
        "df=pd.read_csv(\"/content/titanic.csv\")\n",
        "df.head()"
      ],
      "metadata": {
        "colab": {
          "base_uri": "https://localhost:8080/",
          "height": 206
        },
        "id": "GeEqdi_i2-Sx",
        "outputId": "3cabad07-bc47-4ca1-8760-b0b1e921dc8f"
      },
      "execution_count": null,
      "outputs": [
        {
          "output_type": "execute_result",
          "data": {
            "text/plain": [
              "   PassengerId  Survived  Pclass  \\\n",
              "0          892         0       3   \n",
              "1          893         1       3   \n",
              "2          894         0       2   \n",
              "3          895         0       3   \n",
              "4          896         1       3   \n",
              "\n",
              "                                           Name     Sex   Age  SibSp  Parch  \\\n",
              "0                              Kelly, Mr. James    male  34.5      0      0   \n",
              "1              Wilkes, Mrs. James (Ellen Needs)  female  47.0      1      0   \n",
              "2                     Myles, Mr. Thomas Francis    male  62.0      0      0   \n",
              "3                              Wirz, Mr. Albert    male  27.0      0      0   \n",
              "4  Hirvonen, Mrs. Alexander (Helga E Lindqvist)  female  22.0      1      1   \n",
              "\n",
              "    Ticket     Fare Cabin Embarked  \n",
              "0   330911   7.8292   NaN        Q  \n",
              "1   363272   7.0000   NaN        S  \n",
              "2   240276   9.6875   NaN        Q  \n",
              "3   315154   8.6625   NaN        S  \n",
              "4  3101298  12.2875   NaN        S  "
            ],
            "text/html": [
              "\n",
              "  <div id=\"df-c8c0bab1-ef6d-4d1a-949b-5c2f49df0320\" class=\"colab-df-container\">\n",
              "    <div>\n",
              "<style scoped>\n",
              "    .dataframe tbody tr th:only-of-type {\n",
              "        vertical-align: middle;\n",
              "    }\n",
              "\n",
              "    .dataframe tbody tr th {\n",
              "        vertical-align: top;\n",
              "    }\n",
              "\n",
              "    .dataframe thead th {\n",
              "        text-align: right;\n",
              "    }\n",
              "</style>\n",
              "<table border=\"1\" class=\"dataframe\">\n",
              "  <thead>\n",
              "    <tr style=\"text-align: right;\">\n",
              "      <th></th>\n",
              "      <th>PassengerId</th>\n",
              "      <th>Survived</th>\n",
              "      <th>Pclass</th>\n",
              "      <th>Name</th>\n",
              "      <th>Sex</th>\n",
              "      <th>Age</th>\n",
              "      <th>SibSp</th>\n",
              "      <th>Parch</th>\n",
              "      <th>Ticket</th>\n",
              "      <th>Fare</th>\n",
              "      <th>Cabin</th>\n",
              "      <th>Embarked</th>\n",
              "    </tr>\n",
              "  </thead>\n",
              "  <tbody>\n",
              "    <tr>\n",
              "      <th>0</th>\n",
              "      <td>892</td>\n",
              "      <td>0</td>\n",
              "      <td>3</td>\n",
              "      <td>Kelly, Mr. James</td>\n",
              "      <td>male</td>\n",
              "      <td>34.5</td>\n",
              "      <td>0</td>\n",
              "      <td>0</td>\n",
              "      <td>330911</td>\n",
              "      <td>7.8292</td>\n",
              "      <td>NaN</td>\n",
              "      <td>Q</td>\n",
              "    </tr>\n",
              "    <tr>\n",
              "      <th>1</th>\n",
              "      <td>893</td>\n",
              "      <td>1</td>\n",
              "      <td>3</td>\n",
              "      <td>Wilkes, Mrs. James (Ellen Needs)</td>\n",
              "      <td>female</td>\n",
              "      <td>47.0</td>\n",
              "      <td>1</td>\n",
              "      <td>0</td>\n",
              "      <td>363272</td>\n",
              "      <td>7.0000</td>\n",
              "      <td>NaN</td>\n",
              "      <td>S</td>\n",
              "    </tr>\n",
              "    <tr>\n",
              "      <th>2</th>\n",
              "      <td>894</td>\n",
              "      <td>0</td>\n",
              "      <td>2</td>\n",
              "      <td>Myles, Mr. Thomas Francis</td>\n",
              "      <td>male</td>\n",
              "      <td>62.0</td>\n",
              "      <td>0</td>\n",
              "      <td>0</td>\n",
              "      <td>240276</td>\n",
              "      <td>9.6875</td>\n",
              "      <td>NaN</td>\n",
              "      <td>Q</td>\n",
              "    </tr>\n",
              "    <tr>\n",
              "      <th>3</th>\n",
              "      <td>895</td>\n",
              "      <td>0</td>\n",
              "      <td>3</td>\n",
              "      <td>Wirz, Mr. Albert</td>\n",
              "      <td>male</td>\n",
              "      <td>27.0</td>\n",
              "      <td>0</td>\n",
              "      <td>0</td>\n",
              "      <td>315154</td>\n",
              "      <td>8.6625</td>\n",
              "      <td>NaN</td>\n",
              "      <td>S</td>\n",
              "    </tr>\n",
              "    <tr>\n",
              "      <th>4</th>\n",
              "      <td>896</td>\n",
              "      <td>1</td>\n",
              "      <td>3</td>\n",
              "      <td>Hirvonen, Mrs. Alexander (Helga E Lindqvist)</td>\n",
              "      <td>female</td>\n",
              "      <td>22.0</td>\n",
              "      <td>1</td>\n",
              "      <td>1</td>\n",
              "      <td>3101298</td>\n",
              "      <td>12.2875</td>\n",
              "      <td>NaN</td>\n",
              "      <td>S</td>\n",
              "    </tr>\n",
              "  </tbody>\n",
              "</table>\n",
              "</div>\n",
              "    <div class=\"colab-df-buttons\">\n",
              "\n",
              "  <div class=\"colab-df-container\">\n",
              "    <button class=\"colab-df-convert\" onclick=\"convertToInteractive('df-c8c0bab1-ef6d-4d1a-949b-5c2f49df0320')\"\n",
              "            title=\"Convert this dataframe to an interactive table.\"\n",
              "            style=\"display:none;\">\n",
              "\n",
              "  <svg xmlns=\"http://www.w3.org/2000/svg\" height=\"24px\" viewBox=\"0 -960 960 960\">\n",
              "    <path d=\"M120-120v-720h720v720H120Zm60-500h600v-160H180v160Zm220 220h160v-160H400v160Zm0 220h160v-160H400v160ZM180-400h160v-160H180v160Zm440 0h160v-160H620v160ZM180-180h160v-160H180v160Zm440 0h160v-160H620v160Z\"/>\n",
              "  </svg>\n",
              "    </button>\n",
              "\n",
              "  <style>\n",
              "    .colab-df-container {\n",
              "      display:flex;\n",
              "      gap: 12px;\n",
              "    }\n",
              "\n",
              "    .colab-df-convert {\n",
              "      background-color: #E8F0FE;\n",
              "      border: none;\n",
              "      border-radius: 50%;\n",
              "      cursor: pointer;\n",
              "      display: none;\n",
              "      fill: #1967D2;\n",
              "      height: 32px;\n",
              "      padding: 0 0 0 0;\n",
              "      width: 32px;\n",
              "    }\n",
              "\n",
              "    .colab-df-convert:hover {\n",
              "      background-color: #E2EBFA;\n",
              "      box-shadow: 0px 1px 2px rgba(60, 64, 67, 0.3), 0px 1px 3px 1px rgba(60, 64, 67, 0.15);\n",
              "      fill: #174EA6;\n",
              "    }\n",
              "\n",
              "    .colab-df-buttons div {\n",
              "      margin-bottom: 4px;\n",
              "    }\n",
              "\n",
              "    [theme=dark] .colab-df-convert {\n",
              "      background-color: #3B4455;\n",
              "      fill: #D2E3FC;\n",
              "    }\n",
              "\n",
              "    [theme=dark] .colab-df-convert:hover {\n",
              "      background-color: #434B5C;\n",
              "      box-shadow: 0px 1px 3px 1px rgba(0, 0, 0, 0.15);\n",
              "      filter: drop-shadow(0px 1px 2px rgba(0, 0, 0, 0.3));\n",
              "      fill: #FFFFFF;\n",
              "    }\n",
              "  </style>\n",
              "\n",
              "    <script>\n",
              "      const buttonEl =\n",
              "        document.querySelector('#df-c8c0bab1-ef6d-4d1a-949b-5c2f49df0320 button.colab-df-convert');\n",
              "      buttonEl.style.display =\n",
              "        google.colab.kernel.accessAllowed ? 'block' : 'none';\n",
              "\n",
              "      async function convertToInteractive(key) {\n",
              "        const element = document.querySelector('#df-c8c0bab1-ef6d-4d1a-949b-5c2f49df0320');\n",
              "        const dataTable =\n",
              "          await google.colab.kernel.invokeFunction('convertToInteractive',\n",
              "                                                    [key], {});\n",
              "        if (!dataTable) return;\n",
              "\n",
              "        const docLinkHtml = 'Like what you see? Visit the ' +\n",
              "          '<a target=\"_blank\" href=https://colab.research.google.com/notebooks/data_table.ipynb>data table notebook</a>'\n",
              "          + ' to learn more about interactive tables.';\n",
              "        element.innerHTML = '';\n",
              "        dataTable['output_type'] = 'display_data';\n",
              "        await google.colab.output.renderOutput(dataTable, element);\n",
              "        const docLink = document.createElement('div');\n",
              "        docLink.innerHTML = docLinkHtml;\n",
              "        element.appendChild(docLink);\n",
              "      }\n",
              "    </script>\n",
              "  </div>\n",
              "\n",
              "\n",
              "<div id=\"df-a6b936b3-0a64-4794-9b43-501a460c26c3\">\n",
              "  <button class=\"colab-df-quickchart\" onclick=\"quickchart('df-a6b936b3-0a64-4794-9b43-501a460c26c3')\"\n",
              "            title=\"Suggest charts.\"\n",
              "            style=\"display:none;\">\n",
              "\n",
              "<svg xmlns=\"http://www.w3.org/2000/svg\" height=\"24px\"viewBox=\"0 0 24 24\"\n",
              "     width=\"24px\">\n",
              "    <g>\n",
              "        <path d=\"M19 3H5c-1.1 0-2 .9-2 2v14c0 1.1.9 2 2 2h14c1.1 0 2-.9 2-2V5c0-1.1-.9-2-2-2zM9 17H7v-7h2v7zm4 0h-2V7h2v10zm4 0h-2v-4h2v4z\"/>\n",
              "    </g>\n",
              "</svg>\n",
              "  </button>\n",
              "\n",
              "<style>\n",
              "  .colab-df-quickchart {\n",
              "      --bg-color: #E8F0FE;\n",
              "      --fill-color: #1967D2;\n",
              "      --hover-bg-color: #E2EBFA;\n",
              "      --hover-fill-color: #174EA6;\n",
              "      --disabled-fill-color: #AAA;\n",
              "      --disabled-bg-color: #DDD;\n",
              "  }\n",
              "\n",
              "  [theme=dark] .colab-df-quickchart {\n",
              "      --bg-color: #3B4455;\n",
              "      --fill-color: #D2E3FC;\n",
              "      --hover-bg-color: #434B5C;\n",
              "      --hover-fill-color: #FFFFFF;\n",
              "      --disabled-bg-color: #3B4455;\n",
              "      --disabled-fill-color: #666;\n",
              "  }\n",
              "\n",
              "  .colab-df-quickchart {\n",
              "    background-color: var(--bg-color);\n",
              "    border: none;\n",
              "    border-radius: 50%;\n",
              "    cursor: pointer;\n",
              "    display: none;\n",
              "    fill: var(--fill-color);\n",
              "    height: 32px;\n",
              "    padding: 0;\n",
              "    width: 32px;\n",
              "  }\n",
              "\n",
              "  .colab-df-quickchart:hover {\n",
              "    background-color: var(--hover-bg-color);\n",
              "    box-shadow: 0 1px 2px rgba(60, 64, 67, 0.3), 0 1px 3px 1px rgba(60, 64, 67, 0.15);\n",
              "    fill: var(--button-hover-fill-color);\n",
              "  }\n",
              "\n",
              "  .colab-df-quickchart-complete:disabled,\n",
              "  .colab-df-quickchart-complete:disabled:hover {\n",
              "    background-color: var(--disabled-bg-color);\n",
              "    fill: var(--disabled-fill-color);\n",
              "    box-shadow: none;\n",
              "  }\n",
              "\n",
              "  .colab-df-spinner {\n",
              "    border: 2px solid var(--fill-color);\n",
              "    border-color: transparent;\n",
              "    border-bottom-color: var(--fill-color);\n",
              "    animation:\n",
              "      spin 1s steps(1) infinite;\n",
              "  }\n",
              "\n",
              "  @keyframes spin {\n",
              "    0% {\n",
              "      border-color: transparent;\n",
              "      border-bottom-color: var(--fill-color);\n",
              "      border-left-color: var(--fill-color);\n",
              "    }\n",
              "    20% {\n",
              "      border-color: transparent;\n",
              "      border-left-color: var(--fill-color);\n",
              "      border-top-color: var(--fill-color);\n",
              "    }\n",
              "    30% {\n",
              "      border-color: transparent;\n",
              "      border-left-color: var(--fill-color);\n",
              "      border-top-color: var(--fill-color);\n",
              "      border-right-color: var(--fill-color);\n",
              "    }\n",
              "    40% {\n",
              "      border-color: transparent;\n",
              "      border-right-color: var(--fill-color);\n",
              "      border-top-color: var(--fill-color);\n",
              "    }\n",
              "    60% {\n",
              "      border-color: transparent;\n",
              "      border-right-color: var(--fill-color);\n",
              "    }\n",
              "    80% {\n",
              "      border-color: transparent;\n",
              "      border-right-color: var(--fill-color);\n",
              "      border-bottom-color: var(--fill-color);\n",
              "    }\n",
              "    90% {\n",
              "      border-color: transparent;\n",
              "      border-bottom-color: var(--fill-color);\n",
              "    }\n",
              "  }\n",
              "</style>\n",
              "\n",
              "  <script>\n",
              "    async function quickchart(key) {\n",
              "      const quickchartButtonEl =\n",
              "        document.querySelector('#' + key + ' button');\n",
              "      quickchartButtonEl.disabled = true;  // To prevent multiple clicks.\n",
              "      quickchartButtonEl.classList.add('colab-df-spinner');\n",
              "      try {\n",
              "        const charts = await google.colab.kernel.invokeFunction(\n",
              "            'suggestCharts', [key], {});\n",
              "      } catch (error) {\n",
              "        console.error('Error during call to suggestCharts:', error);\n",
              "      }\n",
              "      quickchartButtonEl.classList.remove('colab-df-spinner');\n",
              "      quickchartButtonEl.classList.add('colab-df-quickchart-complete');\n",
              "    }\n",
              "    (() => {\n",
              "      let quickchartButtonEl =\n",
              "        document.querySelector('#df-a6b936b3-0a64-4794-9b43-501a460c26c3 button');\n",
              "      quickchartButtonEl.style.display =\n",
              "        google.colab.kernel.accessAllowed ? 'block' : 'none';\n",
              "    })();\n",
              "  </script>\n",
              "</div>\n",
              "    </div>\n",
              "  </div>\n"
            ]
          },
          "metadata": {},
          "execution_count": 4
        }
      ]
    },
    {
      "cell_type": "code",
      "source": [
        "df.info()"
      ],
      "metadata": {
        "colab": {
          "base_uri": "https://localhost:8080/"
        },
        "id": "ibZiqj_23Gku",
        "outputId": "3216affe-a6e4-44a9-885c-b07c0a4b23d9"
      },
      "execution_count": null,
      "outputs": [
        {
          "output_type": "stream",
          "name": "stdout",
          "text": [
            "<class 'pandas.core.frame.DataFrame'>\n",
            "RangeIndex: 418 entries, 0 to 417\n",
            "Data columns (total 12 columns):\n",
            " #   Column       Non-Null Count  Dtype  \n",
            "---  ------       --------------  -----  \n",
            " 0   PassengerId  418 non-null    int64  \n",
            " 1   Survived     418 non-null    int64  \n",
            " 2   Pclass       418 non-null    int64  \n",
            " 3   Name         418 non-null    object \n",
            " 4   Sex          418 non-null    object \n",
            " 5   Age          332 non-null    float64\n",
            " 6   SibSp        418 non-null    int64  \n",
            " 7   Parch        418 non-null    int64  \n",
            " 8   Ticket       418 non-null    object \n",
            " 9   Fare         417 non-null    float64\n",
            " 10  Cabin        91 non-null     object \n",
            " 11  Embarked     418 non-null    object \n",
            "dtypes: float64(2), int64(5), object(5)\n",
            "memory usage: 39.3+ KB\n"
          ]
        }
      ]
    },
    {
      "cell_type": "code",
      "source": [
        "df.shape"
      ],
      "metadata": {
        "colab": {
          "base_uri": "https://localhost:8080/"
        },
        "id": "WEf0RJSs3KF-",
        "outputId": "3f9c8ca3-594d-4bdf-af14-c5d097a18c19"
      },
      "execution_count": null,
      "outputs": [
        {
          "output_type": "execute_result",
          "data": {
            "text/plain": [
              "(418, 12)"
            ]
          },
          "metadata": {},
          "execution_count": 6
        }
      ]
    },
    {
      "cell_type": "code",
      "source": [
        "df.describe()"
      ],
      "metadata": {
        "colab": {
          "base_uri": "https://localhost:8080/",
          "height": 300
        },
        "id": "e2sajxOC9x6p",
        "outputId": "e8816266-1190-4aa9-a4f5-334fb1d7b577"
      },
      "execution_count": null,
      "outputs": [
        {
          "output_type": "execute_result",
          "data": {
            "text/plain": [
              "       PassengerId    Survived      Pclass         Age       SibSp  \\\n",
              "count   418.000000  418.000000  418.000000  332.000000  418.000000   \n",
              "mean   1100.500000    0.363636    2.265550   30.272590    0.447368   \n",
              "std     120.810458    0.481622    0.841838   14.181209    0.896760   \n",
              "min     892.000000    0.000000    1.000000    0.170000    0.000000   \n",
              "25%     996.250000    0.000000    1.000000   21.000000    0.000000   \n",
              "50%    1100.500000    0.000000    3.000000   27.000000    0.000000   \n",
              "75%    1204.750000    1.000000    3.000000   39.000000    1.000000   \n",
              "max    1309.000000    1.000000    3.000000   76.000000    8.000000   \n",
              "\n",
              "            Parch        Fare  \n",
              "count  418.000000  417.000000  \n",
              "mean     0.392344   35.627188  \n",
              "std      0.981429   55.907576  \n",
              "min      0.000000    0.000000  \n",
              "25%      0.000000    7.895800  \n",
              "50%      0.000000   14.454200  \n",
              "75%      0.000000   31.500000  \n",
              "max      9.000000  512.329200  "
            ],
            "text/html": [
              "\n",
              "  <div id=\"df-9f27610a-28e5-4d0f-ab26-ecf382a7396f\" class=\"colab-df-container\">\n",
              "    <div>\n",
              "<style scoped>\n",
              "    .dataframe tbody tr th:only-of-type {\n",
              "        vertical-align: middle;\n",
              "    }\n",
              "\n",
              "    .dataframe tbody tr th {\n",
              "        vertical-align: top;\n",
              "    }\n",
              "\n",
              "    .dataframe thead th {\n",
              "        text-align: right;\n",
              "    }\n",
              "</style>\n",
              "<table border=\"1\" class=\"dataframe\">\n",
              "  <thead>\n",
              "    <tr style=\"text-align: right;\">\n",
              "      <th></th>\n",
              "      <th>PassengerId</th>\n",
              "      <th>Survived</th>\n",
              "      <th>Pclass</th>\n",
              "      <th>Age</th>\n",
              "      <th>SibSp</th>\n",
              "      <th>Parch</th>\n",
              "      <th>Fare</th>\n",
              "    </tr>\n",
              "  </thead>\n",
              "  <tbody>\n",
              "    <tr>\n",
              "      <th>count</th>\n",
              "      <td>418.000000</td>\n",
              "      <td>418.000000</td>\n",
              "      <td>418.000000</td>\n",
              "      <td>332.000000</td>\n",
              "      <td>418.000000</td>\n",
              "      <td>418.000000</td>\n",
              "      <td>417.000000</td>\n",
              "    </tr>\n",
              "    <tr>\n",
              "      <th>mean</th>\n",
              "      <td>1100.500000</td>\n",
              "      <td>0.363636</td>\n",
              "      <td>2.265550</td>\n",
              "      <td>30.272590</td>\n",
              "      <td>0.447368</td>\n",
              "      <td>0.392344</td>\n",
              "      <td>35.627188</td>\n",
              "    </tr>\n",
              "    <tr>\n",
              "      <th>std</th>\n",
              "      <td>120.810458</td>\n",
              "      <td>0.481622</td>\n",
              "      <td>0.841838</td>\n",
              "      <td>14.181209</td>\n",
              "      <td>0.896760</td>\n",
              "      <td>0.981429</td>\n",
              "      <td>55.907576</td>\n",
              "    </tr>\n",
              "    <tr>\n",
              "      <th>min</th>\n",
              "      <td>892.000000</td>\n",
              "      <td>0.000000</td>\n",
              "      <td>1.000000</td>\n",
              "      <td>0.170000</td>\n",
              "      <td>0.000000</td>\n",
              "      <td>0.000000</td>\n",
              "      <td>0.000000</td>\n",
              "    </tr>\n",
              "    <tr>\n",
              "      <th>25%</th>\n",
              "      <td>996.250000</td>\n",
              "      <td>0.000000</td>\n",
              "      <td>1.000000</td>\n",
              "      <td>21.000000</td>\n",
              "      <td>0.000000</td>\n",
              "      <td>0.000000</td>\n",
              "      <td>7.895800</td>\n",
              "    </tr>\n",
              "    <tr>\n",
              "      <th>50%</th>\n",
              "      <td>1100.500000</td>\n",
              "      <td>0.000000</td>\n",
              "      <td>3.000000</td>\n",
              "      <td>27.000000</td>\n",
              "      <td>0.000000</td>\n",
              "      <td>0.000000</td>\n",
              "      <td>14.454200</td>\n",
              "    </tr>\n",
              "    <tr>\n",
              "      <th>75%</th>\n",
              "      <td>1204.750000</td>\n",
              "      <td>1.000000</td>\n",
              "      <td>3.000000</td>\n",
              "      <td>39.000000</td>\n",
              "      <td>1.000000</td>\n",
              "      <td>0.000000</td>\n",
              "      <td>31.500000</td>\n",
              "    </tr>\n",
              "    <tr>\n",
              "      <th>max</th>\n",
              "      <td>1309.000000</td>\n",
              "      <td>1.000000</td>\n",
              "      <td>3.000000</td>\n",
              "      <td>76.000000</td>\n",
              "      <td>8.000000</td>\n",
              "      <td>9.000000</td>\n",
              "      <td>512.329200</td>\n",
              "    </tr>\n",
              "  </tbody>\n",
              "</table>\n",
              "</div>\n",
              "    <div class=\"colab-df-buttons\">\n",
              "\n",
              "  <div class=\"colab-df-container\">\n",
              "    <button class=\"colab-df-convert\" onclick=\"convertToInteractive('df-9f27610a-28e5-4d0f-ab26-ecf382a7396f')\"\n",
              "            title=\"Convert this dataframe to an interactive table.\"\n",
              "            style=\"display:none;\">\n",
              "\n",
              "  <svg xmlns=\"http://www.w3.org/2000/svg\" height=\"24px\" viewBox=\"0 -960 960 960\">\n",
              "    <path d=\"M120-120v-720h720v720H120Zm60-500h600v-160H180v160Zm220 220h160v-160H400v160Zm0 220h160v-160H400v160ZM180-400h160v-160H180v160Zm440 0h160v-160H620v160ZM180-180h160v-160H180v160Zm440 0h160v-160H620v160Z\"/>\n",
              "  </svg>\n",
              "    </button>\n",
              "\n",
              "  <style>\n",
              "    .colab-df-container {\n",
              "      display:flex;\n",
              "      gap: 12px;\n",
              "    }\n",
              "\n",
              "    .colab-df-convert {\n",
              "      background-color: #E8F0FE;\n",
              "      border: none;\n",
              "      border-radius: 50%;\n",
              "      cursor: pointer;\n",
              "      display: none;\n",
              "      fill: #1967D2;\n",
              "      height: 32px;\n",
              "      padding: 0 0 0 0;\n",
              "      width: 32px;\n",
              "    }\n",
              "\n",
              "    .colab-df-convert:hover {\n",
              "      background-color: #E2EBFA;\n",
              "      box-shadow: 0px 1px 2px rgba(60, 64, 67, 0.3), 0px 1px 3px 1px rgba(60, 64, 67, 0.15);\n",
              "      fill: #174EA6;\n",
              "    }\n",
              "\n",
              "    .colab-df-buttons div {\n",
              "      margin-bottom: 4px;\n",
              "    }\n",
              "\n",
              "    [theme=dark] .colab-df-convert {\n",
              "      background-color: #3B4455;\n",
              "      fill: #D2E3FC;\n",
              "    }\n",
              "\n",
              "    [theme=dark] .colab-df-convert:hover {\n",
              "      background-color: #434B5C;\n",
              "      box-shadow: 0px 1px 3px 1px rgba(0, 0, 0, 0.15);\n",
              "      filter: drop-shadow(0px 1px 2px rgba(0, 0, 0, 0.3));\n",
              "      fill: #FFFFFF;\n",
              "    }\n",
              "  </style>\n",
              "\n",
              "    <script>\n",
              "      const buttonEl =\n",
              "        document.querySelector('#df-9f27610a-28e5-4d0f-ab26-ecf382a7396f button.colab-df-convert');\n",
              "      buttonEl.style.display =\n",
              "        google.colab.kernel.accessAllowed ? 'block' : 'none';\n",
              "\n",
              "      async function convertToInteractive(key) {\n",
              "        const element = document.querySelector('#df-9f27610a-28e5-4d0f-ab26-ecf382a7396f');\n",
              "        const dataTable =\n",
              "          await google.colab.kernel.invokeFunction('convertToInteractive',\n",
              "                                                    [key], {});\n",
              "        if (!dataTable) return;\n",
              "\n",
              "        const docLinkHtml = 'Like what you see? Visit the ' +\n",
              "          '<a target=\"_blank\" href=https://colab.research.google.com/notebooks/data_table.ipynb>data table notebook</a>'\n",
              "          + ' to learn more about interactive tables.';\n",
              "        element.innerHTML = '';\n",
              "        dataTable['output_type'] = 'display_data';\n",
              "        await google.colab.output.renderOutput(dataTable, element);\n",
              "        const docLink = document.createElement('div');\n",
              "        docLink.innerHTML = docLinkHtml;\n",
              "        element.appendChild(docLink);\n",
              "      }\n",
              "    </script>\n",
              "  </div>\n",
              "\n",
              "\n",
              "<div id=\"df-559e6d57-acc0-4250-914b-4948953c7984\">\n",
              "  <button class=\"colab-df-quickchart\" onclick=\"quickchart('df-559e6d57-acc0-4250-914b-4948953c7984')\"\n",
              "            title=\"Suggest charts.\"\n",
              "            style=\"display:none;\">\n",
              "\n",
              "<svg xmlns=\"http://www.w3.org/2000/svg\" height=\"24px\"viewBox=\"0 0 24 24\"\n",
              "     width=\"24px\">\n",
              "    <g>\n",
              "        <path d=\"M19 3H5c-1.1 0-2 .9-2 2v14c0 1.1.9 2 2 2h14c1.1 0 2-.9 2-2V5c0-1.1-.9-2-2-2zM9 17H7v-7h2v7zm4 0h-2V7h2v10zm4 0h-2v-4h2v4z\"/>\n",
              "    </g>\n",
              "</svg>\n",
              "  </button>\n",
              "\n",
              "<style>\n",
              "  .colab-df-quickchart {\n",
              "      --bg-color: #E8F0FE;\n",
              "      --fill-color: #1967D2;\n",
              "      --hover-bg-color: #E2EBFA;\n",
              "      --hover-fill-color: #174EA6;\n",
              "      --disabled-fill-color: #AAA;\n",
              "      --disabled-bg-color: #DDD;\n",
              "  }\n",
              "\n",
              "  [theme=dark] .colab-df-quickchart {\n",
              "      --bg-color: #3B4455;\n",
              "      --fill-color: #D2E3FC;\n",
              "      --hover-bg-color: #434B5C;\n",
              "      --hover-fill-color: #FFFFFF;\n",
              "      --disabled-bg-color: #3B4455;\n",
              "      --disabled-fill-color: #666;\n",
              "  }\n",
              "\n",
              "  .colab-df-quickchart {\n",
              "    background-color: var(--bg-color);\n",
              "    border: none;\n",
              "    border-radius: 50%;\n",
              "    cursor: pointer;\n",
              "    display: none;\n",
              "    fill: var(--fill-color);\n",
              "    height: 32px;\n",
              "    padding: 0;\n",
              "    width: 32px;\n",
              "  }\n",
              "\n",
              "  .colab-df-quickchart:hover {\n",
              "    background-color: var(--hover-bg-color);\n",
              "    box-shadow: 0 1px 2px rgba(60, 64, 67, 0.3), 0 1px 3px 1px rgba(60, 64, 67, 0.15);\n",
              "    fill: var(--button-hover-fill-color);\n",
              "  }\n",
              "\n",
              "  .colab-df-quickchart-complete:disabled,\n",
              "  .colab-df-quickchart-complete:disabled:hover {\n",
              "    background-color: var(--disabled-bg-color);\n",
              "    fill: var(--disabled-fill-color);\n",
              "    box-shadow: none;\n",
              "  }\n",
              "\n",
              "  .colab-df-spinner {\n",
              "    border: 2px solid var(--fill-color);\n",
              "    border-color: transparent;\n",
              "    border-bottom-color: var(--fill-color);\n",
              "    animation:\n",
              "      spin 1s steps(1) infinite;\n",
              "  }\n",
              "\n",
              "  @keyframes spin {\n",
              "    0% {\n",
              "      border-color: transparent;\n",
              "      border-bottom-color: var(--fill-color);\n",
              "      border-left-color: var(--fill-color);\n",
              "    }\n",
              "    20% {\n",
              "      border-color: transparent;\n",
              "      border-left-color: var(--fill-color);\n",
              "      border-top-color: var(--fill-color);\n",
              "    }\n",
              "    30% {\n",
              "      border-color: transparent;\n",
              "      border-left-color: var(--fill-color);\n",
              "      border-top-color: var(--fill-color);\n",
              "      border-right-color: var(--fill-color);\n",
              "    }\n",
              "    40% {\n",
              "      border-color: transparent;\n",
              "      border-right-color: var(--fill-color);\n",
              "      border-top-color: var(--fill-color);\n",
              "    }\n",
              "    60% {\n",
              "      border-color: transparent;\n",
              "      border-right-color: var(--fill-color);\n",
              "    }\n",
              "    80% {\n",
              "      border-color: transparent;\n",
              "      border-right-color: var(--fill-color);\n",
              "      border-bottom-color: var(--fill-color);\n",
              "    }\n",
              "    90% {\n",
              "      border-color: transparent;\n",
              "      border-bottom-color: var(--fill-color);\n",
              "    }\n",
              "  }\n",
              "</style>\n",
              "\n",
              "  <script>\n",
              "    async function quickchart(key) {\n",
              "      const quickchartButtonEl =\n",
              "        document.querySelector('#' + key + ' button');\n",
              "      quickchartButtonEl.disabled = true;  // To prevent multiple clicks.\n",
              "      quickchartButtonEl.classList.add('colab-df-spinner');\n",
              "      try {\n",
              "        const charts = await google.colab.kernel.invokeFunction(\n",
              "            'suggestCharts', [key], {});\n",
              "      } catch (error) {\n",
              "        console.error('Error during call to suggestCharts:', error);\n",
              "      }\n",
              "      quickchartButtonEl.classList.remove('colab-df-spinner');\n",
              "      quickchartButtonEl.classList.add('colab-df-quickchart-complete');\n",
              "    }\n",
              "    (() => {\n",
              "      let quickchartButtonEl =\n",
              "        document.querySelector('#df-559e6d57-acc0-4250-914b-4948953c7984 button');\n",
              "      quickchartButtonEl.style.display =\n",
              "        google.colab.kernel.accessAllowed ? 'block' : 'none';\n",
              "    })();\n",
              "  </script>\n",
              "</div>\n",
              "    </div>\n",
              "  </div>\n"
            ]
          },
          "metadata": {},
          "execution_count": 7
        }
      ]
    },
    {
      "cell_type": "code",
      "source": [
        "#checking for null values\n",
        "df.isnull().any()"
      ],
      "metadata": {
        "colab": {
          "base_uri": "https://localhost:8080/"
        },
        "id": "MLBCxn-M3MGh",
        "outputId": "641e2e96-f198-4f22-eceb-8bdcb4ecfb02"
      },
      "execution_count": null,
      "outputs": [
        {
          "output_type": "execute_result",
          "data": {
            "text/plain": [
              "PassengerId    False\n",
              "Survived       False\n",
              "Pclass         False\n",
              "Name           False\n",
              "Sex            False\n",
              "Age             True\n",
              "SibSp          False\n",
              "Parch          False\n",
              "Ticket         False\n",
              "Fare            True\n",
              "Cabin           True\n",
              "Embarked       False\n",
              "dtype: bool"
            ]
          },
          "metadata": {},
          "execution_count": 8
        }
      ]
    },
    {
      "cell_type": "code",
      "source": [
        "df.isnull().sum()"
      ],
      "metadata": {
        "colab": {
          "base_uri": "https://localhost:8080/"
        },
        "id": "7MwshXcS9baK",
        "outputId": "99c0ff75-6a0e-4d89-a19c-392ba1d07a78"
      },
      "execution_count": null,
      "outputs": [
        {
          "output_type": "execute_result",
          "data": {
            "text/plain": [
              "PassengerId      0\n",
              "Survived         0\n",
              "Pclass           0\n",
              "Name             0\n",
              "Sex              0\n",
              "Age             86\n",
              "SibSp            0\n",
              "Parch            0\n",
              "Ticket           0\n",
              "Fare             1\n",
              "Cabin          327\n",
              "Embarked         0\n",
              "dtype: int64"
            ]
          },
          "metadata": {},
          "execution_count": 9
        }
      ]
    },
    {
      "cell_type": "code",
      "source": [
        "# dropping unnecessary columns\n",
        "df=df.drop(columns=['Name'])"
      ],
      "metadata": {
        "id": "nDy_i7Im3bmd"
      },
      "execution_count": null,
      "outputs": []
    },
    {
      "cell_type": "code",
      "source": [
        "df=df.drop(columns=['Ticket'])"
      ],
      "metadata": {
        "id": "V06RuvRH84oz"
      },
      "execution_count": null,
      "outputs": []
    },
    {
      "cell_type": "code",
      "source": [
        "df=df.drop(columns=['PassengerId'])"
      ],
      "metadata": {
        "id": "vv4i3YlnFcMU"
      },
      "execution_count": null,
      "outputs": []
    },
    {
      "cell_type": "markdown",
      "source": [
        "DATA VISUALISATION"
      ],
      "metadata": {
        "id": "zgaohqavFUeI"
      }
    },
    {
      "cell_type": "code",
      "source": [
        "#UNIVARIATE ANALYSIS\n",
        "plt.figure(figsize=(8, 5))\n",
        "plt.hist(df.Survived, bins=20, color='skyblue', edgecolor='black')\n",
        "plt.title('Distribution of Survival')\n",
        "plt.xlabel('Survived')\n",
        "plt.ylabel('Frequency')\n",
        "plt.show()"
      ],
      "metadata": {
        "colab": {
          "base_uri": "https://localhost:8080/",
          "height": 487
        },
        "id": "H_DYn1h29BJk",
        "outputId": "02aedea3-dc44-49de-9ddc-736086a432c5"
      },
      "execution_count": null,
      "outputs": [
        {
          "output_type": "display_data",
          "data": {
            "text/plain": [
              "<Figure size 800x500 with 1 Axes>"
            ],
            "image/png": "[encoded data removed]"
          },
          "metadata": {}
        }
      ]
    },
    {
      "cell_type": "code",
      "source": [
        "#BIVARIATE ANALYSIS\n",
        "plt.figure(figsize=(8, 5))\n",
        "sns.lineplot(data=df, x=df.Embarked, y=df.Survived, marker='o', color='blue')\n",
        "plt.title('Bivariate Line Plot with Seaborn')\n",
        "plt.xlabel('Embarked')\n",
        "plt.ylabel('Survived')\n",
        "plt.grid(True)\n",
        "plt.show()"
      ],
      "metadata": {
        "colab": {
          "base_uri": "https://localhost:8080/",
          "height": 487
        },
        "id": "1ZD4se_l-vnh",
        "outputId": "bfc7ca17-7588-41ff-f54b-813d9a0dc516"
      },
      "execution_count": null,
      "outputs": [
        {
          "output_type": "display_data",
          "data": {
            "text/plain": [
              "<Figure size 800x500 with 1 Axes>"
            ],
            "image/png": "[encoded data removed]"
          },
          "metadata": {}
        }
      ]
    },
    {
      "cell_type": "code",
      "source": [
        "#MULTIVARIATE ANALYSIS\n",
        "l=df.columns.tolist()\n",
        "\n",
        "sns.heatmap(df.corr(), annot=True, cmap='coolwarm', linewidths=1)\n",
        "plt.title(f'Correlation Heatmap between {\", \".join(l)}')\n",
        "plt.show()"
      ],
      "metadata": {
        "colab": {
          "base_uri": "https://localhost:8080/",
          "height": 508
        },
        "id": "l3P8zzsAAwUP",
        "outputId": "1db7ae5b-d95d-4396-8822-726f622e39b4"
      },
      "execution_count": null,
      "outputs": [
        {
          "output_type": "stream",
          "name": "stderr",
          "text": [
            "<ipython-input-15-07bb4379b848>:4: FutureWarning: The default value of numeric_only in DataFrame.corr is deprecated. In a future version, it will default to False. Select only valid columns or specify the value of numeric_only to silence this warning.\n",
            "  sns.heatmap(df.corr(), annot=True, cmap='coolwarm', linewidths=1)\n"
          ]
        },
        {
          "output_type": "display_data",
          "data": {
            "text/plain": [
              "<Figure size 640x480 with 2 Axes>"
            ],
            "image/png": "[encoded data removed]"
          },
          "metadata": {}
        }
      ]
    },
    {
      "cell_type": "code",
      "source": [
        "df.info()"
      ],
      "metadata": {
        "colab": {
          "base_uri": "https://localhost:8080/"
        },
        "id": "2RKA9yr9BPC7",
        "outputId": "20d0e6d5-8db0-4280-86a5-4ed6b1321edc"
      },
      "execution_count": null,
      "outputs": [
        {
          "output_type": "stream",
          "name": "stdout",
          "text": [
            "<class 'pandas.core.frame.DataFrame'>\n",
            "RangeIndex: 418 entries, 0 to 417\n",
            "Data columns (total 9 columns):\n",
            " #   Column    Non-Null Count  Dtype  \n",
            "---  ------    --------------  -----  \n",
            " 0   Survived  418 non-null    int64  \n",
            " 1   Pclass    418 non-null    int64  \n",
            " 2   Sex       418 non-null    object \n",
            " 3   Age       332 non-null    float64\n",
            " 4   SibSp     418 non-null    int64  \n",
            " 5   Parch     418 non-null    int64  \n",
            " 6   Fare      417 non-null    float64\n",
            " 7   Cabin     91 non-null     object \n",
            " 8   Embarked  418 non-null    object \n",
            "dtypes: float64(2), int64(4), object(3)\n",
            "memory usage: 29.5+ KB\n"
          ]
        }
      ]
    },
    {
      "cell_type": "code",
      "source": [
        "df=df.drop(columns=['Cabin'])"
      ],
      "metadata": {
        "id": "hTpLrYxsBdjM"
      },
      "execution_count": null,
      "outputs": []
    },
    {
      "cell_type": "code",
      "source": [
        "df.Age.median()"
      ],
      "metadata": {
        "colab": {
          "base_uri": "https://localhost:8080/"
        },
        "id": "txDzGaVTBjHc",
        "outputId": "9103b52b-8a1c-4610-89ec-e6f541aa92f2"
      },
      "execution_count": null,
      "outputs": [
        {
          "output_type": "execute_result",
          "data": {
            "text/plain": [
              "27.0"
            ]
          },
          "metadata": {},
          "execution_count": 18
        }
      ]
    },
    {
      "cell_type": "code",
      "source": [
        "#Dealing with the Null values\n",
        "df.Age=df.Age.fillna(df.Age.median())"
      ],
      "metadata": {
        "id": "ByZuA8awBpdQ"
      },
      "execution_count": null,
      "outputs": []
    },
    {
      "cell_type": "code",
      "source": [
        "df.info()"
      ],
      "metadata": {
        "colab": {
          "base_uri": "https://localhost:8080/"
        },
        "id": "vNdg8sv1CaDA",
        "outputId": "a728185d-ff36-4f32-86dc-3437730a1e2e"
      },
      "execution_count": null,
      "outputs": [
        {
          "output_type": "stream",
          "name": "stdout",
          "text": [
            "<class 'pandas.core.frame.DataFrame'>\n",
            "RangeIndex: 418 entries, 0 to 417\n",
            "Data columns (total 8 columns):\n",
            " #   Column    Non-Null Count  Dtype  \n",
            "---  ------    --------------  -----  \n",
            " 0   Survived  418 non-null    int64  \n",
            " 1   Pclass    418 non-null    int64  \n",
            " 2   Sex       418 non-null    object \n",
            " 3   Age       418 non-null    float64\n",
            " 4   SibSp     418 non-null    int64  \n",
            " 5   Parch     418 non-null    int64  \n",
            " 6   Fare      417 non-null    float64\n",
            " 7   Embarked  418 non-null    object \n",
            "dtypes: float64(2), int64(4), object(2)\n",
            "memory usage: 26.2+ KB\n"
          ]
        }
      ]
    },
    {
      "cell_type": "code",
      "source": [
        "df.Fare.median()"
      ],
      "metadata": {
        "colab": {
          "base_uri": "https://localhost:8080/"
        },
        "id": "bd5UEdvuCfB0",
        "outputId": "c212ab48-6d80-404d-f177-a2881b1917f4"
      },
      "execution_count": null,
      "outputs": [
        {
          "output_type": "execute_result",
          "data": {
            "text/plain": [
              "14.4542"
            ]
          },
          "metadata": {},
          "execution_count": 21
        }
      ]
    },
    {
      "cell_type": "code",
      "source": [
        "df.Fare=df.Fare.fillna(df.Fare.median())"
      ],
      "metadata": {
        "id": "KUPxJtRcCk0v"
      },
      "execution_count": null,
      "outputs": []
    },
    {
      "cell_type": "code",
      "source": [
        "df.info()"
      ],
      "metadata": {
        "colab": {
          "base_uri": "https://localhost:8080/"
        },
        "id": "1iRX6HHeCsgp",
        "outputId": "d33726e7-4ac8-4e57-c328-22f3502f5296"
      },
      "execution_count": null,
      "outputs": [
        {
          "output_type": "stream",
          "name": "stdout",
          "text": [
            "<class 'pandas.core.frame.DataFrame'>\n",
            "RangeIndex: 418 entries, 0 to 417\n",
            "Data columns (total 8 columns):\n",
            " #   Column    Non-Null Count  Dtype  \n",
            "---  ------    --------------  -----  \n",
            " 0   Survived  418 non-null    int64  \n",
            " 1   Pclass    418 non-null    int64  \n",
            " 2   Sex       418 non-null    object \n",
            " 3   Age       418 non-null    float64\n",
            " 4   SibSp     418 non-null    int64  \n",
            " 5   Parch     418 non-null    int64  \n",
            " 6   Fare      418 non-null    float64\n",
            " 7   Embarked  418 non-null    object \n",
            "dtypes: float64(2), int64(4), object(2)\n",
            "memory usage: 26.2+ KB\n"
          ]
        }
      ]
    },
    {
      "cell_type": "code",
      "source": [
        "from sklearn.preprocessing import LabelEncoder\n",
        "from sklearn.preprocessing import StandardScaler\n",
        "from sklearn.model_selection import train_test_split\n",
        "from scipy import stats\n",
        "from sklearn.linear_model import LinearRegression\n",
        "from sklearn import metrics"
      ],
      "metadata": {
        "id": "PbLTKBc2xZei"
      },
      "execution_count": null,
      "outputs": []
    },
    {
      "cell_type": "code",
      "source": [
        "#encoding the object columns\n",
        "le=LabelEncoder()"
      ],
      "metadata": {
        "id": "RzAIbdpAxsTl"
      },
      "execution_count": null,
      "outputs": []
    },
    {
      "cell_type": "code",
      "source": [
        "df.Embarked = le.fit_transform(df.Embarked)\n",
        "df.Sex = le.fit_transform(df.Sex)"
      ],
      "metadata": {
        "id": "GyBRc-3qyHzg"
      },
      "execution_count": null,
      "outputs": []
    },
    {
      "cell_type": "code",
      "source": [
        "#implementing boxplot to check for outliers\n",
        "for i in df.columns.tolist():\n",
        "  plt.boxplot(df[i])\n",
        "  plt.title('Box Plot for {}'.format(i))\n",
        "  plt.ylabel(i.capitalize())\n",
        "  plt.show()"
      ],
      "metadata": {
        "colab": {
          "base_uri": "https://localhost:8080/",
          "height": 1000
        },
        "id": "6MrZwJYCCu4w",
        "outputId": "951dd7f0-cad8-43da-cff6-c40e979c84f8"
      },
      "execution_count": null,
      "outputs": [
        {
          "output_type": "display_data",
          "data": {
            "text/plain": [
              "<Figure size 640x480 with 1 Axes>"
            ],
            "image/png": "[encoded data removed]"
          },
          "metadata": {}
        },
        {
          "output_type": "display_data",
          "data": {
            "text/plain": [
              "<Figure size 640x480 with 1 Axes>"
            ],
            "image/png": "[encoded data removed]"
          },
          "metadata": {}
        },
        {
          "output_type": "display_data",
          "data": {
            "text/plain": [
              "<Figure size 640x480 with 1 Axes>"
            ],
            "image/png": "[encoded data removed]"
          },
          "metadata": {}
        },
        {
          "output_type": "display_data",
          "data": {
            "text/plain": [
              "<Figure size 640x480 with 1 Axes>"
            ],
            "image/png": "[encoded data removed]"
          },
          "metadata": {}
        },
        {
          "output_type": "display_data",
          "data": {
            "text/plain": [
              "<Figure size 640x480 with 1 Axes>"
            ],
            "image/png": "[encoded data removed]"
          },
          "metadata": {}
        },
        {
          "output_type": "display_data",
          "data": {
            "text/plain": [
              "<Figure size 640x480 with 1 Axes>"
            ],
            "image/png": "[encoded data removed]"
          },
          "metadata": {}
        },
        {
          "output_type": "display_data",
          "data": {
            "text/plain": [
              "<Figure size 640x480 with 1 Axes>"
            ],
            "image/png": "[encoded data removed]"
          },
          "metadata": {}
        },
        {
          "output_type": "display_data",
          "data": {
            "text/plain": [
              "<Figure size 640x480 with 1 Axes>"
            ],
            "image/png": "[encoded data removed]"
          },
          "metadata": {}
        }
      ]
    },
    {
      "cell_type": "code",
      "source": [
        "#check the number of outliers\n",
        "x=df.columns.tolist()\n",
        "for i in x:\n",
        "    q1 = df[i].quantile(0.25)\n",
        "    q3 = df[i].quantile(0.75)\n",
        "    IQR = q3 - q1\n",
        "    lb = q1 - 1.5 * IQR\n",
        "    ub = q3 + 1.5 * IQR\n",
        "    s = 0\n",
        "    for j in df[i]:\n",
        "        if j < lb or j > ub:\n",
        "            s += 1\n",
        "    print('Number of Outliers in {}: {}'.format(i, s))"
      ],
      "metadata": {
        "colab": {
          "base_uri": "https://localhost:8080/"
        },
        "id": "E5qqkX3eskmM",
        "outputId": "bd78cc83-833a-4d0f-a13f-f1243d9fb05b"
      },
      "execution_count": null,
      "outputs": [
        {
          "output_type": "stream",
          "name": "stdout",
          "text": [
            "Number of Outliers in Survived: 0\n",
            "Number of Outliers in Pclass: 0\n",
            "Number of Outliers in Sex: 0\n",
            "Number of Outliers in Age: 36\n",
            "Number of Outliers in SibSp: 11\n",
            "Number of Outliers in Parch: 94\n",
            "Number of Outliers in Fare: 55\n",
            "Number of Outliers in Embarked: 0\n"
          ]
        }
      ]
    },
    {
      "cell_type": "code",
      "source": [
        "#Treating outliers\n",
        "def replace_outliers_with_median(data, column, lower_bound, upper_bound):\n",
        "    median = data[column].median()\n",
        "    data[column] = data[column].apply(lambda x: median if x < lower_bound or x > upper_bound else x)\n",
        "    return data\n",
        "\n",
        "x=df.columns.tolist()\n",
        "\n",
        "\n",
        "print(x)\n",
        "for i in x:\n",
        "    q1 = df[i].quantile(0.25)\n",
        "    q3 = df[i].quantile(0.75)\n",
        "    IQR = q3 - q1\n",
        "    lower_bound = q1 - 1.5 * IQR\n",
        "    upper_bound = q3 + 1.5 * IQR\n",
        "    df = replace_outliers_with_median(df, i, lower_bound, upper_bound)"
      ],
      "metadata": {
        "colab": {
          "base_uri": "https://localhost:8080/"
        },
        "id": "pd3TbwEe0SLn",
        "outputId": "de5af967-a63e-4339-e2c5-7a75fce3d9e0"
      },
      "execution_count": null,
      "outputs": [
        {
          "output_type": "stream",
          "name": "stdout",
          "text": [
            "['Survived', 'Pclass', 'Sex', 'Age', 'SibSp', 'Parch', 'Fare', 'Embarked']\n"
          ]
        }
      ]
    },
    {
      "cell_type": "code",
      "source": [
        "x=df.columns.tolist()\n",
        "for i in x:\n",
        "    q1 = df[i].quantile(0.25)\n",
        "    q3 = df[i].quantile(0.75)\n",
        "    IQR = q3 - q1\n",
        "    lb = q1 - 1.5 * IQR\n",
        "    ub = q3 + 1.5 * IQR\n",
        "    s = 0\n",
        "    for j in df[i]:\n",
        "        if j < lb or j > ub:\n",
        "            s += 1\n",
        "    print('Number of Outliers in {}: {}'.format(i, s))"
      ],
      "metadata": {
        "colab": {
          "base_uri": "https://localhost:8080/"
        },
        "id": "EjuuG51H0kwv",
        "outputId": "6564b365-a983-4ab2-ee62-dfd23fb6fa68"
      },
      "execution_count": null,
      "outputs": [
        {
          "output_type": "stream",
          "name": "stdout",
          "text": [
            "Number of Outliers in Survived: 0\n",
            "Number of Outliers in Pclass: 0\n",
            "Number of Outliers in Sex: 0\n",
            "Number of Outliers in Age: 63\n",
            "Number of Outliers in SibSp: 0\n",
            "Number of Outliers in Parch: 0\n",
            "Number of Outliers in Fare: 30\n",
            "Number of Outliers in Embarked: 0\n"
          ]
        }
      ]
    },
    {
      "cell_type": "code",
      "source": [
        "df.head()"
      ],
      "metadata": {
        "colab": {
          "base_uri": "https://localhost:8080/",
          "height": 206
        },
        "id": "tntnbOkGv3zH",
        "outputId": "fb09a248-e254-42a4-fec7-5c66b352ae2a"
      },
      "execution_count": null,
      "outputs": [
        {
          "output_type": "execute_result",
          "data": {
            "text/plain": [
              "   Survived  Pclass  Sex   Age  SibSp  Parch     Fare  Embarked\n",
              "0         0       3    1  34.5    0.0    0.0   7.8292         1\n",
              "1         1       3    0  47.0    1.0    0.0   7.0000         2\n",
              "2         0       2    1  27.0    0.0    0.0   9.6875         1\n",
              "3         0       3    1  27.0    0.0    0.0   8.6625         2\n",
              "4         1       3    0  22.0    1.0    0.0  12.2875         2"
            ],
            "text/html": [
              "\n",
              "  <div id=\"df-7d9f374c-a7b6-42b6-ab3c-8902d6a99474\" class=\"colab-df-container\">\n",
              "    <div>\n",
              "<style scoped>\n",
              "    .dataframe tbody tr th:only-of-type {\n",
              "        vertical-align: middle;\n",
              "    }\n",
              "\n",
              "    .dataframe tbody tr th {\n",
              "        vertical-align: top;\n",
              "    }\n",
              "\n",
              "    .dataframe thead th {\n",
              "        text-align: right;\n",
              "    }\n",
              "</style>\n",
              "<table border=\"1\" class=\"dataframe\">\n",
              "  <thead>\n",
              "    <tr style=\"text-align: right;\">\n",
              "      <th></th>\n",
              "      <th>Survived</th>\n",
              "      <th>Pclass</th>\n",
              "      <th>Sex</th>\n",
              "      <th>Age</th>\n",
              "      <th>SibSp</th>\n",
              "      <th>Parch</th>\n",
              "      <th>Fare</th>\n",
              "      <th>Embarked</th>\n",
              "    </tr>\n",
              "  </thead>\n",
              "  <tbody>\n",
              "    <tr>\n",
              "      <th>0</th>\n",
              "      <td>0</td>\n",
              "      <td>3</td>\n",
              "      <td>1</td>\n",
              "      <td>34.5</td>\n",
              "      <td>0.0</td>\n",
              "      <td>0.0</td>\n",
              "      <td>7.8292</td>\n",
              "      <td>1</td>\n",
              "    </tr>\n",
              "    <tr>\n",
              "      <th>1</th>\n",
              "      <td>1</td>\n",
              "      <td>3</td>\n",
              "      <td>0</td>\n",
              "      <td>47.0</td>\n",
              "      <td>1.0</td>\n",
              "      <td>0.0</td>\n",
              "      <td>7.0000</td>\n",
              "      <td>2</td>\n",
              "    </tr>\n",
              "    <tr>\n",
              "      <th>2</th>\n",
              "      <td>0</td>\n",
              "      <td>2</td>\n",
              "      <td>1</td>\n",
              "      <td>27.0</td>\n",
              "      <td>0.0</td>\n",
              "      <td>0.0</td>\n",
              "      <td>9.6875</td>\n",
              "      <td>1</td>\n",
              "    </tr>\n",
              "    <tr>\n",
              "      <th>3</th>\n",
              "      <td>0</td>\n",
              "      <td>3</td>\n",
              "      <td>1</td>\n",
              "      <td>27.0</td>\n",
              "      <td>0.0</td>\n",
              "      <td>0.0</td>\n",
              "      <td>8.6625</td>\n",
              "      <td>2</td>\n",
              "    </tr>\n",
              "    <tr>\n",
              "      <th>4</th>\n",
              "      <td>1</td>\n",
              "      <td>3</td>\n",
              "      <td>0</td>\n",
              "      <td>22.0</td>\n",
              "      <td>1.0</td>\n",
              "      <td>0.0</td>\n",
              "      <td>12.2875</td>\n",
              "      <td>2</td>\n",
              "    </tr>\n",
              "  </tbody>\n",
              "</table>\n",
              "</div>\n",
              "    <div class=\"colab-df-buttons\">\n",
              "\n",
              "  <div class=\"colab-df-container\">\n",
              "    <button class=\"colab-df-convert\" onclick=\"convertToInteractive('df-7d9f374c-a7b6-42b6-ab3c-8902d6a99474')\"\n",
              "            title=\"Convert this dataframe to an interactive table.\"\n",
              "            style=\"display:none;\">\n",
              "\n",
              "  <svg xmlns=\"http://www.w3.org/2000/svg\" height=\"24px\" viewBox=\"0 -960 960 960\">\n",
              "    <path d=\"M120-120v-720h720v720H120Zm60-500h600v-160H180v160Zm220 220h160v-160H400v160Zm0 220h160v-160H400v160ZM180-400h160v-160H180v160Zm440 0h160v-160H620v160ZM180-180h160v-160H180v160Zm440 0h160v-160H620v160Z\"/>\n",
              "  </svg>\n",
              "    </button>\n",
              "\n",
              "  <style>\n",
              "    .colab-df-container {\n",
              "      display:flex;\n",
              "      gap: 12px;\n",
              "    }\n",
              "\n",
              "    .colab-df-convert {\n",
              "      background-color: #E8F0FE;\n",
              "      border: none;\n",
              "      border-radius: 50%;\n",
              "      cursor: pointer;\n",
              "      display: none;\n",
              "      fill: #1967D2;\n",
              "      height: 32px;\n",
              "      padding: 0 0 0 0;\n",
              "      width: 32px;\n",
              "    }\n",
              "\n",
              "    .colab-df-convert:hover {\n",
              "      background-color: #E2EBFA;\n",
              "      box-shadow: 0px 1px 2px rgba(60, 64, 67, 0.3), 0px 1px 3px 1px rgba(60, 64, 67, 0.15);\n",
              "      fill: #174EA6;\n",
              "    }\n",
              "\n",
              "    .colab-df-buttons div {\n",
              "      margin-bottom: 4px;\n",
              "    }\n",
              "\n",
              "    [theme=dark] .colab-df-convert {\n",
              "      background-color: #3B4455;\n",
              "      fill: #D2E3FC;\n",
              "    }\n",
              "\n",
              "    [theme=dark] .colab-df-convert:hover {\n",
              "      background-color: #434B5C;\n",
              "      box-shadow: 0px 1px 3px 1px rgba(0, 0, 0, 0.15);\n",
              "      filter: drop-shadow(0px 1px 2px rgba(0, 0, 0, 0.3));\n",
              "      fill: #FFFFFF;\n",
              "    }\n",
              "  </style>\n",
              "\n",
              "    <script>\n",
              "      const buttonEl =\n",
              "        document.querySelector('#df-7d9f374c-a7b6-42b6-ab3c-8902d6a99474 button.colab-df-convert');\n",
              "      buttonEl.style.display =\n",
              "        google.colab.kernel.accessAllowed ? 'block' : 'none';\n",
              "\n",
              "      async function convertToInteractive(key) {\n",
              "        const element = document.querySelector('#df-7d9f374c-a7b6-42b6-ab3c-8902d6a99474');\n",
              "        const dataTable =\n",
              "          await google.colab.kernel.invokeFunction('convertToInteractive',\n",
              "                                                    [key], {});\n",
              "        if (!dataTable) return;\n",
              "\n",
              "        const docLinkHtml = 'Like what you see? Visit the ' +\n",
              "          '<a target=\"_blank\" href=https://colab.research.google.com/notebooks/data_table.ipynb>data table notebook</a>'\n",
              "          + ' to learn more about interactive tables.';\n",
              "        element.innerHTML = '';\n",
              "        dataTable['output_type'] = 'display_data';\n",
              "        await google.colab.output.renderOutput(dataTable, element);\n",
              "        const docLink = document.createElement('div');\n",
              "        docLink.innerHTML = docLinkHtml;\n",
              "        element.appendChild(docLink);\n",
              "      }\n",
              "    </script>\n",
              "  </div>\n",
              "\n",
              "\n",
              "<div id=\"df-078231f6-40c7-4fe7-8fc6-3473f7032032\">\n",
              "  <button class=\"colab-df-quickchart\" onclick=\"quickchart('df-078231f6-40c7-4fe7-8fc6-3473f7032032')\"\n",
              "            title=\"Suggest charts.\"\n",
              "            style=\"display:none;\">\n",
              "\n",
              "<svg xmlns=\"http://www.w3.org/2000/svg\" height=\"24px\"viewBox=\"0 0 24 24\"\n",
              "     width=\"24px\">\n",
              "    <g>\n",
              "        <path d=\"M19 3H5c-1.1 0-2 .9-2 2v14c0 1.1.9 2 2 2h14c1.1 0 2-.9 2-2V5c0-1.1-.9-2-2-2zM9 17H7v-7h2v7zm4 0h-2V7h2v10zm4 0h-2v-4h2v4z\"/>\n",
              "    </g>\n",
              "</svg>\n",
              "  </button>\n",
              "\n",
              "<style>\n",
              "  .colab-df-quickchart {\n",
              "      --bg-color: #E8F0FE;\n",
              "      --fill-color: #1967D2;\n",
              "      --hover-bg-color: #E2EBFA;\n",
              "      --hover-fill-color: #174EA6;\n",
              "      --disabled-fill-color: #AAA;\n",
              "      --disabled-bg-color: #DDD;\n",
              "  }\n",
              "\n",
              "  [theme=dark] .colab-df-quickchart {\n",
              "      --bg-color: #3B4455;\n",
              "      --fill-color: #D2E3FC;\n",
              "      --hover-bg-color: #434B5C;\n",
              "      --hover-fill-color: #FFFFFF;\n",
              "      --disabled-bg-color: #3B4455;\n",
              "      --disabled-fill-color: #666;\n",
              "  }\n",
              "\n",
              "  .colab-df-quickchart {\n",
              "    background-color: var(--bg-color);\n",
              "    border: none;\n",
              "    border-radius: 50%;\n",
              "    cursor: pointer;\n",
              "    display: none;\n",
              "    fill: var(--fill-color);\n",
              "    height: 32px;\n",
              "    padding: 0;\n",
              "    width: 32px;\n",
              "  }\n",
              "\n",
              "  .colab-df-quickchart:hover {\n",
              "    background-color: var(--hover-bg-color);\n",
              "    box-shadow: 0 1px 2px rgba(60, 64, 67, 0.3), 0 1px 3px 1px rgba(60, 64, 67, 0.15);\n",
              "    fill: var(--button-hover-fill-color);\n",
              "  }\n",
              "\n",
              "  .colab-df-quickchart-complete:disabled,\n",
              "  .colab-df-quickchart-complete:disabled:hover {\n",
              "    background-color: var(--disabled-bg-color);\n",
              "    fill: var(--disabled-fill-color);\n",
              "    box-shadow: none;\n",
              "  }\n",
              "\n",
              "  .colab-df-spinner {\n",
              "    border: 2px solid var(--fill-color);\n",
              "    border-color: transparent;\n",
              "    border-bottom-color: var(--fill-color);\n",
              "    animation:\n",
              "      spin 1s steps(1) infinite;\n",
              "  }\n",
              "\n",
              "  @keyframes spin {\n",
              "    0% {\n",
              "      border-color: transparent;\n",
              "      border-bottom-color: var(--fill-color);\n",
              "      border-left-color: var(--fill-color);\n",
              "    }\n",
              "    20% {\n",
              "      border-color: transparent;\n",
              "      border-left-color: var(--fill-color);\n",
              "      border-top-color: var(--fill-color);\n",
              "    }\n",
              "    30% {\n",
              "      border-color: transparent;\n",
              "      border-left-color: var(--fill-color);\n",
              "      border-top-color: var(--fill-color);\n",
              "      border-right-color: var(--fill-color);\n",
              "    }\n",
              "    40% {\n",
              "      border-color: transparent;\n",
              "      border-right-color: var(--fill-color);\n",
              "      border-top-color: var(--fill-color);\n",
              "    }\n",
              "    60% {\n",
              "      border-color: transparent;\n",
              "      border-right-color: var(--fill-color);\n",
              "    }\n",
              "    80% {\n",
              "      border-color: transparent;\n",
              "      border-right-color: var(--fill-color);\n",
              "      border-bottom-color: var(--fill-color);\n",
              "    }\n",
              "    90% {\n",
              "      border-color: transparent;\n",
              "      border-bottom-color: var(--fill-color);\n",
              "    }\n",
              "  }\n",
              "</style>\n",
              "\n",
              "  <script>\n",
              "    async function quickchart(key) {\n",
              "      const quickchartButtonEl =\n",
              "        document.querySelector('#' + key + ' button');\n",
              "      quickchartButtonEl.disabled = true;  // To prevent multiple clicks.\n",
              "      quickchartButtonEl.classList.add('colab-df-spinner');\n",
              "      try {\n",
              "        const charts = await google.colab.kernel.invokeFunction(\n",
              "            'suggestCharts', [key], {});\n",
              "      } catch (error) {\n",
              "        console.error('Error during call to suggestCharts:', error);\n",
              "      }\n",
              "      quickchartButtonEl.classList.remove('colab-df-spinner');\n",
              "      quickchartButtonEl.classList.add('colab-df-quickchart-complete');\n",
              "    }\n",
              "    (() => {\n",
              "      let quickchartButtonEl =\n",
              "        document.querySelector('#df-078231f6-40c7-4fe7-8fc6-3473f7032032 button');\n",
              "      quickchartButtonEl.style.display =\n",
              "        google.colab.kernel.accessAllowed ? 'block' : 'none';\n",
              "    })();\n",
              "  </script>\n",
              "</div>\n",
              "    </div>\n",
              "  </div>\n"
            ]
          },
          "metadata": {},
          "execution_count": 31
        }
      ]
    },
    {
      "cell_type": "markdown",
      "source": [
        "Splitting into x and y"
      ],
      "metadata": {
        "id": "rSK54gOGGGlB"
      }
    },
    {
      "cell_type": "code",
      "source": [
        "y=df.Survived\n",
        "y"
      ],
      "metadata": {
        "colab": {
          "base_uri": "https://localhost:8080/"
        },
        "id": "2f6TqXsW4KDq",
        "outputId": "2cc88daf-3a76-4be3-f486-3ee02e75dd3b"
      },
      "execution_count": null,
      "outputs": [
        {
          "output_type": "execute_result",
          "data": {
            "text/plain": [
              "0      0\n",
              "1      1\n",
              "2      0\n",
              "3      0\n",
              "4      1\n",
              "      ..\n",
              "413    0\n",
              "414    1\n",
              "415    0\n",
              "416    0\n",
              "417    0\n",
              "Name: Survived, Length: 418, dtype: int64"
            ]
          },
          "metadata": {},
          "execution_count": 32
        }
      ]
    },
    {
      "cell_type": "code",
      "source": [
        "x=df.drop(columns=['Survived'])\n",
        "x"
      ],
      "metadata": {
        "colab": {
          "base_uri": "https://localhost:8080/",
          "height": 423
        },
        "id": "wlI2GLJf4iiE",
        "outputId": "3d6a677c-e040-49df-8cec-6ae7bafc2baa"
      },
      "execution_count": null,
      "outputs": [
        {
          "output_type": "execute_result",
          "data": {
            "text/plain": [
              "     Pclass  Sex   Age  SibSp  Parch     Fare  Embarked\n",
              "0         3    1  34.5    0.0    0.0   7.8292         1\n",
              "1         3    0  47.0    1.0    0.0   7.0000         2\n",
              "2         2    1  27.0    0.0    0.0   9.6875         1\n",
              "3         3    1  27.0    0.0    0.0   8.6625         2\n",
              "4         3    0  22.0    1.0    0.0  12.2875         2\n",
              "..      ...  ...   ...    ...    ...      ...       ...\n",
              "413       3    1  27.0    0.0    0.0   8.0500         2\n",
              "414       1    0  39.0    0.0    0.0  14.4542         0\n",
              "415       3    1  38.5    0.0    0.0   7.2500         2\n",
              "416       3    1  27.0    0.0    0.0   8.0500         2\n",
              "417       3    1  27.0    1.0    0.0  22.3583         0\n",
              "\n",
              "[418 rows x 7 columns]"
            ],
            "text/html": [
              "\n",
              "  <div id=\"df-6bcc485f-9dcd-41ea-95ca-77c1a08b9aac\" class=\"colab-df-container\">\n",
              "    <div>\n",
              "<style scoped>\n",
              "    .dataframe tbody tr th:only-of-type {\n",
              "        vertical-align: middle;\n",
              "    }\n",
              "\n",
              "    .dataframe tbody tr th {\n",
              "        vertical-align: top;\n",
              "    }\n",
              "\n",
              "    .dataframe thead th {\n",
              "        text-align: right;\n",
              "    }\n",
              "</style>\n",
              "<table border=\"1\" class=\"dataframe\">\n",
              "  <thead>\n",
              "    <tr style=\"text-align: right;\">\n",
              "      <th></th>\n",
              "      <th>Pclass</th>\n",
              "      <th>Sex</th>\n",
              "      <th>Age</th>\n",
              "      <th>SibSp</th>\n",
              "      <th>Parch</th>\n",
              "      <th>Fare</th>\n",
              "      <th>Embarked</th>\n",
              "    </tr>\n",
              "  </thead>\n",
              "  <tbody>\n",
              "    <tr>\n",
              "      <th>0</th>\n",
              "      <td>3</td>\n",
              "      <td>1</td>\n",
              "      <td>34.5</td>\n",
              "      <td>0.0</td>\n",
              "      <td>0.0</td>\n",
              "      <td>7.8292</td>\n",
              "      <td>1</td>\n",
              "    </tr>\n",
              "    <tr>\n",
              "      <th>1</th>\n",
              "      <td>3</td>\n",
              "      <td>0</td>\n",
              "      <td>47.0</td>\n",
              "      <td>1.0</td>\n",
              "      <td>0.0</td>\n",
              "      <td>7.0000</td>\n",
              "      <td>2</td>\n",
              "    </tr>\n",
              "    <tr>\n",
              "      <th>2</th>\n",
              "      <td>2</td>\n",
              "      <td>1</td>\n",
              "      <td>27.0</td>\n",
              "      <td>0.0</td>\n",
              "      <td>0.0</td>\n",
              "      <td>9.6875</td>\n",
              "      <td>1</td>\n",
              "    </tr>\n",
              "    <tr>\n",
              "      <th>3</th>\n",
              "      <td>3</td>\n",
              "      <td>1</td>\n",
              "      <td>27.0</td>\n",
              "      <td>0.0</td>\n",
              "      <td>0.0</td>\n",
              "      <td>8.6625</td>\n",
              "      <td>2</td>\n",
              "    </tr>\n",
              "    <tr>\n",
              "      <th>4</th>\n",
              "      <td>3</td>\n",
              "      <td>0</td>\n",
              "      <td>22.0</td>\n",
              "      <td>1.0</td>\n",
              "      <td>0.0</td>\n",
              "      <td>12.2875</td>\n",
              "      <td>2</td>\n",
              "    </tr>\n",
              "    <tr>\n",
              "      <th>...</th>\n",
              "      <td>...</td>\n",
              "      <td>...</td>\n",
              "      <td>...</td>\n",
              "      <td>...</td>\n",
              "      <td>...</td>\n",
              "      <td>...</td>\n",
              "      <td>...</td>\n",
              "    </tr>\n",
              "    <tr>\n",
              "      <th>413</th>\n",
              "      <td>3</td>\n",
              "      <td>1</td>\n",
              "      <td>27.0</td>\n",
              "      <td>0.0</td>\n",
              "      <td>0.0</td>\n",
              "      <td>8.0500</td>\n",
              "      <td>2</td>\n",
              "    </tr>\n",
              "    <tr>\n",
              "      <th>414</th>\n",
              "      <td>1</td>\n",
              "      <td>0</td>\n",
              "      <td>39.0</td>\n",
              "      <td>0.0</td>\n",
              "      <td>0.0</td>\n",
              "      <td>14.4542</td>\n",
              "      <td>0</td>\n",
              "    </tr>\n",
              "    <tr>\n",
              "      <th>415</th>\n",
              "      <td>3</td>\n",
              "      <td>1</td>\n",
              "      <td>38.5</td>\n",
              "      <td>0.0</td>\n",
              "      <td>0.0</td>\n",
              "      <td>7.2500</td>\n",
              "      <td>2</td>\n",
              "    </tr>\n",
              "    <tr>\n",
              "      <th>416</th>\n",
              "      <td>3</td>\n",
              "      <td>1</td>\n",
              "      <td>27.0</td>\n",
              "      <td>0.0</td>\n",
              "      <td>0.0</td>\n",
              "      <td>8.0500</td>\n",
              "      <td>2</td>\n",
              "    </tr>\n",
              "    <tr>\n",
              "      <th>417</th>\n",
              "      <td>3</td>\n",
              "      <td>1</td>\n",
              "      <td>27.0</td>\n",
              "      <td>1.0</td>\n",
              "      <td>0.0</td>\n",
              "      <td>22.3583</td>\n",
              "      <td>0</td>\n",
              "    </tr>\n",
              "  </tbody>\n",
              "</table>\n",
              "<p>418 rows × 7 columns</p>\n",
              "</div>\n",
              "    <div class=\"colab-df-buttons\">\n",
              "\n",
              "  <div class=\"colab-df-container\">\n",
              "    <button class=\"colab-df-convert\" onclick=\"convertToInteractive('df-6bcc485f-9dcd-41ea-95ca-77c1a08b9aac')\"\n",
              "            title=\"Convert this dataframe to an interactive table.\"\n",
              "            style=\"display:none;\">\n",
              "\n",
              "  <svg xmlns=\"http://www.w3.org/2000/svg\" height=\"24px\" viewBox=\"0 -960 960 960\">\n",
              "    <path d=\"M120-120v-720h720v720H120Zm60-500h600v-160H180v160Zm220 220h160v-160H400v160Zm0 220h160v-160H400v160ZM180-400h160v-160H180v160Zm440 0h160v-160H620v160ZM180-180h160v-160H180v160Zm440 0h160v-160H620v160Z\"/>\n",
              "  </svg>\n",
              "    </button>\n",
              "\n",
              "  <style>\n",
              "    .colab-df-container {\n",
              "      display:flex;\n",
              "      gap: 12px;\n",
              "    }\n",
              "\n",
              "    .colab-df-convert {\n",
              "      background-color: #E8F0FE;\n",
              "      border: none;\n",
              "      border-radius: 50%;\n",
              "      cursor: pointer;\n",
              "      display: none;\n",
              "      fill: #1967D2;\n",
              "      height: 32px;\n",
              "      padding: 0 0 0 0;\n",
              "      width: 32px;\n",
              "    }\n",
              "\n",
              "    .colab-df-convert:hover {\n",
              "      background-color: #E2EBFA;\n",
              "      box-shadow: 0px 1px 2px rgba(60, 64, 67, 0.3), 0px 1px 3px 1px rgba(60, 64, 67, 0.15);\n",
              "      fill: #174EA6;\n",
              "    }\n",
              "\n",
              "    .colab-df-buttons div {\n",
              "      margin-bottom: 4px;\n",
              "    }\n",
              "\n",
              "    [theme=dark] .colab-df-convert {\n",
              "      background-color: #3B4455;\n",
              "      fill: #D2E3FC;\n",
              "    }\n",
              "\n",
              "    [theme=dark] .colab-df-convert:hover {\n",
              "      background-color: #434B5C;\n",
              "      box-shadow: 0px 1px 3px 1px rgba(0, 0, 0, 0.15);\n",
              "      filter: drop-shadow(0px 1px 2px rgba(0, 0, 0, 0.3));\n",
              "      fill: #FFFFFF;\n",
              "    }\n",
              "  </style>\n",
              "\n",
              "    <script>\n",
              "      const buttonEl =\n",
              "        document.querySelector('#df-6bcc485f-9dcd-41ea-95ca-77c1a08b9aac button.colab-df-convert');\n",
              "      buttonEl.style.display =\n",
              "        google.colab.kernel.accessAllowed ? 'block' : 'none';\n",
              "\n",
              "      async function convertToInteractive(key) {\n",
              "        const element = document.querySelector('#df-6bcc485f-9dcd-41ea-95ca-77c1a08b9aac');\n",
              "        const dataTable =\n",
              "          await google.colab.kernel.invokeFunction('convertToInteractive',\n",
              "                                                    [key], {});\n",
              "        if (!dataTable) return;\n",
              "\n",
              "        const docLinkHtml = 'Like what you see? Visit the ' +\n",
              "          '<a target=\"_blank\" href=https://colab.research.google.com/notebooks/data_table.ipynb>data table notebook</a>'\n",
              "          + ' to learn more about interactive tables.';\n",
              "        element.innerHTML = '';\n",
              "        dataTable['output_type'] = 'display_data';\n",
              "        await google.colab.output.renderOutput(dataTable, element);\n",
              "        const docLink = document.createElement('div');\n",
              "        docLink.innerHTML = docLinkHtml;\n",
              "        element.appendChild(docLink);\n",
              "      }\n",
              "    </script>\n",
              "  </div>\n",
              "\n",
              "\n",
              "<div id=\"df-0d47928f-3222-4ecf-a560-1e72a8fa9ec9\">\n",
              "  <button class=\"colab-df-quickchart\" onclick=\"quickchart('df-0d47928f-3222-4ecf-a560-1e72a8fa9ec9')\"\n",
              "            title=\"Suggest charts.\"\n",
              "            style=\"display:none;\">\n",
              "\n",
              "<svg xmlns=\"http://www.w3.org/2000/svg\" height=\"24px\"viewBox=\"0 0 24 24\"\n",
              "     width=\"24px\">\n",
              "    <g>\n",
              "        <path d=\"M19 3H5c-1.1 0-2 .9-2 2v14c0 1.1.9 2 2 2h14c1.1 0 2-.9 2-2V5c0-1.1-.9-2-2-2zM9 17H7v-7h2v7zm4 0h-2V7h2v10zm4 0h-2v-4h2v4z\"/>\n",
              "    </g>\n",
              "</svg>\n",
              "  </button>\n",
              "\n",
              "<style>\n",
              "  .colab-df-quickchart {\n",
              "      --bg-color: #E8F0FE;\n",
              "      --fill-color: #1967D2;\n",
              "      --hover-bg-color: #E2EBFA;\n",
              "      --hover-fill-color: #174EA6;\n",
              "      --disabled-fill-color: #AAA;\n",
              "      --disabled-bg-color: #DDD;\n",
              "  }\n",
              "\n",
              "  [theme=dark] .colab-df-quickchart {\n",
              "      --bg-color: #3B4455;\n",
              "      --fill-color: #D2E3FC;\n",
              "      --hover-bg-color: #434B5C;\n",
              "      --hover-fill-color: #FFFFFF;\n",
              "      --disabled-bg-color: #3B4455;\n",
              "      --disabled-fill-color: #666;\n",
              "  }\n",
              "\n",
              "  .colab-df-quickchart {\n",
              "    background-color: var(--bg-color);\n",
              "    border: none;\n",
              "    border-radius: 50%;\n",
              "    cursor: pointer;\n",
              "    display: none;\n",
              "    fill: var(--fill-color);\n",
              "    height: 32px;\n",
              "    padding: 0;\n",
              "    width: 32px;\n",
              "  }\n",
              "\n",
              "  .colab-df-quickchart:hover {\n",
              "    background-color: var(--hover-bg-color);\n",
              "    box-shadow: 0 1px 2px rgba(60, 64, 67, 0.3), 0 1px 3px 1px rgba(60, 64, 67, 0.15);\n",
              "    fill: var(--button-hover-fill-color);\n",
              "  }\n",
              "\n",
              "  .colab-df-quickchart-complete:disabled,\n",
              "  .colab-df-quickchart-complete:disabled:hover {\n",
              "    background-color: var(--disabled-bg-color);\n",
              "    fill: var(--disabled-fill-color);\n",
              "    box-shadow: none;\n",
              "  }\n",
              "\n",
              "  .colab-df-spinner {\n",
              "    border: 2px solid var(--fill-color);\n",
              "    border-color: transparent;\n",
              "    border-bottom-color: var(--fill-color);\n",
              "    animation:\n",
              "      spin 1s steps(1) infinite;\n",
              "  }\n",
              "\n",
              "  @keyframes spin {\n",
              "    0% {\n",
              "      border-color: transparent;\n",
              "      border-bottom-color: var(--fill-color);\n",
              "      border-left-color: var(--fill-color);\n",
              "    }\n",
              "    20% {\n",
              "      border-color: transparent;\n",
              "      border-left-color: var(--fill-color);\n",
              "      border-top-color: var(--fill-color);\n",
              "    }\n",
              "    30% {\n",
              "      border-color: transparent;\n",
              "      border-left-color: var(--fill-color);\n",
              "      border-top-color: var(--fill-color);\n",
              "      border-right-color: var(--fill-color);\n",
              "    }\n",
              "    40% {\n",
              "      border-color: transparent;\n",
              "      border-right-color: var(--fill-color);\n",
              "      border-top-color: var(--fill-color);\n",
              "    }\n",
              "    60% {\n",
              "      border-color: transparent;\n",
              "      border-right-color: var(--fill-color);\n",
              "    }\n",
              "    80% {\n",
              "      border-color: transparent;\n",
              "      border-right-color: var(--fill-color);\n",
              "      border-bottom-color: var(--fill-color);\n",
              "    }\n",
              "    90% {\n",
              "      border-color: transparent;\n",
              "      border-bottom-color: var(--fill-color);\n",
              "    }\n",
              "  }\n",
              "</style>\n",
              "\n",
              "  <script>\n",
              "    async function quickchart(key) {\n",
              "      const quickchartButtonEl =\n",
              "        document.querySelector('#' + key + ' button');\n",
              "      quickchartButtonEl.disabled = true;  // To prevent multiple clicks.\n",
              "      quickchartButtonEl.classList.add('colab-df-spinner');\n",
              "      try {\n",
              "        const charts = await google.colab.kernel.invokeFunction(\n",
              "            'suggestCharts', [key], {});\n",
              "      } catch (error) {\n",
              "        console.error('Error during call to suggestCharts:', error);\n",
              "      }\n",
              "      quickchartButtonEl.classList.remove('colab-df-spinner');\n",
              "      quickchartButtonEl.classList.add('colab-df-quickchart-complete');\n",
              "    }\n",
              "    (() => {\n",
              "      let quickchartButtonEl =\n",
              "        document.querySelector('#df-0d47928f-3222-4ecf-a560-1e72a8fa9ec9 button');\n",
              "      quickchartButtonEl.style.display =\n",
              "        google.colab.kernel.accessAllowed ? 'block' : 'none';\n",
              "    })();\n",
              "  </script>\n",
              "</div>\n",
              "    </div>\n",
              "  </div>\n"
            ]
          },
          "metadata": {},
          "execution_count": 33
        }
      ]
    },
    {
      "cell_type": "code",
      "source": [
        "#scaling to standerdise\n",
        "from sklearn.preprocessing import MinMaxScaler\n",
        "scale=MinMaxScaler()"
      ],
      "metadata": {
        "id": "lB0dnUDn4sg8"
      },
      "execution_count": null,
      "outputs": []
    },
    {
      "cell_type": "code",
      "source": [
        "X_scaled= pd.DataFrame(scale.fit_transform(x),columns =x.columns)\n",
        "X_scaled.head()"
      ],
      "metadata": {
        "colab": {
          "base_uri": "https://localhost:8080/",
          "height": 206
        },
        "id": "VZ5gJvdA4zWs",
        "outputId": "13ce3b1d-5eee-4fee-972a-b1b8afd4411e"
      },
      "execution_count": null,
      "outputs": [
        {
          "output_type": "execute_result",
          "data": {
            "text/plain": [
              "   Pclass  Sex       Age  SibSp  Parch      Fare  Embarked\n",
              "0     1.0  1.0  0.602041    0.0    0.0  0.120449       0.5\n",
              "1     1.0  0.0  0.857143    0.5    0.0  0.107692       1.0\n",
              "2     0.5  1.0  0.448980    0.0    0.0  0.149038       0.5\n",
              "3     1.0  1.0  0.448980    0.0    0.0  0.133269       1.0\n",
              "4     1.0  0.0  0.346939    0.5    0.0  0.189038       1.0"
            ],
            "text/html": [
              "\n",
              "  <div id=\"df-1840d632-b68c-449f-94a1-4dd5a379a123\" class=\"colab-df-container\">\n",
              "    <div>\n",
              "<style scoped>\n",
              "    .dataframe tbody tr th:only-of-type {\n",
              "        vertical-align: middle;\n",
              "    }\n",
              "\n",
              "    .dataframe tbody tr th {\n",
              "        vertical-align: top;\n",
              "    }\n",
              "\n",
              "    .dataframe thead th {\n",
              "        text-align: right;\n",
              "    }\n",
              "</style>\n",
              "<table border=\"1\" class=\"dataframe\">\n",
              "  <thead>\n",
              "    <tr style=\"text-align: right;\">\n",
              "      <th></th>\n",
              "      <th>Pclass</th>\n",
              "      <th>Sex</th>\n",
              "      <th>Age</th>\n",
              "      <th>SibSp</th>\n",
              "      <th>Parch</th>\n",
              "      <th>Fare</th>\n",
              "      <th>Embarked</th>\n",
              "    </tr>\n",
              "  </thead>\n",
              "  <tbody>\n",
              "    <tr>\n",
              "      <th>0</th>\n",
              "      <td>1.0</td>\n",
              "      <td>1.0</td>\n",
              "      <td>0.602041</td>\n",
              "      <td>0.0</td>\n",
              "      <td>0.0</td>\n",
              "      <td>0.120449</td>\n",
              "      <td>0.5</td>\n",
              "    </tr>\n",
              "    <tr>\n",
              "      <th>1</th>\n",
              "      <td>1.0</td>\n",
              "      <td>0.0</td>\n",
              "      <td>0.857143</td>\n",
              "      <td>0.5</td>\n",
              "      <td>0.0</td>\n",
              "      <td>0.107692</td>\n",
              "      <td>1.0</td>\n",
              "    </tr>\n",
              "    <tr>\n",
              "      <th>2</th>\n",
              "      <td>0.5</td>\n",
              "      <td>1.0</td>\n",
              "      <td>0.448980</td>\n",
              "      <td>0.0</td>\n",
              "      <td>0.0</td>\n",
              "      <td>0.149038</td>\n",
              "      <td>0.5</td>\n",
              "    </tr>\n",
              "    <tr>\n",
              "      <th>3</th>\n",
              "      <td>1.0</td>\n",
              "      <td>1.0</td>\n",
              "      <td>0.448980</td>\n",
              "      <td>0.0</td>\n",
              "      <td>0.0</td>\n",
              "      <td>0.133269</td>\n",
              "      <td>1.0</td>\n",
              "    </tr>\n",
              "    <tr>\n",
              "      <th>4</th>\n",
              "      <td>1.0</td>\n",
              "      <td>0.0</td>\n",
              "      <td>0.346939</td>\n",
              "      <td>0.5</td>\n",
              "      <td>0.0</td>\n",
              "      <td>0.189038</td>\n",
              "      <td>1.0</td>\n",
              "    </tr>\n",
              "  </tbody>\n",
              "</table>\n",
              "</div>\n",
              "    <div class=\"colab-df-buttons\">\n",
              "\n",
              "  <div class=\"colab-df-container\">\n",
              "    <button class=\"colab-df-convert\" onclick=\"convertToInteractive('df-1840d632-b68c-449f-94a1-4dd5a379a123')\"\n",
              "            title=\"Convert this dataframe to an interactive table.\"\n",
              "            style=\"display:none;\">\n",
              "\n",
              "  <svg xmlns=\"http://www.w3.org/2000/svg\" height=\"24px\" viewBox=\"0 -960 960 960\">\n",
              "    <path d=\"M120-120v-720h720v720H120Zm60-500h600v-160H180v160Zm220 220h160v-160H400v160Zm0 220h160v-160H400v160ZM180-400h160v-160H180v160Zm440 0h160v-160H620v160ZM180-180h160v-160H180v160Zm440 0h160v-160H620v160Z\"/>\n",
              "  </svg>\n",
              "    </button>\n",
              "\n",
              "  <style>\n",
              "    .colab-df-container {\n",
              "      display:flex;\n",
              "      gap: 12px;\n",
              "    }\n",
              "\n",
              "    .colab-df-convert {\n",
              "      background-color: #E8F0FE;\n",
              "      border: none;\n",
              "      border-radius: 50%;\n",
              "      cursor: pointer;\n",
              "      display: none;\n",
              "      fill: #1967D2;\n",
              "      height: 32px;\n",
              "      padding: 0 0 0 0;\n",
              "      width: 32px;\n",
              "    }\n",
              "\n",
              "    .colab-df-convert:hover {\n",
              "      background-color: #E2EBFA;\n",
              "      box-shadow: 0px 1px 2px rgba(60, 64, 67, 0.3), 0px 1px 3px 1px rgba(60, 64, 67, 0.15);\n",
              "      fill: #174EA6;\n",
              "    }\n",
              "\n",
              "    .colab-df-buttons div {\n",
              "      margin-bottom: 4px;\n",
              "    }\n",
              "\n",
              "    [theme=dark] .colab-df-convert {\n",
              "      background-color: #3B4455;\n",
              "      fill: #D2E3FC;\n",
              "    }\n",
              "\n",
              "    [theme=dark] .colab-df-convert:hover {\n",
              "      background-color: #434B5C;\n",
              "      box-shadow: 0px 1px 3px 1px rgba(0, 0, 0, 0.15);\n",
              "      filter: drop-shadow(0px 1px 2px rgba(0, 0, 0, 0.3));\n",
              "      fill: #FFFFFF;\n",
              "    }\n",
              "  </style>\n",
              "\n",
              "    <script>\n",
              "      const buttonEl =\n",
              "        document.querySelector('#df-1840d632-b68c-449f-94a1-4dd5a379a123 button.colab-df-convert');\n",
              "      buttonEl.style.display =\n",
              "        google.colab.kernel.accessAllowed ? 'block' : 'none';\n",
              "\n",
              "      async function convertToInteractive(key) {\n",
              "        const element = document.querySelector('#df-1840d632-b68c-449f-94a1-4dd5a379a123');\n",
              "        const dataTable =\n",
              "          await google.colab.kernel.invokeFunction('convertToInteractive',\n",
              "                                                    [key], {});\n",
              "        if (!dataTable) return;\n",
              "\n",
              "        const docLinkHtml = 'Like what you see? Visit the ' +\n",
              "          '<a target=\"_blank\" href=https://colab.research.google.com/notebooks/data_table.ipynb>data table notebook</a>'\n",
              "          + ' to learn more about interactive tables.';\n",
              "        element.innerHTML = '';\n",
              "        dataTable['output_type'] = 'display_data';\n",
              "        await google.colab.output.renderOutput(dataTable, element);\n",
              "        const docLink = document.createElement('div');\n",
              "        docLink.innerHTML = docLinkHtml;\n",
              "        element.appendChild(docLink);\n",
              "      }\n",
              "    </script>\n",
              "  </div>\n",
              "\n",
              "\n",
              "<div id=\"df-06e5e3ef-66da-43bd-aa0e-476b25e82ed3\">\n",
              "  <button class=\"colab-df-quickchart\" onclick=\"quickchart('df-06e5e3ef-66da-43bd-aa0e-476b25e82ed3')\"\n",
              "            title=\"Suggest charts.\"\n",
              "            style=\"display:none;\">\n",
              "\n",
              "<svg xmlns=\"http://www.w3.org/2000/svg\" height=\"24px\"viewBox=\"0 0 24 24\"\n",
              "     width=\"24px\">\n",
              "    <g>\n",
              "        <path d=\"M19 3H5c-1.1 0-2 .9-2 2v14c0 1.1.9 2 2 2h14c1.1 0 2-.9 2-2V5c0-1.1-.9-2-2-2zM9 17H7v-7h2v7zm4 0h-2V7h2v10zm4 0h-2v-4h2v4z\"/>\n",
              "    </g>\n",
              "</svg>\n",
              "  </button>\n",
              "\n",
              "<style>\n",
              "  .colab-df-quickchart {\n",
              "      --bg-color: #E8F0FE;\n",
              "      --fill-color: #1967D2;\n",
              "      --hover-bg-color: #E2EBFA;\n",
              "      --hover-fill-color: #174EA6;\n",
              "      --disabled-fill-color: #AAA;\n",
              "      --disabled-bg-color: #DDD;\n",
              "  }\n",
              "\n",
              "  [theme=dark] .colab-df-quickchart {\n",
              "      --bg-color: #3B4455;\n",
              "      --fill-color: #D2E3FC;\n",
              "      --hover-bg-color: #434B5C;\n",
              "      --hover-fill-color: #FFFFFF;\n",
              "      --disabled-bg-color: #3B4455;\n",
              "      --disabled-fill-color: #666;\n",
              "  }\n",
              "\n",
              "  .colab-df-quickchart {\n",
              "    background-color: var(--bg-color);\n",
              "    border: none;\n",
              "    border-radius: 50%;\n",
              "    cursor: pointer;\n",
              "    display: none;\n",
              "    fill: var(--fill-color);\n",
              "    height: 32px;\n",
              "    padding: 0;\n",
              "    width: 32px;\n",
              "  }\n",
              "\n",
              "  .colab-df-quickchart:hover {\n",
              "    background-color: var(--hover-bg-color);\n",
              "    box-shadow: 0 1px 2px rgba(60, 64, 67, 0.3), 0 1px 3px 1px rgba(60, 64, 67, 0.15);\n",
              "    fill: var(--button-hover-fill-color);\n",
              "  }\n",
              "\n",
              "  .colab-df-quickchart-complete:disabled,\n",
              "  .colab-df-quickchart-complete:disabled:hover {\n",
              "    background-color: var(--disabled-bg-color);\n",
              "    fill: var(--disabled-fill-color);\n",
              "    box-shadow: none;\n",
              "  }\n",
              "\n",
              "  .colab-df-spinner {\n",
              "    border: 2px solid var(--fill-color);\n",
              "    border-color: transparent;\n",
              "    border-bottom-color: var(--fill-color);\n",
              "    animation:\n",
              "      spin 1s steps(1) infinite;\n",
              "  }\n",
              "\n",
              "  @keyframes spin {\n",
              "    0% {\n",
              "      border-color: transparent;\n",
              "      border-bottom-color: var(--fill-color);\n",
              "      border-left-color: var(--fill-color);\n",
              "    }\n",
              "    20% {\n",
              "      border-color: transparent;\n",
              "      border-left-color: var(--fill-color);\n",
              "      border-top-color: var(--fill-color);\n",
              "    }\n",
              "    30% {\n",
              "      border-color: transparent;\n",
              "      border-left-color: var(--fill-color);\n",
              "      border-top-color: var(--fill-color);\n",
              "      border-right-color: var(--fill-color);\n",
              "    }\n",
              "    40% {\n",
              "      border-color: transparent;\n",
              "      border-right-color: var(--fill-color);\n",
              "      border-top-color: var(--fill-color);\n",
              "    }\n",
              "    60% {\n",
              "      border-color: transparent;\n",
              "      border-right-color: var(--fill-color);\n",
              "    }\n",
              "    80% {\n",
              "      border-color: transparent;\n",
              "      border-right-color: var(--fill-color);\n",
              "      border-bottom-color: var(--fill-color);\n",
              "    }\n",
              "    90% {\n",
              "      border-color: transparent;\n",
              "      border-bottom-color: var(--fill-color);\n",
              "    }\n",
              "  }\n",
              "</style>\n",
              "\n",
              "  <script>\n",
              "    async function quickchart(key) {\n",
              "      const quickchartButtonEl =\n",
              "        document.querySelector('#' + key + ' button');\n",
              "      quickchartButtonEl.disabled = true;  // To prevent multiple clicks.\n",
              "      quickchartButtonEl.classList.add('colab-df-spinner');\n",
              "      try {\n",
              "        const charts = await google.colab.kernel.invokeFunction(\n",
              "            'suggestCharts', [key], {});\n",
              "      } catch (error) {\n",
              "        console.error('Error during call to suggestCharts:', error);\n",
              "      }\n",
              "      quickchartButtonEl.classList.remove('colab-df-spinner');\n",
              "      quickchartButtonEl.classList.add('colab-df-quickchart-complete');\n",
              "    }\n",
              "    (() => {\n",
              "      let quickchartButtonEl =\n",
              "        document.querySelector('#df-06e5e3ef-66da-43bd-aa0e-476b25e82ed3 button');\n",
              "      quickchartButtonEl.style.display =\n",
              "        google.colab.kernel.accessAllowed ? 'block' : 'none';\n",
              "    })();\n",
              "  </script>\n",
              "</div>\n",
              "    </div>\n",
              "  </div>\n"
            ]
          },
          "metadata": {},
          "execution_count": 35
        }
      ]
    },
    {
      "cell_type": "code",
      "source": [
        "#train test split\n",
        "from sklearn.model_selection import train_test_split\n",
        "x_train,x_test,y_train,y_test=train_test_split(X_scaled,y,test_size=0.3,random_state=0)\n"
      ],
      "metadata": {
        "id": "4VjQ5V3m49mC"
      },
      "execution_count": null,
      "outputs": []
    },
    {
      "cell_type": "code",
      "source": [
        "x_train.head()"
      ],
      "metadata": {
        "colab": {
          "base_uri": "https://localhost:8080/",
          "height": 206
        },
        "id": "ScGk2NTu5DLB",
        "outputId": "e9e4ca52-1fb8-474f-ecc3-1cea35e832fe"
      },
      "execution_count": null,
      "outputs": [
        {
          "output_type": "execute_result",
          "data": {
            "text/plain": [
              "     Pclass  Sex       Age  SibSp  Parch      Fare  Embarked\n",
              "96      0.0  0.0  0.448980    0.5    0.0  0.222372       1.0\n",
              "381     1.0  1.0  0.428571    0.0    0.0  0.121218       0.5\n",
              "89      0.5  1.0  0.448980    0.5    0.0  0.353846       1.0\n",
              "233     1.0  1.0  0.448980    0.0    0.0  0.121218       0.5\n",
              "191     0.0  1.0  0.448980    0.0    0.0  0.400000       1.0"
            ],
            "text/html": [
              "\n",
              "  <div id=\"df-b4169652-3677-4839-9953-1125ff4a384b\" class=\"colab-df-container\">\n",
              "    <div>\n",
              "<style scoped>\n",
              "    .dataframe tbody tr th:only-of-type {\n",
              "        vertical-align: middle;\n",
              "    }\n",
              "\n",
              "    .dataframe tbody tr th {\n",
              "        vertical-align: top;\n",
              "    }\n",
              "\n",
              "    .dataframe thead th {\n",
              "        text-align: right;\n",
              "    }\n",
              "</style>\n",
              "<table border=\"1\" class=\"dataframe\">\n",
              "  <thead>\n",
              "    <tr style=\"text-align: right;\">\n",
              "      <th></th>\n",
              "      <th>Pclass</th>\n",
              "      <th>Sex</th>\n",
              "      <th>Age</th>\n",
              "      <th>SibSp</th>\n",
              "      <th>Parch</th>\n",
              "      <th>Fare</th>\n",
              "      <th>Embarked</th>\n",
              "    </tr>\n",
              "  </thead>\n",
              "  <tbody>\n",
              "    <tr>\n",
              "      <th>96</th>\n",
              "      <td>0.0</td>\n",
              "      <td>0.0</td>\n",
              "      <td>0.448980</td>\n",
              "      <td>0.5</td>\n",
              "      <td>0.0</td>\n",
              "      <td>0.222372</td>\n",
              "      <td>1.0</td>\n",
              "    </tr>\n",
              "    <tr>\n",
              "      <th>381</th>\n",
              "      <td>1.0</td>\n",
              "      <td>1.0</td>\n",
              "      <td>0.428571</td>\n",
              "      <td>0.0</td>\n",
              "      <td>0.0</td>\n",
              "      <td>0.121218</td>\n",
              "      <td>0.5</td>\n",
              "    </tr>\n",
              "    <tr>\n",
              "      <th>89</th>\n",
              "      <td>0.5</td>\n",
              "      <td>1.0</td>\n",
              "      <td>0.448980</td>\n",
              "      <td>0.5</td>\n",
              "      <td>0.0</td>\n",
              "      <td>0.353846</td>\n",
              "      <td>1.0</td>\n",
              "    </tr>\n",
              "    <tr>\n",
              "      <th>233</th>\n",
              "      <td>1.0</td>\n",
              "      <td>1.0</td>\n",
              "      <td>0.448980</td>\n",
              "      <td>0.0</td>\n",
              "      <td>0.0</td>\n",
              "      <td>0.121218</td>\n",
              "      <td>0.5</td>\n",
              "    </tr>\n",
              "    <tr>\n",
              "      <th>191</th>\n",
              "      <td>0.0</td>\n",
              "      <td>1.0</td>\n",
              "      <td>0.448980</td>\n",
              "      <td>0.0</td>\n",
              "      <td>0.0</td>\n",
              "      <td>0.400000</td>\n",
              "      <td>1.0</td>\n",
              "    </tr>\n",
              "  </tbody>\n",
              "</table>\n",
              "</div>\n",
              "    <div class=\"colab-df-buttons\">\n",
              "\n",
              "  <div class=\"colab-df-container\">\n",
              "    <button class=\"colab-df-convert\" onclick=\"convertToInteractive('df-b4169652-3677-4839-9953-1125ff4a384b')\"\n",
              "            title=\"Convert this dataframe to an interactive table.\"\n",
              "            style=\"display:none;\">\n",
              "\n",
              "  <svg xmlns=\"http://www.w3.org/2000/svg\" height=\"24px\" viewBox=\"0 -960 960 960\">\n",
              "    <path d=\"M120-120v-720h720v720H120Zm60-500h600v-160H180v160Zm220 220h160v-160H400v160Zm0 220h160v-160H400v160ZM180-400h160v-160H180v160Zm440 0h160v-160H620v160ZM180-180h160v-160H180v160Zm440 0h160v-160H620v160Z\"/>\n",
              "  </svg>\n",
              "    </button>\n",
              "\n",
              "  <style>\n",
              "    .colab-df-container {\n",
              "      display:flex;\n",
              "      gap: 12px;\n",
              "    }\n",
              "\n",
              "    .colab-df-convert {\n",
              "      background-color: #E8F0FE;\n",
              "      border: none;\n",
              "      border-radius: 50%;\n",
              "      cursor: pointer;\n",
              "      display: none;\n",
              "      fill: #1967D2;\n",
              "      height: 32px;\n",
              "      padding: 0 0 0 0;\n",
              "      width: 32px;\n",
              "    }\n",
              "\n",
              "    .colab-df-convert:hover {\n",
              "      background-color: #E2EBFA;\n",
              "      box-shadow: 0px 1px 2px rgba(60, 64, 67, 0.3), 0px 1px 3px 1px rgba(60, 64, 67, 0.15);\n",
              "      fill: #174EA6;\n",
              "    }\n",
              "\n",
              "    .colab-df-buttons div {\n",
              "      margin-bottom: 4px;\n",
              "    }\n",
              "\n",
              "    [theme=dark] .colab-df-convert {\n",
              "      background-color: #3B4455;\n",
              "      fill: #D2E3FC;\n",
              "    }\n",
              "\n",
              "    [theme=dark] .colab-df-convert:hover {\n",
              "      background-color: #434B5C;\n",
              "      box-shadow: 0px 1px 3px 1px rgba(0, 0, 0, 0.15);\n",
              "      filter: drop-shadow(0px 1px 2px rgba(0, 0, 0, 0.3));\n",
              "      fill: #FFFFFF;\n",
              "    }\n",
              "  </style>\n",
              "\n",
              "    <script>\n",
              "      const buttonEl =\n",
              "        document.querySelector('#df-b4169652-3677-4839-9953-1125ff4a384b button.colab-df-convert');\n",
              "      buttonEl.style.display =\n",
              "        google.colab.kernel.accessAllowed ? 'block' : 'none';\n",
              "\n",
              "      async function convertToInteractive(key) {\n",
              "        const element = document.querySelector('#df-b4169652-3677-4839-9953-1125ff4a384b');\n",
              "        const dataTable =\n",
              "          await google.colab.kernel.invokeFunction('convertToInteractive',\n",
              "                                                    [key], {});\n",
              "        if (!dataTable) return;\n",
              "\n",
              "        const docLinkHtml = 'Like what you see? Visit the ' +\n",
              "          '<a target=\"_blank\" href=https://colab.research.google.com/notebooks/data_table.ipynb>data table notebook</a>'\n",
              "          + ' to learn more about interactive tables.';\n",
              "        element.innerHTML = '';\n",
              "        dataTable['output_type'] = 'display_data';\n",
              "        await google.colab.output.renderOutput(dataTable, element);\n",
              "        const docLink = document.createElement('div');\n",
              "        docLink.innerHTML = docLinkHtml;\n",
              "        element.appendChild(docLink);\n",
              "      }\n",
              "    </script>\n",
              "  </div>\n",
              "\n",
              "\n",
              "<div id=\"df-e26dfd59-bda1-4a0b-9df4-db275e71c423\">\n",
              "  <button class=\"colab-df-quickchart\" onclick=\"quickchart('df-e26dfd59-bda1-4a0b-9df4-db275e71c423')\"\n",
              "            title=\"Suggest charts.\"\n",
              "            style=\"display:none;\">\n",
              "\n",
              "<svg xmlns=\"http://www.w3.org/2000/svg\" height=\"24px\"viewBox=\"0 0 24 24\"\n",
              "     width=\"24px\">\n",
              "    <g>\n",
              "        <path d=\"M19 3H5c-1.1 0-2 .9-2 2v14c0 1.1.9 2 2 2h14c1.1 0 2-.9 2-2V5c0-1.1-.9-2-2-2zM9 17H7v-7h2v7zm4 0h-2V7h2v10zm4 0h-2v-4h2v4z\"/>\n",
              "    </g>\n",
              "</svg>\n",
              "  </button>\n",
              "\n",
              "<style>\n",
              "  .colab-df-quickchart {\n",
              "      --bg-color: #E8F0FE;\n",
              "      --fill-color: #1967D2;\n",
              "      --hover-bg-color: #E2EBFA;\n",
              "      --hover-fill-color: #174EA6;\n",
              "      --disabled-fill-color: #AAA;\n",
              "      --disabled-bg-color: #DDD;\n",
              "  }\n",
              "\n",
              "  [theme=dark] .colab-df-quickchart {\n",
              "      --bg-color: #3B4455;\n",
              "      --fill-color: #D2E3FC;\n",
              "      --hover-bg-color: #434B5C;\n",
              "      --hover-fill-color: #FFFFFF;\n",
              "      --disabled-bg-color: #3B4455;\n",
              "      --disabled-fill-color: #666;\n",
              "  }\n",
              "\n",
              "  .colab-df-quickchart {\n",
              "    background-color: var(--bg-color);\n",
              "    border: none;\n",
              "    border-radius: 50%;\n",
              "    cursor: pointer;\n",
              "    display: none;\n",
              "    fill: var(--fill-color);\n",
              "    height: 32px;\n",
              "    padding: 0;\n",
              "    width: 32px;\n",
              "  }\n",
              "\n",
              "  .colab-df-quickchart:hover {\n",
              "    background-color: var(--hover-bg-color);\n",
              "    box-shadow: 0 1px 2px rgba(60, 64, 67, 0.3), 0 1px 3px 1px rgba(60, 64, 67, 0.15);\n",
              "    fill: var(--button-hover-fill-color);\n",
              "  }\n",
              "\n",
              "  .colab-df-quickchart-complete:disabled,\n",
              "  .colab-df-quickchart-complete:disabled:hover {\n",
              "    background-color: var(--disabled-bg-color);\n",
              "    fill: var(--disabled-fill-color);\n",
              "    box-shadow: none;\n",
              "  }\n",
              "\n",
              "  .colab-df-spinner {\n",
              "    border: 2px solid var(--fill-color);\n",
              "    border-color: transparent;\n",
              "    border-bottom-color: var(--fill-color);\n",
              "    animation:\n",
              "      spin 1s steps(1) infinite;\n",
              "  }\n",
              "\n",
              "  @keyframes spin {\n",
              "    0% {\n",
              "      border-color: transparent;\n",
              "      border-bottom-color: var(--fill-color);\n",
              "      border-left-color: var(--fill-color);\n",
              "    }\n",
              "    20% {\n",
              "      border-color: transparent;\n",
              "      border-left-color: var(--fill-color);\n",
              "      border-top-color: var(--fill-color);\n",
              "    }\n",
              "    30% {\n",
              "      border-color: transparent;\n",
              "      border-left-color: var(--fill-color);\n",
              "      border-top-color: var(--fill-color);\n",
              "      border-right-color: var(--fill-color);\n",
              "    }\n",
              "    40% {\n",
              "      border-color: transparent;\n",
              "      border-right-color: var(--fill-color);\n",
              "      border-top-color: var(--fill-color);\n",
              "    }\n",
              "    60% {\n",
              "      border-color: transparent;\n",
              "      border-right-color: var(--fill-color);\n",
              "    }\n",
              "    80% {\n",
              "      border-color: transparent;\n",
              "      border-right-color: var(--fill-color);\n",
              "      border-bottom-color: var(--fill-color);\n",
              "    }\n",
              "    90% {\n",
              "      border-color: transparent;\n",
              "      border-bottom-color: var(--fill-color);\n",
              "    }\n",
              "  }\n",
              "</style>\n",
              "\n",
              "  <script>\n",
              "    async function quickchart(key) {\n",
              "      const quickchartButtonEl =\n",
              "        document.querySelector('#' + key + ' button');\n",
              "      quickchartButtonEl.disabled = true;  // To prevent multiple clicks.\n",
              "      quickchartButtonEl.classList.add('colab-df-spinner');\n",
              "      try {\n",
              "        const charts = await google.colab.kernel.invokeFunction(\n",
              "            'suggestCharts', [key], {});\n",
              "      } catch (error) {\n",
              "        console.error('Error during call to suggestCharts:', error);\n",
              "      }\n",
              "      quickchartButtonEl.classList.remove('colab-df-spinner');\n",
              "      quickchartButtonEl.classList.add('colab-df-quickchart-complete');\n",
              "    }\n",
              "    (() => {\n",
              "      let quickchartButtonEl =\n",
              "        document.querySelector('#df-e26dfd59-bda1-4a0b-9df4-db275e71c423 button');\n",
              "      quickchartButtonEl.style.display =\n",
              "        google.colab.kernel.accessAllowed ? 'block' : 'none';\n",
              "    })();\n",
              "  </script>\n",
              "</div>\n",
              "    </div>\n",
              "  </div>\n"
            ]
          },
          "metadata": {},
          "execution_count": 37
        }
      ]
    },
    {
      "cell_type": "code",
      "source": [
        "x_train.shape"
      ],
      "metadata": {
        "colab": {
          "base_uri": "https://localhost:8080/"
        },
        "id": "YJDBkeec5GKJ",
        "outputId": "4b3733f6-fd35-44b4-fea0-22d6cf0d6249"
      },
      "execution_count": null,
      "outputs": [
        {
          "output_type": "execute_result",
          "data": {
            "text/plain": [
              "(292, 7)"
            ]
          },
          "metadata": {},
          "execution_count": 38
        }
      ]
    },
    {
      "cell_type": "code",
      "source": [
        "x_test.shape"
      ],
      "metadata": {
        "colab": {
          "base_uri": "https://localhost:8080/"
        },
        "id": "V8CLZj_05WoP",
        "outputId": "57c54256-883f-4244-8259-20f1f74a8aec"
      },
      "execution_count": null,
      "outputs": [
        {
          "output_type": "execute_result",
          "data": {
            "text/plain": [
              "(126, 7)"
            ]
          },
          "metadata": {},
          "execution_count": 39
        }
      ]
    },
    {
      "cell_type": "code",
      "source": [
        "df.Survived.value_counts()"
      ],
      "metadata": {
        "colab": {
          "base_uri": "https://localhost:8080/"
        },
        "id": "4fdUVPjH6r1i",
        "outputId": "b9c971d1-db9b-49ba-9bee-624056816199"
      },
      "execution_count": null,
      "outputs": [
        {
          "output_type": "execute_result",
          "data": {
            "text/plain": [
              "0    266\n",
              "1    152\n",
              "Name: Survived, dtype: int64"
            ]
          },
          "metadata": {},
          "execution_count": 40
        }
      ]
    },
    {
      "cell_type": "code",
      "source": [
        "# only treat the training data to avoid bias\n",
        "from imblearn.over_sampling import SMOTE"
      ],
      "metadata": {
        "id": "CmKZPUvUCcVS"
      },
      "execution_count": null,
      "outputs": []
    },
    {
      "cell_type": "code",
      "source": [
        "smote = SMOTE()"
      ],
      "metadata": {
        "id": "aHcWywh3DFT6"
      },
      "execution_count": null,
      "outputs": []
    },
    {
      "cell_type": "code",
      "source": [
        "x_train_smote,y_train_smote = smote.fit_resample(x_train,y_train)"
      ],
      "metadata": {
        "id": "GOeGK8zQDITd"
      },
      "execution_count": null,
      "outputs": []
    },
    {
      "cell_type": "code",
      "source": [
        "y_train.value_counts()"
      ],
      "metadata": {
        "colab": {
          "base_uri": "https://localhost:8080/"
        },
        "id": "WdjLah81DQlU",
        "outputId": "44065a19-67c0-46a0-c5cf-907993ffc32e"
      },
      "execution_count": null,
      "outputs": [
        {
          "output_type": "execute_result",
          "data": {
            "text/plain": [
              "0    195\n",
              "1     97\n",
              "Name: Survived, dtype: int64"
            ]
          },
          "metadata": {},
          "execution_count": 44
        }
      ]
    },
    {
      "cell_type": "code",
      "source": [
        "y_train_smote.value_counts()"
      ],
      "metadata": {
        "colab": {
          "base_uri": "https://localhost:8080/"
        },
        "id": "x7vVeTKMDSMc",
        "outputId": "b8814fad-5c4c-4513-eb00-d5512c9c75fa"
      },
      "execution_count": null,
      "outputs": [
        {
          "output_type": "execute_result",
          "data": {
            "text/plain": [
              "1    195\n",
              "0    195\n",
              "Name: Survived, dtype: int64"
            ]
          },
          "metadata": {},
          "execution_count": 45
        }
      ]
    },
    {
      "cell_type": "markdown",
      "source": [
        "SVC"
      ],
      "metadata": {
        "id": "jqN24F5B_Bpr"
      }
    },
    {
      "cell_type": "code",
      "source": [
        "from sklearn.svm import SVC"
      ],
      "metadata": {
        "id": "A9eGUP6T15vt"
      },
      "execution_count": null,
      "outputs": []
    },
    {
      "cell_type": "code",
      "source": [
        "\n",
        "model = SVC()"
      ],
      "metadata": {
        "id": "GvClptwc2DXm"
      },
      "execution_count": null,
      "outputs": []
    },
    {
      "cell_type": "code",
      "source": [
        "\n",
        "from sklearn.model_selection import GridSearchCV"
      ],
      "metadata": {
        "id": "mLOGYQu54TL4"
      },
      "execution_count": null,
      "outputs": []
    },
    {
      "cell_type": "code",
      "source": [
        "parameters ={'kernel':['linear','rbf'],\n",
        "             'C':[0.1,0.2,0.5,1.0],\n",
        "             'gamma':['scale','auto']}"
      ],
      "metadata": {
        "id": "0xitPNQ34V-6"
      },
      "execution_count": null,
      "outputs": []
    },
    {
      "cell_type": "code",
      "source": [
        "clf = GridSearchCV(model,param_grid = parameters,verbose =2)\n"
      ],
      "metadata": {
        "id": "59B_GLkt4YZG"
      },
      "execution_count": null,
      "outputs": []
    },
    {
      "cell_type": "code",
      "source": [
        "\n",
        "clf.fit(x_train_smote,y_train_smote)"
      ],
      "metadata": {
        "colab": {
          "base_uri": "https://localhost:8080/",
          "height": 1000
        },
        "id": "SMiEJcQk4a_j",
        "outputId": "31b643d3-7e22-4aef-d895-0a741d1d2f33"
      },
      "execution_count": null,
      "outputs": [
        {
          "output_type": "stream",
          "name": "stdout",
          "text": [
            "Fitting 5 folds for each of 16 candidates, totalling 80 fits\n",
            "[CV] END ..................C=0.1, gamma=scale, kernel=linear; total time=   0.0s\n",
            "[CV] END ..................C=0.1, gamma=scale, kernel=linear; total time=   0.0s\n",
            "[CV] END ..................C=0.1, gamma=scale, kernel=linear; total time=   0.0s\n",
            "[CV] END ..................C=0.1, gamma=scale, kernel=linear; total time=   0.0s\n",
            "[CV] END ..................C=0.1, gamma=scale, kernel=linear; total time=   0.0s\n",
            "[CV] END .....................C=0.1, gamma=scale, kernel=rbf; total time=   0.0s\n",
            "[CV] END .....................C=0.1, gamma=scale, kernel=rbf; total time=   0.0s\n",
            "[CV] END .....................C=0.1, gamma=scale, kernel=rbf; total time=   0.0s\n",
            "[CV] END .....................C=0.1, gamma=scale, kernel=rbf; total time=   0.0s\n",
            "[CV] END .....................C=0.1, gamma=scale, kernel=rbf; total time=   0.0s\n",
            "[CV] END ...................C=0.1, gamma=auto, kernel=linear; total time=   0.0s\n",
            "[CV] END ...................C=0.1, gamma=auto, kernel=linear; total time=   0.0s\n",
            "[CV] END ...................C=0.1, gamma=auto, kernel=linear; total time=   0.0s\n",
            "[CV] END ...................C=0.1, gamma=auto, kernel=linear; total time=   0.0s\n",
            "[CV] END ...................C=0.1, gamma=auto, kernel=linear; total time=   0.0s\n",
            "[CV] END ......................C=0.1, gamma=auto, kernel=rbf; total time=   0.0s\n",
            "[CV] END ......................C=0.1, gamma=auto, kernel=rbf; total time=   0.0s\n",
            "[CV] END ......................C=0.1, gamma=auto, kernel=rbf; total time=   0.0s\n",
            "[CV] END ......................C=0.1, gamma=auto, kernel=rbf; total time=   0.0s\n",
            "[CV] END ......................C=0.1, gamma=auto, kernel=rbf; total time=   0.0s\n",
            "[CV] END ..................C=0.2, gamma=scale, kernel=linear; total time=   0.0s\n",
            "[CV] END ..................C=0.2, gamma=scale, kernel=linear; total time=   0.0s\n",
            "[CV] END ..................C=0.2, gamma=scale, kernel=linear; total time=   0.0s\n",
            "[CV] END ..................C=0.2, gamma=scale, kernel=linear; total time=   0.0s\n",
            "[CV] END ..................C=0.2, gamma=scale, kernel=linear; total time=   0.0s\n",
            "[CV] END .....................C=0.2, gamma=scale, kernel=rbf; total time=   0.0s\n",
            "[CV] END .....................C=0.2, gamma=scale, kernel=rbf; total time=   0.0s\n",
            "[CV] END .....................C=0.2, gamma=scale, kernel=rbf; total time=   0.0s\n",
            "[CV] END .....................C=0.2, gamma=scale, kernel=rbf; total time=   0.0s\n",
            "[CV] END .....................C=0.2, gamma=scale, kernel=rbf; total time=   0.0s\n",
            "[CV] END ...................C=0.2, gamma=auto, kernel=linear; total time=   0.0s\n",
            "[CV] END ...................C=0.2, gamma=auto, kernel=linear; total time=   0.0s\n",
            "[CV] END ...................C=0.2, gamma=auto, kernel=linear; total time=   0.0s\n",
            "[CV] END ...................C=0.2, gamma=auto, kernel=linear; total time=   0.0s\n",
            "[CV] END ...................C=0.2, gamma=auto, kernel=linear; total time=   0.0s\n",
            "[CV] END ......................C=0.2, gamma=auto, kernel=rbf; total time=   0.0s\n",
            "[CV] END ......................C=0.2, gamma=auto, kernel=rbf; total time=   0.0s\n",
            "[CV] END ......................C=0.2, gamma=auto, kernel=rbf; total time=   0.0s\n",
            "[CV] END ......................C=0.2, gamma=auto, kernel=rbf; total time=   0.0s\n",
            "[CV] END ......................C=0.2, gamma=auto, kernel=rbf; total time=   0.0s\n",
            "[CV] END ..................C=0.5, gamma=scale, kernel=linear; total time=   0.0s\n",
            "[CV] END ..................C=0.5, gamma=scale, kernel=linear; total time=   0.0s\n",
            "[CV] END ..................C=0.5, gamma=scale, kernel=linear; total time=   0.0s\n",
            "[CV] END ..................C=0.5, gamma=scale, kernel=linear; total time=   0.0s\n",
            "[CV] END ..................C=0.5, gamma=scale, kernel=linear; total time=   0.0s\n",
            "[CV] END .....................C=0.5, gamma=scale, kernel=rbf; total time=   0.0s\n",
            "[CV] END .....................C=0.5, gamma=scale, kernel=rbf; total time=   0.0s\n",
            "[CV] END .....................C=0.5, gamma=scale, kernel=rbf; total time=   0.0s\n",
            "[CV] END .....................C=0.5, gamma=scale, kernel=rbf; total time=   0.0s\n",
            "[CV] END .....................C=0.5, gamma=scale, kernel=rbf; total time=   0.0s\n",
            "[CV] END ...................C=0.5, gamma=auto, kernel=linear; total time=   0.0s\n",
            "[CV] END ...................C=0.5, gamma=auto, kernel=linear; total time=   0.0s\n",
            "[CV] END ...................C=0.5, gamma=auto, kernel=linear; total time=   0.0s\n",
            "[CV] END ...................C=0.5, gamma=auto, kernel=linear; total time=   0.0s\n",
            "[CV] END ...................C=0.5, gamma=auto, kernel=linear; total time=   0.0s\n",
            "[CV] END ......................C=0.5, gamma=auto, kernel=rbf; total time=   0.0s\n",
            "[CV] END ......................C=0.5, gamma=auto, kernel=rbf; total time=   0.0s\n",
            "[CV] END ......................C=0.5, gamma=auto, kernel=rbf; total time=   0.0s\n",
            "[CV] END ......................C=0.5, gamma=auto, kernel=rbf; total time=   0.0s\n",
            "[CV] END ......................C=0.5, gamma=auto, kernel=rbf; total time=   0.0s\n",
            "[CV] END ..................C=1.0, gamma=scale, kernel=linear; total time=   0.0s\n",
            "[CV] END ..................C=1.0, gamma=scale, kernel=linear; total time=   0.0s\n",
            "[CV] END ..................C=1.0, gamma=scale, kernel=linear; total time=   0.0s\n",
            "[CV] END ..................C=1.0, gamma=scale, kernel=linear; total time=   0.0s\n",
            "[CV] END ..................C=1.0, gamma=scale, kernel=linear; total time=   0.0s\n",
            "[CV] END .....................C=1.0, gamma=scale, kernel=rbf; total time=   0.0s\n",
            "[CV] END .....................C=1.0, gamma=scale, kernel=rbf; total time=   0.0s\n",
            "[CV] END .....................C=1.0, gamma=scale, kernel=rbf; total time=   0.0s\n",
            "[CV] END .....................C=1.0, gamma=scale, kernel=rbf; total time=   0.0s\n",
            "[CV] END .....................C=1.0, gamma=scale, kernel=rbf; total time=   0.0s\n",
            "[CV] END ...................C=1.0, gamma=auto, kernel=linear; total time=   0.0s\n",
            "[CV] END ...................C=1.0, gamma=auto, kernel=linear; total time=   0.0s\n",
            "[CV] END ...................C=1.0, gamma=auto, kernel=linear; total time=   0.0s\n",
            "[CV] END ...................C=1.0, gamma=auto, kernel=linear; total time=   0.0s\n",
            "[CV] END ...................C=1.0, gamma=auto, kernel=linear; total time=   0.0s\n",
            "[CV] END ......................C=1.0, gamma=auto, kernel=rbf; total time=   0.0s\n",
            "[CV] END ......................C=1.0, gamma=auto, kernel=rbf; total time=   0.0s\n",
            "[CV] END ......................C=1.0, gamma=auto, kernel=rbf; total time=   0.0s\n",
            "[CV] END ......................C=1.0, gamma=auto, kernel=rbf; total time=   0.0s\n",
            "[CV] END ......................C=1.0, gamma=auto, kernel=rbf; total time=   0.0s\n"
          ]
        },
        {
          "output_type": "execute_result",
          "data": {
            "text/plain": [
              "GridSearchCV(estimator=SVC(),\n",
              "             param_grid={'C': [0.1, 0.2, 0.5, 1.0], 'gamma': ['scale', 'auto'],\n",
              "                         'kernel': ['linear', 'rbf']},\n",
              "             verbose=2)"
            ],
            "text/html": [
              "<style>#sk-container-id-1 {color: black;background-color: white;}#sk-container-id-1 pre{padding: 0;}#sk-container-id-1 div.sk-toggleable {background-color: white;}#sk-container-id-1 label.sk-toggleable__label {cursor: pointer;display: block;width: 100%;margin-bottom: 0;padding: 0.3em;box-sizing: border-box;text-align: center;}#sk-container-id-1 label.sk-toggleable__label-arrow:before {content: \"▸\";float: left;margin-right: 0.25em;color: #696969;}#sk-container-id-1 label.sk-toggleable__label-arrow:hover:before {color: black;}#sk-container-id-1 div.sk-estimator:hover label.sk-toggleable__label-arrow:before {color: black;}#sk-container-id-1 div.sk-toggleable__content {max-height: 0;max-width: 0;overflow: hidden;text-align: left;background-color: #f0f8ff;}#sk-container-id-1 div.sk-toggleable__content pre {margin: 0.2em;color: black;border-radius: 0.25em;background-color: #f0f8ff;}#sk-container-id-1 input.sk-toggleable__control:checked~div.sk-toggleable__content {max-height: 200px;max-width: 100%;overflow: auto;}#sk-container-id-1 input.sk-toggleable__control:checked~label.sk-toggleable__label-arrow:before {content: \"▾\";}#sk-container-id-1 div.sk-estimator input.sk-toggleable__control:checked~label.sk-toggleable__label {background-color: #d4ebff;}#sk-container-id-1 div.sk-label input.sk-toggleable__control:checked~label.sk-toggleable__label {background-color: #d4ebff;}#sk-container-id-1 input.sk-hidden--visually {border: 0;clip: rect(1px 1px 1px 1px);clip: rect(1px, 1px, 1px, 1px);height: 1px;margin: -1px;overflow: hidden;padding: 0;position: absolute;width: 1px;}#sk-container-id-1 div.sk-estimator {font-family: monospace;background-color: #f0f8ff;border: 1px dotted black;border-radius: 0.25em;box-sizing: border-box;margin-bottom: 0.5em;}#sk-container-id-1 div.sk-estimator:hover {background-color: #d4ebff;}#sk-container-id-1 div.sk-parallel-item::after {content: \"\";width: 100%;border-bottom: 1px solid gray;flex-grow: 1;}#sk-container-id-1 div.sk-label:hover label.sk-toggleable__label {background-color: #d4ebff;}#sk-container-id-1 div.sk-serial::before {content: \"\";position: absolute;border-left: 1px solid gray;box-sizing: border-box;top: 0;bottom: 0;left: 50%;z-index: 0;}#sk-container-id-1 div.sk-serial {display: flex;flex-direction: column;align-items: center;background-color: white;padding-right: 0.2em;padding-left: 0.2em;position: relative;}#sk-container-id-1 div.sk-item {position: relative;z-index: 1;}#sk-container-id-1 div.sk-parallel {display: flex;align-items: stretch;justify-content: center;background-color: white;position: relative;}#sk-container-id-1 div.sk-item::before, #sk-container-id-1 div.sk-parallel-item::before {content: \"\";position: absolute;border-left: 1px solid gray;box-sizing: border-box;top: 0;bottom: 0;left: 50%;z-index: -1;}#sk-container-id-1 div.sk-parallel-item {display: flex;flex-direction: column;z-index: 1;position: relative;background-color: white;}#sk-container-id-1 div.sk-parallel-item:first-child::after {align-self: flex-end;width: 50%;}#sk-container-id-1 div.sk-parallel-item:last-child::after {align-self: flex-start;width: 50%;}#sk-container-id-1 div.sk-parallel-item:only-child::after {width: 0;}#sk-container-id-1 div.sk-dashed-wrapped {border: 1px dashed gray;margin: 0 0.4em 0.5em 0.4em;box-sizing: border-box;padding-bottom: 0.4em;background-color: white;}#sk-container-id-1 div.sk-label label {font-family: monospace;font-weight: bold;display: inline-block;line-height: 1.2em;}#sk-container-id-1 div.sk-label-container {text-align: center;}#sk-container-id-1 div.sk-container {/* jupyter's `normalize.less` sets `[hidden] { display: none; }` but bootstrap.min.css set `[hidden] { display: none !important; }` so we also need the `!important` here to be able to override the default hidden behavior on the sphinx rendered scikit-learn.org. See: https://github.com/scikit-learn/scikit-learn/issues/21755 */display: inline-block !important;position: relative;}#sk-container-id-1 div.sk-text-repr-fallback {display: none;}</style><div id=\"sk-container-id-1\" class=\"sk-top-container\"><div class=\"sk-text-repr-fallback\"><pre>GridSearchCV(estimator=SVC(),\n",
              "             param_grid={&#x27;C&#x27;: [0.1, 0.2, 0.5, 1.0], &#x27;gamma&#x27;: [&#x27;scale&#x27;, &#x27;auto&#x27;],\n",
              "                         &#x27;kernel&#x27;: [&#x27;linear&#x27;, &#x27;rbf&#x27;]},\n",
              "             verbose=2)</pre><b>In a Jupyter environment, please rerun this cell to show the HTML representation or trust the notebook. <br />On GitHub, the HTML representation is unable to render, please try loading this page with nbviewer.org.</b></div><div class=\"sk-container\" hidden><div class=\"sk-item sk-dashed-wrapped\"><div class=\"sk-label-container\"><div class=\"sk-label sk-toggleable\"><input class=\"sk-toggleable__control sk-hidden--visually\" id=\"sk-estimator-id-1\" type=\"checkbox\" ><label for=\"sk-estimator-id-1\" class=\"sk-toggleable__label sk-toggleable__label-arrow\">GridSearchCV</label><div class=\"sk-toggleable__content\"><pre>GridSearchCV(estimator=SVC(),\n",
              "             param_grid={&#x27;C&#x27;: [0.1, 0.2, 0.5, 1.0], &#x27;gamma&#x27;: [&#x27;scale&#x27;, &#x27;auto&#x27;],\n",
              "                         &#x27;kernel&#x27;: [&#x27;linear&#x27;, &#x27;rbf&#x27;]},\n",
              "             verbose=2)</pre></div></div></div><div class=\"sk-parallel\"><div class=\"sk-parallel-item\"><div class=\"sk-item\"><div class=\"sk-label-container\"><div class=\"sk-label sk-toggleable\"><input class=\"sk-toggleable__control sk-hidden--visually\" id=\"sk-estimator-id-2\" type=\"checkbox\" ><label for=\"sk-estimator-id-2\" class=\"sk-toggleable__label sk-toggleable__label-arrow\">estimator: SVC</label><div class=\"sk-toggleable__content\"><pre>SVC()</pre></div></div></div><div class=\"sk-serial\"><div class=\"sk-item\"><div class=\"sk-estimator sk-toggleable\"><input class=\"sk-toggleable__control sk-hidden--visually\" id=\"sk-estimator-id-3\" type=\"checkbox\" ><label for=\"sk-estimator-id-3\" class=\"sk-toggleable__label sk-toggleable__label-arrow\">SVC</label><div class=\"sk-toggleable__content\"><pre>SVC()</pre></div></div></div></div></div></div></div></div></div></div>"
            ]
          },
          "metadata": {},
          "execution_count": 51
        }
      ]
    },
    {
      "cell_type": "code",
      "source": [
        "clf.best_score_"
      ],
      "metadata": {
        "colab": {
          "base_uri": "https://localhost:8080/"
        },
        "id": "DR1BoRiR4kcV",
        "outputId": "45dddac9-20cd-4a56-f684-97d23c97aea9"
      },
      "execution_count": null,
      "outputs": [
        {
          "output_type": "execute_result",
          "data": {
            "text/plain": [
              "1.0"
            ]
          },
          "metadata": {},
          "execution_count": 52
        }
      ]
    },
    {
      "cell_type": "code",
      "source": [
        "clf.best_params_"
      ],
      "metadata": {
        "colab": {
          "base_uri": "https://localhost:8080/"
        },
        "id": "3Hm3L3Ge4pQg",
        "outputId": "998fea4e-8995-4dcc-c9b0-57f51b217fb7"
      },
      "execution_count": null,
      "outputs": [
        {
          "output_type": "execute_result",
          "data": {
            "text/plain": [
              "{'C': 0.1, 'gamma': 'scale', 'kernel': 'linear'}"
            ]
          },
          "metadata": {},
          "execution_count": 53
        }
      ]
    },
    {
      "cell_type": "code",
      "source": [
        "model1 =SVC(C=1,gamma='scale',kernel = 'linear')"
      ],
      "metadata": {
        "id": "VT5pbczF4yMj"
      },
      "execution_count": null,
      "outputs": []
    },
    {
      "cell_type": "code",
      "source": [
        "model1.fit(x_train_smote,y_train_smote)"
      ],
      "metadata": {
        "colab": {
          "base_uri": "https://localhost:8080/",
          "height": 74
        },
        "id": "DfuAYrE041HT",
        "outputId": "6ba416a3-af49-4bc4-fd62-416a01c9d8d4"
      },
      "execution_count": null,
      "outputs": [
        {
          "output_type": "execute_result",
          "data": {
            "text/plain": [
              "SVC(C=1, kernel='linear')"
            ],
            "text/html": [
              "<style>#sk-container-id-2 {color: black;background-color: white;}#sk-container-id-2 pre{padding: 0;}#sk-container-id-2 div.sk-toggleable {background-color: white;}#sk-container-id-2 label.sk-toggleable__label {cursor: pointer;display: block;width: 100%;margin-bottom: 0;padding: 0.3em;box-sizing: border-box;text-align: center;}#sk-container-id-2 label.sk-toggleable__label-arrow:before {content: \"▸\";float: left;margin-right: 0.25em;color: #696969;}#sk-container-id-2 label.sk-toggleable__label-arrow:hover:before {color: black;}#sk-container-id-2 div.sk-estimator:hover label.sk-toggleable__label-arrow:before {color: black;}#sk-container-id-2 div.sk-toggleable__content {max-height: 0;max-width: 0;overflow: hidden;text-align: left;background-color: #f0f8ff;}#sk-container-id-2 div.sk-toggleable__content pre {margin: 0.2em;color: black;border-radius: 0.25em;background-color: #f0f8ff;}#sk-container-id-2 input.sk-toggleable__control:checked~div.sk-toggleable__content {max-height: 200px;max-width: 100%;overflow: auto;}#sk-container-id-2 input.sk-toggleable__control:checked~label.sk-toggleable__label-arrow:before {content: \"▾\";}#sk-container-id-2 div.sk-estimator input.sk-toggleable__control:checked~label.sk-toggleable__label {background-color: #d4ebff;}#sk-container-id-2 div.sk-label input.sk-toggleable__control:checked~label.sk-toggleable__label {background-color: #d4ebff;}#sk-container-id-2 input.sk-hidden--visually {border: 0;clip: rect(1px 1px 1px 1px);clip: rect(1px, 1px, 1px, 1px);height: 1px;margin: -1px;overflow: hidden;padding: 0;position: absolute;width: 1px;}#sk-container-id-2 div.sk-estimator {font-family: monospace;background-color: #f0f8ff;border: 1px dotted black;border-radius: 0.25em;box-sizing: border-box;margin-bottom: 0.5em;}#sk-container-id-2 div.sk-estimator:hover {background-color: #d4ebff;}#sk-container-id-2 div.sk-parallel-item::after {content: \"\";width: 100%;border-bottom: 1px solid gray;flex-grow: 1;}#sk-container-id-2 div.sk-label:hover label.sk-toggleable__label {background-color: #d4ebff;}#sk-container-id-2 div.sk-serial::before {content: \"\";position: absolute;border-left: 1px solid gray;box-sizing: border-box;top: 0;bottom: 0;left: 50%;z-index: 0;}#sk-container-id-2 div.sk-serial {display: flex;flex-direction: column;align-items: center;background-color: white;padding-right: 0.2em;padding-left: 0.2em;position: relative;}#sk-container-id-2 div.sk-item {position: relative;z-index: 1;}#sk-container-id-2 div.sk-parallel {display: flex;align-items: stretch;justify-content: center;background-color: white;position: relative;}#sk-container-id-2 div.sk-item::before, #sk-container-id-2 div.sk-parallel-item::before {content: \"\";position: absolute;border-left: 1px solid gray;box-sizing: border-box;top: 0;bottom: 0;left: 50%;z-index: -1;}#sk-container-id-2 div.sk-parallel-item {display: flex;flex-direction: column;z-index: 1;position: relative;background-color: white;}#sk-container-id-2 div.sk-parallel-item:first-child::after {align-self: flex-end;width: 50%;}#sk-container-id-2 div.sk-parallel-item:last-child::after {align-self: flex-start;width: 50%;}#sk-container-id-2 div.sk-parallel-item:only-child::after {width: 0;}#sk-container-id-2 div.sk-dashed-wrapped {border: 1px dashed gray;margin: 0 0.4em 0.5em 0.4em;box-sizing: border-box;padding-bottom: 0.4em;background-color: white;}#sk-container-id-2 div.sk-label label {font-family: monospace;font-weight: bold;display: inline-block;line-height: 1.2em;}#sk-container-id-2 div.sk-label-container {text-align: center;}#sk-container-id-2 div.sk-container {/* jupyter's `normalize.less` sets `[hidden] { display: none; }` but bootstrap.min.css set `[hidden] { display: none !important; }` so we also need the `!important` here to be able to override the default hidden behavior on the sphinx rendered scikit-learn.org. See: https://github.com/scikit-learn/scikit-learn/issues/21755 */display: inline-block !important;position: relative;}#sk-container-id-2 div.sk-text-repr-fallback {display: none;}</style><div id=\"sk-container-id-2\" class=\"sk-top-container\"><div class=\"sk-text-repr-fallback\"><pre>SVC(C=1, kernel=&#x27;linear&#x27;)</pre><b>In a Jupyter environment, please rerun this cell to show the HTML representation or trust the notebook. <br />On GitHub, the HTML representation is unable to render, please try loading this page with nbviewer.org.</b></div><div class=\"sk-container\" hidden><div class=\"sk-item\"><div class=\"sk-estimator sk-toggleable\"><input class=\"sk-toggleable__control sk-hidden--visually\" id=\"sk-estimator-id-4\" type=\"checkbox\" checked><label for=\"sk-estimator-id-4\" class=\"sk-toggleable__label sk-toggleable__label-arrow\">SVC</label><div class=\"sk-toggleable__content\"><pre>SVC(C=1, kernel=&#x27;linear&#x27;)</pre></div></div></div></div></div>"
            ]
          },
          "metadata": {},
          "execution_count": 55
        }
      ]
    },
    {
      "cell_type": "code",
      "source": [
        "y_ = model1.predict(x_test)"
      ],
      "metadata": {
        "id": "MM0Yihqm461F"
      },
      "execution_count": null,
      "outputs": []
    },
    {
      "cell_type": "code",
      "source": [
        "from sklearn.metrics import accuracy_score, classification_report\n",
        "accuracy_score(y_test,y_)"
      ],
      "metadata": {
        "colab": {
          "base_uri": "https://localhost:8080/"
        },
        "id": "NFBYZEua5B7q",
        "outputId": "c9e5ecef-0e43-46e2-addf-9ffbe66f7e6e"
      },
      "execution_count": null,
      "outputs": [
        {
          "output_type": "execute_result",
          "data": {
            "text/plain": [
              "1.0"
            ]
          },
          "metadata": {},
          "execution_count": 57
        }
      ]
    },
    {
      "cell_type": "code",
      "source": [
        "pd.crosstab(y_test,y_)"
      ],
      "metadata": {
        "colab": {
          "base_uri": "https://localhost:8080/",
          "height": 143
        },
        "id": "ykKVy2cq5El5",
        "outputId": "30aff3ba-13b2-436f-ba7a-b413e1b5e866"
      },
      "execution_count": null,
      "outputs": [
        {
          "output_type": "execute_result",
          "data": {
            "text/plain": [
              "col_0      0   1\n",
              "Survived        \n",
              "0         71   0\n",
              "1          0  55"
            ],
            "text/html": [
              "\n",
              "  <div id=\"df-bb84d7dc-6bf8-4d99-b509-b5630b8fe6e7\" class=\"colab-df-container\">\n",
              "    <div>\n",
              "<style scoped>\n",
              "    .dataframe tbody tr th:only-of-type {\n",
              "        vertical-align: middle;\n",
              "    }\n",
              "\n",
              "    .dataframe tbody tr th {\n",
              "        vertical-align: top;\n",
              "    }\n",
              "\n",
              "    .dataframe thead th {\n",
              "        text-align: right;\n",
              "    }\n",
              "</style>\n",
              "<table border=\"1\" class=\"dataframe\">\n",
              "  <thead>\n",
              "    <tr style=\"text-align: right;\">\n",
              "      <th>col_0</th>\n",
              "      <th>0</th>\n",
              "      <th>1</th>\n",
              "    </tr>\n",
              "    <tr>\n",
              "      <th>Survived</th>\n",
              "      <th></th>\n",
              "      <th></th>\n",
              "    </tr>\n",
              "  </thead>\n",
              "  <tbody>\n",
              "    <tr>\n",
              "      <th>0</th>\n",
              "      <td>71</td>\n",
              "      <td>0</td>\n",
              "    </tr>\n",
              "    <tr>\n",
              "      <th>1</th>\n",
              "      <td>0</td>\n",
              "      <td>55</td>\n",
              "    </tr>\n",
              "  </tbody>\n",
              "</table>\n",
              "</div>\n",
              "    <div class=\"colab-df-buttons\">\n",
              "\n",
              "  <div class=\"colab-df-container\">\n",
              "    <button class=\"colab-df-convert\" onclick=\"convertToInteractive('df-bb84d7dc-6bf8-4d99-b509-b5630b8fe6e7')\"\n",
              "            title=\"Convert this dataframe to an interactive table.\"\n",
              "            style=\"display:none;\">\n",
              "\n",
              "  <svg xmlns=\"http://www.w3.org/2000/svg\" height=\"24px\" viewBox=\"0 -960 960 960\">\n",
              "    <path d=\"M120-120v-720h720v720H120Zm60-500h600v-160H180v160Zm220 220h160v-160H400v160Zm0 220h160v-160H400v160ZM180-400h160v-160H180v160Zm440 0h160v-160H620v160ZM180-180h160v-160H180v160Zm440 0h160v-160H620v160Z\"/>\n",
              "  </svg>\n",
              "    </button>\n",
              "\n",
              "  <style>\n",
              "    .colab-df-container {\n",
              "      display:flex;\n",
              "      gap: 12px;\n",
              "    }\n",
              "\n",
              "    .colab-df-convert {\n",
              "      background-color: #E8F0FE;\n",
              "      border: none;\n",
              "      border-radius: 50%;\n",
              "      cursor: pointer;\n",
              "      display: none;\n",
              "      fill: #1967D2;\n",
              "      height: 32px;\n",
              "      padding: 0 0 0 0;\n",
              "      width: 32px;\n",
              "    }\n",
              "\n",
              "    .colab-df-convert:hover {\n",
              "      background-color: #E2EBFA;\n",
              "      box-shadow: 0px 1px 2px rgba(60, 64, 67, 0.3), 0px 1px 3px 1px rgba(60, 64, 67, 0.15);\n",
              "      fill: #174EA6;\n",
              "    }\n",
              "\n",
              "    .colab-df-buttons div {\n",
              "      margin-bottom: 4px;\n",
              "    }\n",
              "\n",
              "    [theme=dark] .colab-df-convert {\n",
              "      background-color: #3B4455;\n",
              "      fill: #D2E3FC;\n",
              "    }\n",
              "\n",
              "    [theme=dark] .colab-df-convert:hover {\n",
              "      background-color: #434B5C;\n",
              "      box-shadow: 0px 1px 3px 1px rgba(0, 0, 0, 0.15);\n",
              "      filter: drop-shadow(0px 1px 2px rgba(0, 0, 0, 0.3));\n",
              "      fill: #FFFFFF;\n",
              "    }\n",
              "  </style>\n",
              "\n",
              "    <script>\n",
              "      const buttonEl =\n",
              "        document.querySelector('#df-bb84d7dc-6bf8-4d99-b509-b5630b8fe6e7 button.colab-df-convert');\n",
              "      buttonEl.style.display =\n",
              "        google.colab.kernel.accessAllowed ? 'block' : 'none';\n",
              "\n",
              "      async function convertToInteractive(key) {\n",
              "        const element = document.querySelector('#df-bb84d7dc-6bf8-4d99-b509-b5630b8fe6e7');\n",
              "        const dataTable =\n",
              "          await google.colab.kernel.invokeFunction('convertToInteractive',\n",
              "                                                    [key], {});\n",
              "        if (!dataTable) return;\n",
              "\n",
              "        const docLinkHtml = 'Like what you see? Visit the ' +\n",
              "          '<a target=\"_blank\" href=https://colab.research.google.com/notebooks/data_table.ipynb>data table notebook</a>'\n",
              "          + ' to learn more about interactive tables.';\n",
              "        element.innerHTML = '';\n",
              "        dataTable['output_type'] = 'display_data';\n",
              "        await google.colab.output.renderOutput(dataTable, element);\n",
              "        const docLink = document.createElement('div');\n",
              "        docLink.innerHTML = docLinkHtml;\n",
              "        element.appendChild(docLink);\n",
              "      }\n",
              "    </script>\n",
              "  </div>\n",
              "\n",
              "\n",
              "<div id=\"df-8ab9ba56-8733-4b4c-b419-d9b48592e7b0\">\n",
              "  <button class=\"colab-df-quickchart\" onclick=\"quickchart('df-8ab9ba56-8733-4b4c-b419-d9b48592e7b0')\"\n",
              "            title=\"Suggest charts.\"\n",
              "            style=\"display:none;\">\n",
              "\n",
              "<svg xmlns=\"http://www.w3.org/2000/svg\" height=\"24px\"viewBox=\"0 0 24 24\"\n",
              "     width=\"24px\">\n",
              "    <g>\n",
              "        <path d=\"M19 3H5c-1.1 0-2 .9-2 2v14c0 1.1.9 2 2 2h14c1.1 0 2-.9 2-2V5c0-1.1-.9-2-2-2zM9 17H7v-7h2v7zm4 0h-2V7h2v10zm4 0h-2v-4h2v4z\"/>\n",
              "    </g>\n",
              "</svg>\n",
              "  </button>\n",
              "\n",
              "<style>\n",
              "  .colab-df-quickchart {\n",
              "      --bg-color: #E8F0FE;\n",
              "      --fill-color: #1967D2;\n",
              "      --hover-bg-color: #E2EBFA;\n",
              "      --hover-fill-color: #174EA6;\n",
              "      --disabled-fill-color: #AAA;\n",
              "      --disabled-bg-color: #DDD;\n",
              "  }\n",
              "\n",
              "  [theme=dark] .colab-df-quickchart {\n",
              "      --bg-color: #3B4455;\n",
              "      --fill-color: #D2E3FC;\n",
              "      --hover-bg-color: #434B5C;\n",
              "      --hover-fill-color: #FFFFFF;\n",
              "      --disabled-bg-color: #3B4455;\n",
              "      --disabled-fill-color: #666;\n",
              "  }\n",
              "\n",
              "  .colab-df-quickchart {\n",
              "    background-color: var(--bg-color);\n",
              "    border: none;\n",
              "    border-radius: 50%;\n",
              "    cursor: pointer;\n",
              "    display: none;\n",
              "    fill: var(--fill-color);\n",
              "    height: 32px;\n",
              "    padding: 0;\n",
              "    width: 32px;\n",
              "  }\n",
              "\n",
              "  .colab-df-quickchart:hover {\n",
              "    background-color: var(--hover-bg-color);\n",
              "    box-shadow: 0 1px 2px rgba(60, 64, 67, 0.3), 0 1px 3px 1px rgba(60, 64, 67, 0.15);\n",
              "    fill: var(--button-hover-fill-color);\n",
              "  }\n",
              "\n",
              "  .colab-df-quickchart-complete:disabled,\n",
              "  .colab-df-quickchart-complete:disabled:hover {\n",
              "    background-color: var(--disabled-bg-color);\n",
              "    fill: var(--disabled-fill-color);\n",
              "    box-shadow: none;\n",
              "  }\n",
              "\n",
              "  .colab-df-spinner {\n",
              "    border: 2px solid var(--fill-color);\n",
              "    border-color: transparent;\n",
              "    border-bottom-color: var(--fill-color);\n",
              "    animation:\n",
              "      spin 1s steps(1) infinite;\n",
              "  }\n",
              "\n",
              "  @keyframes spin {\n",
              "    0% {\n",
              "      border-color: transparent;\n",
              "      border-bottom-color: var(--fill-color);\n",
              "      border-left-color: var(--fill-color);\n",
              "    }\n",
              "    20% {\n",
              "      border-color: transparent;\n",
              "      border-left-color: var(--fill-color);\n",
              "      border-top-color: var(--fill-color);\n",
              "    }\n",
              "    30% {\n",
              "      border-color: transparent;\n",
              "      border-left-color: var(--fill-color);\n",
              "      border-top-color: var(--fill-color);\n",
              "      border-right-color: var(--fill-color);\n",
              "    }\n",
              "    40% {\n",
              "      border-color: transparent;\n",
              "      border-right-color: var(--fill-color);\n",
              "      border-top-color: var(--fill-color);\n",
              "    }\n",
              "    60% {\n",
              "      border-color: transparent;\n",
              "      border-right-color: var(--fill-color);\n",
              "    }\n",
              "    80% {\n",
              "      border-color: transparent;\n",
              "      border-right-color: var(--fill-color);\n",
              "      border-bottom-color: var(--fill-color);\n",
              "    }\n",
              "    90% {\n",
              "      border-color: transparent;\n",
              "      border-bottom-color: var(--fill-color);\n",
              "    }\n",
              "  }\n",
              "</style>\n",
              "\n",
              "  <script>\n",
              "    async function quickchart(key) {\n",
              "      const quickchartButtonEl =\n",
              "        document.querySelector('#' + key + ' button');\n",
              "      quickchartButtonEl.disabled = true;  // To prevent multiple clicks.\n",
              "      quickchartButtonEl.classList.add('colab-df-spinner');\n",
              "      try {\n",
              "        const charts = await google.colab.kernel.invokeFunction(\n",
              "            'suggestCharts', [key], {});\n",
              "      } catch (error) {\n",
              "        console.error('Error during call to suggestCharts:', error);\n",
              "      }\n",
              "      quickchartButtonEl.classList.remove('colab-df-spinner');\n",
              "      quickchartButtonEl.classList.add('colab-df-quickchart-complete');\n",
              "    }\n",
              "    (() => {\n",
              "      let quickchartButtonEl =\n",
              "        document.querySelector('#df-8ab9ba56-8733-4b4c-b419-d9b48592e7b0 button');\n",
              "      quickchartButtonEl.style.display =\n",
              "        google.colab.kernel.accessAllowed ? 'block' : 'none';\n",
              "    })();\n",
              "  </script>\n",
              "</div>\n",
              "    </div>\n",
              "  </div>\n"
            ]
          },
          "metadata": {},
          "execution_count": 58
        }
      ]
    },
    {
      "cell_type": "code",
      "source": [
        "print(classification_report(y_test,y_))"
      ],
      "metadata": {
        "colab": {
          "base_uri": "https://localhost:8080/"
        },
        "id": "yQIXmlrs5KO1",
        "outputId": "d1a6f43a-9eff-44f8-9113-e5f6809dbde9"
      },
      "execution_count": null,
      "outputs": [
        {
          "output_type": "stream",
          "name": "stdout",
          "text": [
            "              precision    recall  f1-score   support\n",
            "\n",
            "           0       1.00      1.00      1.00        71\n",
            "           1       1.00      1.00      1.00        55\n",
            "\n",
            "    accuracy                           1.00       126\n",
            "   macro avg       1.00      1.00      1.00       126\n",
            "weighted avg       1.00      1.00      1.00       126\n",
            "\n"
          ]
        }
      ]
    },
    {
      "cell_type": "markdown",
      "source": [
        "**LOGISTIC REGRESSION**"
      ],
      "metadata": {
        "id": "_q2IvAM26OLC"
      }
    },
    {
      "cell_type": "code",
      "source": [
        "from sklearn.linear_model import LogisticRegression\n",
        "model2 = LogisticRegression()"
      ],
      "metadata": {
        "id": "lAiK17Vm7pMl"
      },
      "execution_count": null,
      "outputs": []
    },
    {
      "cell_type": "code",
      "source": [
        "\n",
        "parameters = {\n",
        "    'C': [0.1, 1, 10],  # Inverse of regularization strength\n",
        "    'penalty': ['l2'],  # Regularization type\n",
        "    'solver': ['liblinear', 'lbfgs', 'newton-cg']  # Optimization algorithm\n",
        "}"
      ],
      "metadata": {
        "id": "zxgtYnRv6RuB"
      },
      "execution_count": null,
      "outputs": []
    },
    {
      "cell_type": "code",
      "source": [
        "clf = GridSearchCV(model2,param_grid = parameters,verbose =2)"
      ],
      "metadata": {
        "id": "j-q8-MAF7etj"
      },
      "execution_count": null,
      "outputs": []
    },
    {
      "cell_type": "code",
      "source": [
        "clf.fit(x_train_smote,y_train_smote)"
      ],
      "metadata": {
        "colab": {
          "base_uri": "https://localhost:8080/",
          "height": 956
        },
        "id": "b_JO4aj77oav",
        "outputId": "d7ae9183-32f8-4787-d0d3-0c301de21420"
      },
      "execution_count": null,
      "outputs": [
        {
          "output_type": "stream",
          "name": "stdout",
          "text": [
            "Fitting 5 folds for each of 9 candidates, totalling 45 fits\n",
            "[CV] END ................C=0.1, penalty=l2, solver=liblinear; total time=   0.0s\n",
            "[CV] END ................C=0.1, penalty=l2, solver=liblinear; total time=   0.0s\n",
            "[CV] END ................C=0.1, penalty=l2, solver=liblinear; total time=   0.0s\n",
            "[CV] END ................C=0.1, penalty=l2, solver=liblinear; total time=   0.0s\n",
            "[CV] END ................C=0.1, penalty=l2, solver=liblinear; total time=   0.0s\n",
            "[CV] END ....................C=0.1, penalty=l2, solver=lbfgs; total time=   0.0s\n",
            "[CV] END ....................C=0.1, penalty=l2, solver=lbfgs; total time=   0.0s\n",
            "[CV] END ....................C=0.1, penalty=l2, solver=lbfgs; total time=   0.0s\n",
            "[CV] END ....................C=0.1, penalty=l2, solver=lbfgs; total time=   0.0s\n",
            "[CV] END ....................C=0.1, penalty=l2, solver=lbfgs; total time=   0.0s\n",
            "[CV] END ................C=0.1, penalty=l2, solver=newton-cg; total time=   0.0s\n",
            "[CV] END ................C=0.1, penalty=l2, solver=newton-cg; total time=   0.0s\n",
            "[CV] END ................C=0.1, penalty=l2, solver=newton-cg; total time=   0.0s\n",
            "[CV] END ................C=0.1, penalty=l2, solver=newton-cg; total time=   0.0s\n",
            "[CV] END ................C=0.1, penalty=l2, solver=newton-cg; total time=   0.0s\n",
            "[CV] END ..................C=1, penalty=l2, solver=liblinear; total time=   0.0s\n",
            "[CV] END ..................C=1, penalty=l2, solver=liblinear; total time=   0.0s\n",
            "[CV] END ..................C=1, penalty=l2, solver=liblinear; total time=   0.0s\n",
            "[CV] END ..................C=1, penalty=l2, solver=liblinear; total time=   0.0s\n",
            "[CV] END ..................C=1, penalty=l2, solver=liblinear; total time=   0.0s\n",
            "[CV] END ......................C=1, penalty=l2, solver=lbfgs; total time=   0.0s\n",
            "[CV] END ......................C=1, penalty=l2, solver=lbfgs; total time=   0.0s\n",
            "[CV] END ......................C=1, penalty=l2, solver=lbfgs; total time=   0.0s\n",
            "[CV] END ......................C=1, penalty=l2, solver=lbfgs; total time=   0.0s\n",
            "[CV] END ......................C=1, penalty=l2, solver=lbfgs; total time=   0.0s\n",
            "[CV] END ..................C=1, penalty=l2, solver=newton-cg; total time=   0.0s\n",
            "[CV] END ..................C=1, penalty=l2, solver=newton-cg; total time=   0.0s\n",
            "[CV] END ..................C=1, penalty=l2, solver=newton-cg; total time=   0.0s\n",
            "[CV] END ..................C=1, penalty=l2, solver=newton-cg; total time=   0.0s\n",
            "[CV] END ..................C=1, penalty=l2, solver=newton-cg; total time=   0.0s\n",
            "[CV] END .................C=10, penalty=l2, solver=liblinear; total time=   0.0s\n",
            "[CV] END .................C=10, penalty=l2, solver=liblinear; total time=   0.0s\n",
            "[CV] END .................C=10, penalty=l2, solver=liblinear; total time=   0.0s\n",
            "[CV] END .................C=10, penalty=l2, solver=liblinear; total time=   0.0s\n",
            "[CV] END .................C=10, penalty=l2, solver=liblinear; total time=   0.0s\n",
            "[CV] END .....................C=10, penalty=l2, solver=lbfgs; total time=   0.0s\n",
            "[CV] END .....................C=10, penalty=l2, solver=lbfgs; total time=   0.0s\n",
            "[CV] END .....................C=10, penalty=l2, solver=lbfgs; total time=   0.0s\n",
            "[CV] END .....................C=10, penalty=l2, solver=lbfgs; total time=   0.0s\n",
            "[CV] END .....................C=10, penalty=l2, solver=lbfgs; total time=   0.0s\n",
            "[CV] END .................C=10, penalty=l2, solver=newton-cg; total time=   0.0s\n",
            "[CV] END .................C=10, penalty=l2, solver=newton-cg; total time=   0.0s\n",
            "[CV] END .................C=10, penalty=l2, solver=newton-cg; total time=   0.0s\n",
            "[CV] END .................C=10, penalty=l2, solver=newton-cg; total time=   0.0s\n",
            "[CV] END .................C=10, penalty=l2, solver=newton-cg; total time=   0.0s\n"
          ]
        },
        {
          "output_type": "execute_result",
          "data": {
            "text/plain": [
              "GridSearchCV(estimator=LogisticRegression(),\n",
              "             param_grid={'C': [0.1, 1, 10], 'penalty': ['l2'],\n",
              "                         'solver': ['liblinear', 'lbfgs', 'newton-cg']},\n",
              "             verbose=2)"
            ],
            "text/html": [
              "<style>#sk-container-id-3 {color: black;background-color: white;}#sk-container-id-3 pre{padding: 0;}#sk-container-id-3 div.sk-toggleable {background-color: white;}#sk-container-id-3 label.sk-toggleable__label {cursor: pointer;display: block;width: 100%;margin-bottom: 0;padding: 0.3em;box-sizing: border-box;text-align: center;}#sk-container-id-3 label.sk-toggleable__label-arrow:before {content: \"▸\";float: left;margin-right: 0.25em;color: #696969;}#sk-container-id-3 label.sk-toggleable__label-arrow:hover:before {color: black;}#sk-container-id-3 div.sk-estimator:hover label.sk-toggleable__label-arrow:before {color: black;}#sk-container-id-3 div.sk-toggleable__content {max-height: 0;max-width: 0;overflow: hidden;text-align: left;background-color: #f0f8ff;}#sk-container-id-3 div.sk-toggleable__content pre {margin: 0.2em;color: black;border-radius: 0.25em;background-color: #f0f8ff;}#sk-container-id-3 input.sk-toggleable__control:checked~div.sk-toggleable__content {max-height: 200px;max-width: 100%;overflow: auto;}#sk-container-id-3 input.sk-toggleable__control:checked~label.sk-toggleable__label-arrow:before {content: \"▾\";}#sk-container-id-3 div.sk-estimator input.sk-toggleable__control:checked~label.sk-toggleable__label {background-color: #d4ebff;}#sk-container-id-3 div.sk-label input.sk-toggleable__control:checked~label.sk-toggleable__label {background-color: #d4ebff;}#sk-container-id-3 input.sk-hidden--visually {border: 0;clip: rect(1px 1px 1px 1px);clip: rect(1px, 1px, 1px, 1px);height: 1px;margin: -1px;overflow: hidden;padding: 0;position: absolute;width: 1px;}#sk-container-id-3 div.sk-estimator {font-family: monospace;background-color: #f0f8ff;border: 1px dotted black;border-radius: 0.25em;box-sizing: border-box;margin-bottom: 0.5em;}#sk-container-id-3 div.sk-estimator:hover {background-color: #d4ebff;}#sk-container-id-3 div.sk-parallel-item::after {content: \"\";width: 100%;border-bottom: 1px solid gray;flex-grow: 1;}#sk-container-id-3 div.sk-label:hover label.sk-toggleable__label {background-color: #d4ebff;}#sk-container-id-3 div.sk-serial::before {content: \"\";position: absolute;border-left: 1px solid gray;box-sizing: border-box;top: 0;bottom: 0;left: 50%;z-index: 0;}#sk-container-id-3 div.sk-serial {display: flex;flex-direction: column;align-items: center;background-color: white;padding-right: 0.2em;padding-left: 0.2em;position: relative;}#sk-container-id-3 div.sk-item {position: relative;z-index: 1;}#sk-container-id-3 div.sk-parallel {display: flex;align-items: stretch;justify-content: center;background-color: white;position: relative;}#sk-container-id-3 div.sk-item::before, #sk-container-id-3 div.sk-parallel-item::before {content: \"\";position: absolute;border-left: 1px solid gray;box-sizing: border-box;top: 0;bottom: 0;left: 50%;z-index: -1;}#sk-container-id-3 div.sk-parallel-item {display: flex;flex-direction: column;z-index: 1;position: relative;background-color: white;}#sk-container-id-3 div.sk-parallel-item:first-child::after {align-self: flex-end;width: 50%;}#sk-container-id-3 div.sk-parallel-item:last-child::after {align-self: flex-start;width: 50%;}#sk-container-id-3 div.sk-parallel-item:only-child::after {width: 0;}#sk-container-id-3 div.sk-dashed-wrapped {border: 1px dashed gray;margin: 0 0.4em 0.5em 0.4em;box-sizing: border-box;padding-bottom: 0.4em;background-color: white;}#sk-container-id-3 div.sk-label label {font-family: monospace;font-weight: bold;display: inline-block;line-height: 1.2em;}#sk-container-id-3 div.sk-label-container {text-align: center;}#sk-container-id-3 div.sk-container {/* jupyter's `normalize.less` sets `[hidden] { display: none; }` but bootstrap.min.css set `[hidden] { display: none !important; }` so we also need the `!important` here to be able to override the default hidden behavior on the sphinx rendered scikit-learn.org. See: https://github.com/scikit-learn/scikit-learn/issues/21755 */display: inline-block !important;position: relative;}#sk-container-id-3 div.sk-text-repr-fallback {display: none;}</style><div id=\"sk-container-id-3\" class=\"sk-top-container\"><div class=\"sk-text-repr-fallback\"><pre>GridSearchCV(estimator=LogisticRegression(),\n",
              "             param_grid={&#x27;C&#x27;: [0.1, 1, 10], &#x27;penalty&#x27;: [&#x27;l2&#x27;],\n",
              "                         &#x27;solver&#x27;: [&#x27;liblinear&#x27;, &#x27;lbfgs&#x27;, &#x27;newton-cg&#x27;]},\n",
              "             verbose=2)</pre><b>In a Jupyter environment, please rerun this cell to show the HTML representation or trust the notebook. <br />On GitHub, the HTML representation is unable to render, please try loading this page with nbviewer.org.</b></div><div class=\"sk-container\" hidden><div class=\"sk-item sk-dashed-wrapped\"><div class=\"sk-label-container\"><div class=\"sk-label sk-toggleable\"><input class=\"sk-toggleable__control sk-hidden--visually\" id=\"sk-estimator-id-5\" type=\"checkbox\" ><label for=\"sk-estimator-id-5\" class=\"sk-toggleable__label sk-toggleable__label-arrow\">GridSearchCV</label><div class=\"sk-toggleable__content\"><pre>GridSearchCV(estimator=LogisticRegression(),\n",
              "             param_grid={&#x27;C&#x27;: [0.1, 1, 10], &#x27;penalty&#x27;: [&#x27;l2&#x27;],\n",
              "                         &#x27;solver&#x27;: [&#x27;liblinear&#x27;, &#x27;lbfgs&#x27;, &#x27;newton-cg&#x27;]},\n",
              "             verbose=2)</pre></div></div></div><div class=\"sk-parallel\"><div class=\"sk-parallel-item\"><div class=\"sk-item\"><div class=\"sk-label-container\"><div class=\"sk-label sk-toggleable\"><input class=\"sk-toggleable__control sk-hidden--visually\" id=\"sk-estimator-id-6\" type=\"checkbox\" ><label for=\"sk-estimator-id-6\" class=\"sk-toggleable__label sk-toggleable__label-arrow\">estimator: LogisticRegression</label><div class=\"sk-toggleable__content\"><pre>LogisticRegression()</pre></div></div></div><div class=\"sk-serial\"><div class=\"sk-item\"><div class=\"sk-estimator sk-toggleable\"><input class=\"sk-toggleable__control sk-hidden--visually\" id=\"sk-estimator-id-7\" type=\"checkbox\" ><label for=\"sk-estimator-id-7\" class=\"sk-toggleable__label sk-toggleable__label-arrow\">LogisticRegression</label><div class=\"sk-toggleable__content\"><pre>LogisticRegression()</pre></div></div></div></div></div></div></div></div></div></div>"
            ]
          },
          "metadata": {},
          "execution_count": 63
        }
      ]
    },
    {
      "cell_type": "code",
      "source": [
        "clf.best_score_"
      ],
      "metadata": {
        "colab": {
          "base_uri": "https://localhost:8080/"
        },
        "id": "bL3P0NIw8ZSD",
        "outputId": "84a9f04f-43a5-44b6-e569-2363132b3a45"
      },
      "execution_count": null,
      "outputs": [
        {
          "output_type": "execute_result",
          "data": {
            "text/plain": [
              "1.0"
            ]
          },
          "metadata": {},
          "execution_count": 64
        }
      ]
    },
    {
      "cell_type": "code",
      "source": [
        "clf.best_params_"
      ],
      "metadata": {
        "colab": {
          "base_uri": "https://localhost:8080/"
        },
        "id": "HjLoSft08mDN",
        "outputId": "6327b209-241c-42cd-d477-b1c198728afb"
      },
      "execution_count": null,
      "outputs": [
        {
          "output_type": "execute_result",
          "data": {
            "text/plain": [
              "{'C': 0.1, 'penalty': 'l2', 'solver': 'liblinear'}"
            ]
          },
          "metadata": {},
          "execution_count": 65
        }
      ]
    },
    {
      "cell_type": "code",
      "source": [
        "model2 =LogisticRegression(C=1,penalty='l2',solver = 'liblinear')"
      ],
      "metadata": {
        "id": "ui_1agDi8xgZ"
      },
      "execution_count": null,
      "outputs": []
    },
    {
      "cell_type": "code",
      "source": [
        "model2.fit(x_train_smote,y_train_smote)"
      ],
      "metadata": {
        "colab": {
          "base_uri": "https://localhost:8080/",
          "height": 74
        },
        "id": "11V4XGs09LlR",
        "outputId": "dd7a7320-c258-4fd6-fd11-8c90da62249e"
      },
      "execution_count": null,
      "outputs": [
        {
          "output_type": "execute_result",
          "data": {
            "text/plain": [
              "LogisticRegression(C=1, solver='liblinear')"
            ],
            "text/html": [
              "<style>#sk-container-id-4 {color: black;background-color: white;}#sk-container-id-4 pre{padding: 0;}#sk-container-id-4 div.sk-toggleable {background-color: white;}#sk-container-id-4 label.sk-toggleable__label {cursor: pointer;display: block;width: 100%;margin-bottom: 0;padding: 0.3em;box-sizing: border-box;text-align: center;}#sk-container-id-4 label.sk-toggleable__label-arrow:before {content: \"▸\";float: left;margin-right: 0.25em;color: #696969;}#sk-container-id-4 label.sk-toggleable__label-arrow:hover:before {color: black;}#sk-container-id-4 div.sk-estimator:hover label.sk-toggleable__label-arrow:before {color: black;}#sk-container-id-4 div.sk-toggleable__content {max-height: 0;max-width: 0;overflow: hidden;text-align: left;background-color: #f0f8ff;}#sk-container-id-4 div.sk-toggleable__content pre {margin: 0.2em;color: black;border-radius: 0.25em;background-color: #f0f8ff;}#sk-container-id-4 input.sk-toggleable__control:checked~div.sk-toggleable__content {max-height: 200px;max-width: 100%;overflow: auto;}#sk-container-id-4 input.sk-toggleable__control:checked~label.sk-toggleable__label-arrow:before {content: \"▾\";}#sk-container-id-4 div.sk-estimator input.sk-toggleable__control:checked~label.sk-toggleable__label {background-color: #d4ebff;}#sk-container-id-4 div.sk-label input.sk-toggleable__control:checked~label.sk-toggleable__label {background-color: #d4ebff;}#sk-container-id-4 input.sk-hidden--visually {border: 0;clip: rect(1px 1px 1px 1px);clip: rect(1px, 1px, 1px, 1px);height: 1px;margin: -1px;overflow: hidden;padding: 0;position: absolute;width: 1px;}#sk-container-id-4 div.sk-estimator {font-family: monospace;background-color: #f0f8ff;border: 1px dotted black;border-radius: 0.25em;box-sizing: border-box;margin-bottom: 0.5em;}#sk-container-id-4 div.sk-estimator:hover {background-color: #d4ebff;}#sk-container-id-4 div.sk-parallel-item::after {content: \"\";width: 100%;border-bottom: 1px solid gray;flex-grow: 1;}#sk-container-id-4 div.sk-label:hover label.sk-toggleable__label {background-color: #d4ebff;}#sk-container-id-4 div.sk-serial::before {content: \"\";position: absolute;border-left: 1px solid gray;box-sizing: border-box;top: 0;bottom: 0;left: 50%;z-index: 0;}#sk-container-id-4 div.sk-serial {display: flex;flex-direction: column;align-items: center;background-color: white;padding-right: 0.2em;padding-left: 0.2em;position: relative;}#sk-container-id-4 div.sk-item {position: relative;z-index: 1;}#sk-container-id-4 div.sk-parallel {display: flex;align-items: stretch;justify-content: center;background-color: white;position: relative;}#sk-container-id-4 div.sk-item::before, #sk-container-id-4 div.sk-parallel-item::before {content: \"\";position: absolute;border-left: 1px solid gray;box-sizing: border-box;top: 0;bottom: 0;left: 50%;z-index: -1;}#sk-container-id-4 div.sk-parallel-item {display: flex;flex-direction: column;z-index: 1;position: relative;background-color: white;}#sk-container-id-4 div.sk-parallel-item:first-child::after {align-self: flex-end;width: 50%;}#sk-container-id-4 div.sk-parallel-item:last-child::after {align-self: flex-start;width: 50%;}#sk-container-id-4 div.sk-parallel-item:only-child::after {width: 0;}#sk-container-id-4 div.sk-dashed-wrapped {border: 1px dashed gray;margin: 0 0.4em 0.5em 0.4em;box-sizing: border-box;padding-bottom: 0.4em;background-color: white;}#sk-container-id-4 div.sk-label label {font-family: monospace;font-weight: bold;display: inline-block;line-height: 1.2em;}#sk-container-id-4 div.sk-label-container {text-align: center;}#sk-container-id-4 div.sk-container {/* jupyter's `normalize.less` sets `[hidden] { display: none; }` but bootstrap.min.css set `[hidden] { display: none !important; }` so we also need the `!important` here to be able to override the default hidden behavior on the sphinx rendered scikit-learn.org. See: https://github.com/scikit-learn/scikit-learn/issues/21755 */display: inline-block !important;position: relative;}#sk-container-id-4 div.sk-text-repr-fallback {display: none;}</style><div id=\"sk-container-id-4\" class=\"sk-top-container\"><div class=\"sk-text-repr-fallback\"><pre>LogisticRegression(C=1, solver=&#x27;liblinear&#x27;)</pre><b>In a Jupyter environment, please rerun this cell to show the HTML representation or trust the notebook. <br />On GitHub, the HTML representation is unable to render, please try loading this page with nbviewer.org.</b></div><div class=\"sk-container\" hidden><div class=\"sk-item\"><div class=\"sk-estimator sk-toggleable\"><input class=\"sk-toggleable__control sk-hidden--visually\" id=\"sk-estimator-id-8\" type=\"checkbox\" checked><label for=\"sk-estimator-id-8\" class=\"sk-toggleable__label sk-toggleable__label-arrow\">LogisticRegression</label><div class=\"sk-toggleable__content\"><pre>LogisticRegression(C=1, solver=&#x27;liblinear&#x27;)</pre></div></div></div></div></div>"
            ]
          },
          "metadata": {},
          "execution_count": 67
        }
      ]
    },
    {
      "cell_type": "code",
      "source": [
        "y_ = model2.predict(x_test)"
      ],
      "metadata": {
        "id": "RxrpBZ309e9F"
      },
      "execution_count": null,
      "outputs": []
    },
    {
      "cell_type": "code",
      "source": [
        "accuracy_score(y_test,y_)"
      ],
      "metadata": {
        "colab": {
          "base_uri": "https://localhost:8080/"
        },
        "id": "nM4aO1pa9mZl",
        "outputId": "53a275b1-869e-46c7-94ed-0e57a3a00b6b"
      },
      "execution_count": null,
      "outputs": [
        {
          "output_type": "execute_result",
          "data": {
            "text/plain": [
              "1.0"
            ]
          },
          "metadata": {},
          "execution_count": 69
        }
      ]
    },
    {
      "cell_type": "code",
      "source": [
        "pd.crosstab(y_test,y_)"
      ],
      "metadata": {
        "colab": {
          "base_uri": "https://localhost:8080/",
          "height": 143
        },
        "id": "dte_YsL49q1C",
        "outputId": "2d714c1d-caf1-4bb1-ed64-a1aff4151328"
      },
      "execution_count": null,
      "outputs": [
        {
          "output_type": "execute_result",
          "data": {
            "text/plain": [
              "col_0      0   1\n",
              "Survived        \n",
              "0         71   0\n",
              "1          0  55"
            ],
            "text/html": [
              "\n",
              "  <div id=\"df-1c4e5921-81c8-4bbd-954c-4ef32f6deb69\" class=\"colab-df-container\">\n",
              "    <div>\n",
              "<style scoped>\n",
              "    .dataframe tbody tr th:only-of-type {\n",
              "        vertical-align: middle;\n",
              "    }\n",
              "\n",
              "    .dataframe tbody tr th {\n",
              "        vertical-align: top;\n",
              "    }\n",
              "\n",
              "    .dataframe thead th {\n",
              "        text-align: right;\n",
              "    }\n",
              "</style>\n",
              "<table border=\"1\" class=\"dataframe\">\n",
              "  <thead>\n",
              "    <tr style=\"text-align: right;\">\n",
              "      <th>col_0</th>\n",
              "      <th>0</th>\n",
              "      <th>1</th>\n",
              "    </tr>\n",
              "    <tr>\n",
              "      <th>Survived</th>\n",
              "      <th></th>\n",
              "      <th></th>\n",
              "    </tr>\n",
              "  </thead>\n",
              "  <tbody>\n",
              "    <tr>\n",
              "      <th>0</th>\n",
              "      <td>71</td>\n",
              "      <td>0</td>\n",
              "    </tr>\n",
              "    <tr>\n",
              "      <th>1</th>\n",
              "      <td>0</td>\n",
              "      <td>55</td>\n",
              "    </tr>\n",
              "  </tbody>\n",
              "</table>\n",
              "</div>\n",
              "    <div class=\"colab-df-buttons\">\n",
              "\n",
              "  <div class=\"colab-df-container\">\n",
              "    <button class=\"colab-df-convert\" onclick=\"convertToInteractive('df-1c4e5921-81c8-4bbd-954c-4ef32f6deb69')\"\n",
              "            title=\"Convert this dataframe to an interactive table.\"\n",
              "            style=\"display:none;\">\n",
              "\n",
              "  <svg xmlns=\"http://www.w3.org/2000/svg\" height=\"24px\" viewBox=\"0 -960 960 960\">\n",
              "    <path d=\"M120-120v-720h720v720H120Zm60-500h600v-160H180v160Zm220 220h160v-160H400v160Zm0 220h160v-160H400v160ZM180-400h160v-160H180v160Zm440 0h160v-160H620v160ZM180-180h160v-160H180v160Zm440 0h160v-160H620v160Z\"/>\n",
              "  </svg>\n",
              "    </button>\n",
              "\n",
              "  <style>\n",
              "    .colab-df-container {\n",
              "      display:flex;\n",
              "      gap: 12px;\n",
              "    }\n",
              "\n",
              "    .colab-df-convert {\n",
              "      background-color: #E8F0FE;\n",
              "      border: none;\n",
              "      border-radius: 50%;\n",
              "      cursor: pointer;\n",
              "      display: none;\n",
              "      fill: #1967D2;\n",
              "      height: 32px;\n",
              "      padding: 0 0 0 0;\n",
              "      width: 32px;\n",
              "    }\n",
              "\n",
              "    .colab-df-convert:hover {\n",
              "      background-color: #E2EBFA;\n",
              "      box-shadow: 0px 1px 2px rgba(60, 64, 67, 0.3), 0px 1px 3px 1px rgba(60, 64, 67, 0.15);\n",
              "      fill: #174EA6;\n",
              "    }\n",
              "\n",
              "    .colab-df-buttons div {\n",
              "      margin-bottom: 4px;\n",
              "    }\n",
              "\n",
              "    [theme=dark] .colab-df-convert {\n",
              "      background-color: #3B4455;\n",
              "      fill: #D2E3FC;\n",
              "    }\n",
              "\n",
              "    [theme=dark] .colab-df-convert:hover {\n",
              "      background-color: #434B5C;\n",
              "      box-shadow: 0px 1px 3px 1px rgba(0, 0, 0, 0.15);\n",
              "      filter: drop-shadow(0px 1px 2px rgba(0, 0, 0, 0.3));\n",
              "      fill: #FFFFFF;\n",
              "    }\n",
              "  </style>\n",
              "\n",
              "    <script>\n",
              "      const buttonEl =\n",
              "        document.querySelector('#df-1c4e5921-81c8-4bbd-954c-4ef32f6deb69 button.colab-df-convert');\n",
              "      buttonEl.style.display =\n",
              "        google.colab.kernel.accessAllowed ? 'block' : 'none';\n",
              "\n",
              "      async function convertToInteractive(key) {\n",
              "        const element = document.querySelector('#df-1c4e5921-81c8-4bbd-954c-4ef32f6deb69');\n",
              "        const dataTable =\n",
              "          await google.colab.kernel.invokeFunction('convertToInteractive',\n",
              "                                                    [key], {});\n",
              "        if (!dataTable) return;\n",
              "\n",
              "        const docLinkHtml = 'Like what you see? Visit the ' +\n",
              "          '<a target=\"_blank\" href=https://colab.research.google.com/notebooks/data_table.ipynb>data table notebook</a>'\n",
              "          + ' to learn more about interactive tables.';\n",
              "        element.innerHTML = '';\n",
              "        dataTable['output_type'] = 'display_data';\n",
              "        await google.colab.output.renderOutput(dataTable, element);\n",
              "        const docLink = document.createElement('div');\n",
              "        docLink.innerHTML = docLinkHtml;\n",
              "        element.appendChild(docLink);\n",
              "      }\n",
              "    </script>\n",
              "  </div>\n",
              "\n",
              "\n",
              "<div id=\"df-9cd8d0e0-ef9c-4b0e-b58b-6b1539a4d939\">\n",
              "  <button class=\"colab-df-quickchart\" onclick=\"quickchart('df-9cd8d0e0-ef9c-4b0e-b58b-6b1539a4d939')\"\n",
              "            title=\"Suggest charts.\"\n",
              "            style=\"display:none;\">\n",
              "\n",
              "<svg xmlns=\"http://www.w3.org/2000/svg\" height=\"24px\"viewBox=\"0 0 24 24\"\n",
              "     width=\"24px\">\n",
              "    <g>\n",
              "        <path d=\"M19 3H5c-1.1 0-2 .9-2 2v14c0 1.1.9 2 2 2h14c1.1 0 2-.9 2-2V5c0-1.1-.9-2-2-2zM9 17H7v-7h2v7zm4 0h-2V7h2v10zm4 0h-2v-4h2v4z\"/>\n",
              "    </g>\n",
              "</svg>\n",
              "  </button>\n",
              "\n",
              "<style>\n",
              "  .colab-df-quickchart {\n",
              "      --bg-color: #E8F0FE;\n",
              "      --fill-color: #1967D2;\n",
              "      --hover-bg-color: #E2EBFA;\n",
              "      --hover-fill-color: #174EA6;\n",
              "      --disabled-fill-color: #AAA;\n",
              "      --disabled-bg-color: #DDD;\n",
              "  }\n",
              "\n",
              "  [theme=dark] .colab-df-quickchart {\n",
              "      --bg-color: #3B4455;\n",
              "      --fill-color: #D2E3FC;\n",
              "      --hover-bg-color: #434B5C;\n",
              "      --hover-fill-color: #FFFFFF;\n",
              "      --disabled-bg-color: #3B4455;\n",
              "      --disabled-fill-color: #666;\n",
              "  }\n",
              "\n",
              "  .colab-df-quickchart {\n",
              "    background-color: var(--bg-color);\n",
              "    border: none;\n",
              "    border-radius: 50%;\n",
              "    cursor: pointer;\n",
              "    display: none;\n",
              "    fill: var(--fill-color);\n",
              "    height: 32px;\n",
              "    padding: 0;\n",
              "    width: 32px;\n",
              "  }\n",
              "\n",
              "  .colab-df-quickchart:hover {\n",
              "    background-color: var(--hover-bg-color);\n",
              "    box-shadow: 0 1px 2px rgba(60, 64, 67, 0.3), 0 1px 3px 1px rgba(60, 64, 67, 0.15);\n",
              "    fill: var(--button-hover-fill-color);\n",
              "  }\n",
              "\n",
              "  .colab-df-quickchart-complete:disabled,\n",
              "  .colab-df-quickchart-complete:disabled:hover {\n",
              "    background-color: var(--disabled-bg-color);\n",
              "    fill: var(--disabled-fill-color);\n",
              "    box-shadow: none;\n",
              "  }\n",
              "\n",
              "  .colab-df-spinner {\n",
              "    border: 2px solid var(--fill-color);\n",
              "    border-color: transparent;\n",
              "    border-bottom-color: var(--fill-color);\n",
              "    animation:\n",
              "      spin 1s steps(1) infinite;\n",
              "  }\n",
              "\n",
              "  @keyframes spin {\n",
              "    0% {\n",
              "      border-color: transparent;\n",
              "      border-bottom-color: var(--fill-color);\n",
              "      border-left-color: var(--fill-color);\n",
              "    }\n",
              "    20% {\n",
              "      border-color: transparent;\n",
              "      border-left-color: var(--fill-color);\n",
              "      border-top-color: var(--fill-color);\n",
              "    }\n",
              "    30% {\n",
              "      border-color: transparent;\n",
              "      border-left-color: var(--fill-color);\n",
              "      border-top-color: var(--fill-color);\n",
              "      border-right-color: var(--fill-color);\n",
              "    }\n",
              "    40% {\n",
              "      border-color: transparent;\n",
              "      border-right-color: var(--fill-color);\n",
              "      border-top-color: var(--fill-color);\n",
              "    }\n",
              "    60% {\n",
              "      border-color: transparent;\n",
              "      border-right-color: var(--fill-color);\n",
              "    }\n",
              "    80% {\n",
              "      border-color: transparent;\n",
              "      border-right-color: var(--fill-color);\n",
              "      border-bottom-color: var(--fill-color);\n",
              "    }\n",
              "    90% {\n",
              "      border-color: transparent;\n",
              "      border-bottom-color: var(--fill-color);\n",
              "    }\n",
              "  }\n",
              "</style>\n",
              "\n",
              "  <script>\n",
              "    async function quickchart(key) {\n",
              "      const quickchartButtonEl =\n",
              "        document.querySelector('#' + key + ' button');\n",
              "      quickchartButtonEl.disabled = true;  // To prevent multiple clicks.\n",
              "      quickchartButtonEl.classList.add('colab-df-spinner');\n",
              "      try {\n",
              "        const charts = await google.colab.kernel.invokeFunction(\n",
              "            'suggestCharts', [key], {});\n",
              "      } catch (error) {\n",
              "        console.error('Error during call to suggestCharts:', error);\n",
              "      }\n",
              "      quickchartButtonEl.classList.remove('colab-df-spinner');\n",
              "      quickchartButtonEl.classList.add('colab-df-quickchart-complete');\n",
              "    }\n",
              "    (() => {\n",
              "      let quickchartButtonEl =\n",
              "        document.querySelector('#df-9cd8d0e0-ef9c-4b0e-b58b-6b1539a4d939 button');\n",
              "      quickchartButtonEl.style.display =\n",
              "        google.colab.kernel.accessAllowed ? 'block' : 'none';\n",
              "    })();\n",
              "  </script>\n",
              "</div>\n",
              "    </div>\n",
              "  </div>\n"
            ]
          },
          "metadata": {},
          "execution_count": 70
        }
      ]
    },
    {
      "cell_type": "code",
      "source": [
        "print(classification_report(y_test,y_))"
      ],
      "metadata": {
        "colab": {
          "base_uri": "https://localhost:8080/"
        },
        "id": "G0UYMRZ19vxW",
        "outputId": "7911074b-faec-4cf1-a285-dde8cd5703c2"
      },
      "execution_count": null,
      "outputs": [
        {
          "output_type": "stream",
          "name": "stdout",
          "text": [
            "              precision    recall  f1-score   support\n",
            "\n",
            "           0       1.00      1.00      1.00        71\n",
            "           1       1.00      1.00      1.00        55\n",
            "\n",
            "    accuracy                           1.00       126\n",
            "   macro avg       1.00      1.00      1.00       126\n",
            "weighted avg       1.00      1.00      1.00       126\n",
            "\n"
          ]
        }
      ]
    },
    {
      "cell_type": "code",
      "source": [
        "from sklearn.metrics import roc_auc_score,roc_curve"
      ],
      "metadata": {
        "id": "VQiUok6p-diy"
      },
      "execution_count": null,
      "outputs": []
    },
    {
      "cell_type": "code",
      "source": [
        "probability  = model2.predict_proba(x_test)[:,1]\n",
        "probability"
      ],
      "metadata": {
        "colab": {
          "base_uri": "https://localhost:8080/"
        },
        "id": "eaSYZJ1Z-K1G",
        "outputId": "f56102bd-9b84-4ef6-a26b-6ec55fc21c17"
      },
      "execution_count": null,
      "outputs": [
        {
          "output_type": "execute_result",
          "data": {
            "text/plain": [
              "array([0.03165679, 0.03462061, 0.94690868, 0.02738159, 0.97497349,\n",
              "       0.03211167, 0.91380109, 0.03473733, 0.02644803, 0.03220647,\n",
              "       0.96040329, 0.92619258, 0.0346248 , 0.02875006, 0.02806014,\n",
              "       0.03478951, 0.9707204 , 0.03692667, 0.95439603, 0.96232753,\n",
              "       0.03059601, 0.95706476, 0.03094536, 0.01974406, 0.04027942,\n",
              "       0.0309237 , 0.95993947, 0.03779503, 0.0377072 , 0.031261  ,\n",
              "       0.93378831, 0.9467135 , 0.96649438, 0.94631399, 0.94924987,\n",
              "       0.02146909, 0.04091125, 0.95160855, 0.92530073, 0.949993  ,\n",
              "       0.95087578, 0.03217336, 0.94924987, 0.96862888, 0.01964023,\n",
              "       0.96558682, 0.03478951, 0.02538294, 0.03064001, 0.0287294 ,\n",
              "       0.03003531, 0.95103583, 0.97383315, 0.03462903, 0.03621796,\n",
              "       0.9303369 , 0.02738159, 0.96615294, 0.03180452, 0.03451964,\n",
              "       0.04613575, 0.95838183, 0.91780218, 0.02738159, 0.04241167,\n",
              "       0.95516363, 0.96681066, 0.96923265, 0.94412811, 0.03388732,\n",
              "       0.03344202, 0.96596383, 0.94307899, 0.92163347, 0.95871997,\n",
              "       0.04363994, 0.02989104, 0.96101091, 0.02014689, 0.9617915 ,\n",
              "       0.04300515, 0.9558376 , 0.01999415, 0.0433635 , 0.03104392,\n",
              "       0.03334371, 0.01995677, 0.97861776, 0.97041587, 0.02738159,\n",
              "       0.95991523, 0.94341537, 0.01772898, 0.02016032, 0.02724795,\n",
              "       0.96760346, 0.95849372, 0.955716  , 0.03663783, 0.05483412,\n",
              "       0.02533783, 0.0214682 , 0.03211167, 0.9467135 , 0.03276719,\n",
              "       0.93242015, 0.03839082, 0.92842016, 0.94261339, 0.03334302,\n",
              "       0.03621796, 0.03061796, 0.02671072, 0.9577902 , 0.0254006 ,\n",
              "       0.96800087, 0.94601916, 0.03430491, 0.9273466 , 0.03747376,\n",
              "       0.03473172, 0.03211167, 0.02738159, 0.02779945, 0.92880962,\n",
              "       0.03592498])"
            ]
          },
          "metadata": {},
          "execution_count": 73
        }
      ]
    },
    {
      "cell_type": "code",
      "source": [
        "fpr,tpr,threshsholds = roc_curve(y_test,probability)"
      ],
      "metadata": {
        "id": "ju-GDu3c-TD8"
      },
      "execution_count": null,
      "outputs": []
    },
    {
      "cell_type": "code",
      "source": [
        "\n",
        "plt.plot(fpr,tpr)\n",
        "plt.xlabel('FPR')\n",
        "plt.ylabel('TPR')\n",
        "plt.title('ROC CURVE')\n",
        "plt.show()"
      ],
      "metadata": {
        "colab": {
          "base_uri": "https://localhost:8080/",
          "height": 472
        },
        "id": "86owrBxl-wSh",
        "outputId": "4a3d05cc-b137-4c4d-cd32-81020c1a08f2"
      },
      "execution_count": null,
      "outputs": [
        {
          "output_type": "display_data",
          "data": {
            "text/plain": [
              "<Figure size 640x480 with 1 Axes>"
            ],
            "image/png": "[encoded data removed]"
          },
          "metadata": {}
        }
      ]
    },
    {
      "cell_type": "code",
      "source": [
        "roc_auc_score(y_test,probability)"
      ],
      "metadata": {
        "colab": {
          "base_uri": "https://localhost:8080/"
        },
        "id": "cpwdOS6j-1gq",
        "outputId": "fcf47414-fca2-4afb-c578-243182123463"
      },
      "execution_count": null,
      "outputs": [
        {
          "output_type": "execute_result",
          "data": {
            "text/plain": [
              "1.0"
            ]
          },
          "metadata": {},
          "execution_count": 76
        }
      ]
    },
    {
      "cell_type": "markdown",
      "source": [
        "Random Forest Classifier"
      ],
      "metadata": {
        "id": "FNbL68wN_IXL"
      }
    },
    {
      "cell_type": "code",
      "source": [
        "from sklearn.ensemble import RandomForestClassifier"
      ],
      "metadata": {
        "id": "MWxvSukI_NfP"
      },
      "execution_count": null,
      "outputs": []
    },
    {
      "cell_type": "code",
      "source": [
        "model3 =RandomForestClassifier(criterion='entropy')"
      ],
      "metadata": {
        "id": "kjeRVrywBOMN"
      },
      "execution_count": null,
      "outputs": []
    },
    {
      "cell_type": "code",
      "source": [
        "parameters = {\n",
        "\t'n_estimators': [25, 50, 100, 150],\n",
        "\t'max_features': ['sqrt', 'log2', None],\n",
        "\t'max_depth': [3, 6, 9],\n",
        "\t'max_leaf_nodes': [3, 6, 9],\n",
        "}"
      ],
      "metadata": {
        "id": "26GS3ZW3_axM"
      },
      "execution_count": null,
      "outputs": []
    },
    {
      "cell_type": "code",
      "source": [
        "clf = GridSearchCV(model3,param_grid = parameters,verbose =2)"
      ],
      "metadata": {
        "id": "ccWt-0paAypa"
      },
      "execution_count": null,
      "outputs": []
    },
    {
      "cell_type": "code",
      "source": [
        "clf.fit(x_train_smote,y_train_smote)"
      ],
      "metadata": {
        "colab": {
          "base_uri": "https://localhost:8080/",
          "height": 1000
        },
        "id": "GoMzo1aoBo03",
        "outputId": "0b4ef234-040f-4908-f2e9-0c3b074195f0"
      },
      "execution_count": null,
      "outputs": [
        {
          "output_type": "stream",
          "name": "stdout",
          "text": [
            "Fitting 5 folds for each of 108 candidates, totalling 540 fits\n",
            "[CV] END max_depth=3, max_features=sqrt, max_leaf_nodes=3, n_estimators=25; total time=   0.1s\n",
            "[CV] END max_depth=3, max_features=sqrt, max_leaf_nodes=3, n_estimators=25; total time=   0.0s\n",
            "[CV] END max_depth=3, max_features=sqrt, max_leaf_nodes=3, n_estimators=25; total time=   0.0s\n",
            "[CV] END max_depth=3, max_features=sqrt, max_leaf_nodes=3, n_estimators=25; total time=   0.0s\n",
            "[CV] END max_depth=3, max_features=sqrt, max_leaf_nodes=3, n_estimators=25; total time=   0.1s\n",
            "[CV] END max_depth=3, max_features=sqrt, max_leaf_nodes=3, n_estimators=50; total time=   0.1s\n",
            "[CV] END max_depth=3, max_features=sqrt, max_leaf_nodes=3, n_estimators=50; total time=   0.1s\n",
            "[CV] END max_depth=3, max_features=sqrt, max_leaf_nodes=3, n_estimators=50; total time=   0.1s\n",
            "[CV] END max_depth=3, max_features=sqrt, max_leaf_nodes=3, n_estimators=50; total time=   0.1s\n",
            "[CV] END max_depth=3, max_features=sqrt, max_leaf_nodes=3, n_estimators=50; total time=   0.1s\n",
            "[CV] END max_depth=3, max_features=sqrt, max_leaf_nodes=3, n_estimators=100; total time=   0.2s\n",
            "[CV] END max_depth=3, max_features=sqrt, max_leaf_nodes=3, n_estimators=100; total time=   0.2s\n",
            "[CV] END max_depth=3, max_features=sqrt, max_leaf_nodes=3, n_estimators=100; total time=   0.2s\n",
            "[CV] END max_depth=3, max_features=sqrt, max_leaf_nodes=3, n_estimators=100; total time=   0.1s\n",
            "[CV] END max_depth=3, max_features=sqrt, max_leaf_nodes=3, n_estimators=100; total time=   0.2s\n",
            "[CV] END max_depth=3, max_features=sqrt, max_leaf_nodes=3, n_estimators=150; total time=   0.2s\n",
            "[CV] END max_depth=3, max_features=sqrt, max_leaf_nodes=3, n_estimators=150; total time=   0.2s\n",
            "[CV] END max_depth=3, max_features=sqrt, max_leaf_nodes=3, n_estimators=150; total time=   0.2s\n",
            "[CV] END max_depth=3, max_features=sqrt, max_leaf_nodes=3, n_estimators=150; total time=   0.2s\n",
            "[CV] END max_depth=3, max_features=sqrt, max_leaf_nodes=3, n_estimators=150; total time=   0.2s\n",
            "[CV] END max_depth=3, max_features=sqrt, max_leaf_nodes=6, n_estimators=25; total time=   0.0s\n",
            "[CV] END max_depth=3, max_features=sqrt, max_leaf_nodes=6, n_estimators=25; total time=   0.0s\n",
            "[CV] END max_depth=3, max_features=sqrt, max_leaf_nodes=6, n_estimators=25; total time=   0.1s\n",
            "[CV] END max_depth=3, max_features=sqrt, max_leaf_nodes=6, n_estimators=25; total time=   0.0s\n",
            "[CV] END max_depth=3, max_features=sqrt, max_leaf_nodes=6, n_estimators=25; total time=   0.0s\n",
            "[CV] END max_depth=3, max_features=sqrt, max_leaf_nodes=6, n_estimators=50; total time=   0.1s\n",
            "[CV] END max_depth=3, max_features=sqrt, max_leaf_nodes=6, n_estimators=50; total time=   0.1s\n",
            "[CV] END max_depth=3, max_features=sqrt, max_leaf_nodes=6, n_estimators=50; total time=   0.1s\n",
            "[CV] END max_depth=3, max_features=sqrt, max_leaf_nodes=6, n_estimators=50; total time=   0.1s\n",
            "[CV] END max_depth=3, max_features=sqrt, max_leaf_nodes=6, n_estimators=50; total time=   0.1s\n",
            "[CV] END max_depth=3, max_features=sqrt, max_leaf_nodes=6, n_estimators=100; total time=   0.2s\n",
            "[CV] END max_depth=3, max_features=sqrt, max_leaf_nodes=6, n_estimators=100; total time=   0.2s\n",
            "[CV] END max_depth=3, max_features=sqrt, max_leaf_nodes=6, n_estimators=100; total time=   0.2s\n",
            "[CV] END max_depth=3, max_features=sqrt, max_leaf_nodes=6, n_estimators=100; total time=   0.2s\n",
            "[CV] END max_depth=3, max_features=sqrt, max_leaf_nodes=6, n_estimators=100; total time=   0.2s\n",
            "[CV] END max_depth=3, max_features=sqrt, max_leaf_nodes=6, n_estimators=150; total time=   0.2s\n",
            "[CV] END max_depth=3, max_features=sqrt, max_leaf_nodes=6, n_estimators=150; total time=   0.2s\n",
            "[CV] END max_depth=3, max_features=sqrt, max_leaf_nodes=6, n_estimators=150; total time=   0.2s\n",
            "[CV] END max_depth=3, max_features=sqrt, max_leaf_nodes=6, n_estimators=150; total time=   0.2s\n",
            "[CV] END max_depth=3, max_features=sqrt, max_leaf_nodes=6, n_estimators=150; total time=   0.3s\n",
            "[CV] END max_depth=3, max_features=sqrt, max_leaf_nodes=9, n_estimators=25; total time=   0.0s\n",
            "[CV] END max_depth=3, max_features=sqrt, max_leaf_nodes=9, n_estimators=25; total time=   0.0s\n",
            "[CV] END max_depth=3, max_features=sqrt, max_leaf_nodes=9, n_estimators=25; total time=   0.0s\n",
            "[CV] END max_depth=3, max_features=sqrt, max_leaf_nodes=9, n_estimators=25; total time=   0.0s\n",
            "[CV] END max_depth=3, max_features=sqrt, max_leaf_nodes=9, n_estimators=25; total time=   0.0s\n",
            "[CV] END max_depth=3, max_features=sqrt, max_leaf_nodes=9, n_estimators=50; total time=   0.1s\n",
            "[CV] END max_depth=3, max_features=sqrt, max_leaf_nodes=9, n_estimators=50; total time=   0.1s\n",
            "[CV] END max_depth=3, max_features=sqrt, max_leaf_nodes=9, n_estimators=50; total time=   0.1s\n",
            "[CV] END max_depth=3, max_features=sqrt, max_leaf_nodes=9, n_estimators=50; total time=   0.1s\n",
            "[CV] END max_depth=3, max_features=sqrt, max_leaf_nodes=9, n_estimators=50; total time=   0.1s\n",
            "[CV] END max_depth=3, max_features=sqrt, max_leaf_nodes=9, n_estimators=100; total time=   0.2s\n",
            "[CV] END max_depth=3, max_features=sqrt, max_leaf_nodes=9, n_estimators=100; total time=   0.2s\n",
            "[CV] END max_depth=3, max_features=sqrt, max_leaf_nodes=9, n_estimators=100; total time=   0.2s\n",
            "[CV] END max_depth=3, max_features=sqrt, max_leaf_nodes=9, n_estimators=100; total time=   0.1s\n",
            "[CV] END max_depth=3, max_features=sqrt, max_leaf_nodes=9, n_estimators=100; total time=   0.2s\n",
            "[CV] END max_depth=3, max_features=sqrt, max_leaf_nodes=9, n_estimators=150; total time=   0.2s\n",
            "[CV] END max_depth=3, max_features=sqrt, max_leaf_nodes=9, n_estimators=150; total time=   0.2s\n",
            "[CV] END max_depth=3, max_features=sqrt, max_leaf_nodes=9, n_estimators=150; total time=   0.2s\n",
            "[CV] END max_depth=3, max_features=sqrt, max_leaf_nodes=9, n_estimators=150; total time=   0.2s\n",
            "[CV] END max_depth=3, max_features=sqrt, max_leaf_nodes=9, n_estimators=150; total time=   0.2s\n",
            "[CV] END max_depth=3, max_features=log2, max_leaf_nodes=3, n_estimators=25; total time=   0.0s\n",
            "[CV] END max_depth=3, max_features=log2, max_leaf_nodes=3, n_estimators=25; total time=   0.0s\n",
            "[CV] END max_depth=3, max_features=log2, max_leaf_nodes=3, n_estimators=25; total time=   0.0s\n",
            "[CV] END max_depth=3, max_features=log2, max_leaf_nodes=3, n_estimators=25; total time=   0.0s\n",
            "[CV] END max_depth=3, max_features=log2, max_leaf_nodes=3, n_estimators=25; total time=   0.1s\n",
            "[CV] END max_depth=3, max_features=log2, max_leaf_nodes=3, n_estimators=50; total time=   0.1s\n",
            "[CV] END max_depth=3, max_features=log2, max_leaf_nodes=3, n_estimators=50; total time=   0.1s\n",
            "[CV] END max_depth=3, max_features=log2, max_leaf_nodes=3, n_estimators=50; total time=   0.1s\n",
            "[CV] END max_depth=3, max_features=log2, max_leaf_nodes=3, n_estimators=50; total time=   0.1s\n",
            "[CV] END max_depth=3, max_features=log2, max_leaf_nodes=3, n_estimators=50; total time=   0.1s\n",
            "[CV] END max_depth=3, max_features=log2, max_leaf_nodes=3, n_estimators=100; total time=   0.2s\n",
            "[CV] END max_depth=3, max_features=log2, max_leaf_nodes=3, n_estimators=100; total time=   0.3s\n",
            "[CV] END max_depth=3, max_features=log2, max_leaf_nodes=3, n_estimators=100; total time=   0.3s\n",
            "[CV] END max_depth=3, max_features=log2, max_leaf_nodes=3, n_estimators=100; total time=   0.3s\n",
            "[CV] END max_depth=3, max_features=log2, max_leaf_nodes=3, n_estimators=100; total time=   0.3s\n",
            "[CV] END max_depth=3, max_features=log2, max_leaf_nodes=3, n_estimators=150; total time=   0.4s\n",
            "[CV] END max_depth=3, max_features=log2, max_leaf_nodes=3, n_estimators=150; total time=   0.4s\n",
            "[CV] END max_depth=3, max_features=log2, max_leaf_nodes=3, n_estimators=150; total time=   0.4s\n",
            "[CV] END max_depth=3, max_features=log2, max_leaf_nodes=3, n_estimators=150; total time=   0.4s\n",
            "[CV] END max_depth=3, max_features=log2, max_leaf_nodes=3, n_estimators=150; total time=   0.2s\n",
            "[CV] END max_depth=3, max_features=log2, max_leaf_nodes=6, n_estimators=25; total time=   0.0s\n",
            "[CV] END max_depth=3, max_features=log2, max_leaf_nodes=6, n_estimators=25; total time=   0.0s\n",
            "[CV] END max_depth=3, max_features=log2, max_leaf_nodes=6, n_estimators=25; total time=   0.0s\n",
            "[CV] END max_depth=3, max_features=log2, max_leaf_nodes=6, n_estimators=25; total time=   0.0s\n",
            "[CV] END max_depth=3, max_features=log2, max_leaf_nodes=6, n_estimators=25; total time=   0.0s\n",
            "[CV] END max_depth=3, max_features=log2, max_leaf_nodes=6, n_estimators=50; total time=   0.1s\n",
            "[CV] END max_depth=3, max_features=log2, max_leaf_nodes=6, n_estimators=50; total time=   0.1s\n",
            "[CV] END max_depth=3, max_features=log2, max_leaf_nodes=6, n_estimators=50; total time=   0.1s\n",
            "[CV] END max_depth=3, max_features=log2, max_leaf_nodes=6, n_estimators=50; total time=   0.1s\n",
            "[CV] END max_depth=3, max_features=log2, max_leaf_nodes=6, n_estimators=50; total time=   0.1s\n",
            "[CV] END max_depth=3, max_features=log2, max_leaf_nodes=6, n_estimators=100; total time=   0.2s\n",
            "[CV] END max_depth=3, max_features=log2, max_leaf_nodes=6, n_estimators=100; total time=   0.1s\n",
            "[CV] END max_depth=3, max_features=log2, max_leaf_nodes=6, n_estimators=100; total time=   0.2s\n",
            "[CV] END max_depth=3, max_features=log2, max_leaf_nodes=6, n_estimators=100; total time=   0.1s\n",
            "[CV] END max_depth=3, max_features=log2, max_leaf_nodes=6, n_estimators=100; total time=   0.2s\n",
            "[CV] END max_depth=3, max_features=log2, max_leaf_nodes=6, n_estimators=150; total time=   0.2s\n",
            "[CV] END max_depth=3, max_features=log2, max_leaf_nodes=6, n_estimators=150; total time=   0.2s\n",
            "[CV] END max_depth=3, max_features=log2, max_leaf_nodes=6, n_estimators=150; total time=   0.3s\n",
            "[CV] END max_depth=3, max_features=log2, max_leaf_nodes=6, n_estimators=150; total time=   0.2s\n",
            "[CV] END max_depth=3, max_features=log2, max_leaf_nodes=6, n_estimators=150; total time=   0.2s\n",
            "[CV] END max_depth=3, max_features=log2, max_leaf_nodes=9, n_estimators=25; total time=   0.0s\n",
            "[CV] END max_depth=3, max_features=log2, max_leaf_nodes=9, n_estimators=25; total time=   0.0s\n",
            "[CV] END max_depth=3, max_features=log2, max_leaf_nodes=9, n_estimators=25; total time=   0.0s\n",
            "[CV] END max_depth=3, max_features=log2, max_leaf_nodes=9, n_estimators=25; total time=   0.1s\n",
            "[CV] END max_depth=3, max_features=log2, max_leaf_nodes=9, n_estimators=25; total time=   0.1s\n",
            "[CV] END max_depth=3, max_features=log2, max_leaf_nodes=9, n_estimators=50; total time=   0.1s\n",
            "[CV] END max_depth=3, max_features=log2, max_leaf_nodes=9, n_estimators=50; total time=   0.1s\n",
            "[CV] END max_depth=3, max_features=log2, max_leaf_nodes=9, n_estimators=50; total time=   0.1s\n",
            "[CV] END max_depth=3, max_features=log2, max_leaf_nodes=9, n_estimators=50; total time=   0.1s\n",
            "[CV] END max_depth=3, max_features=log2, max_leaf_nodes=9, n_estimators=50; total time=   0.1s\n",
            "[CV] END max_depth=3, max_features=log2, max_leaf_nodes=9, n_estimators=100; total time=   0.2s\n",
            "[CV] END max_depth=3, max_features=log2, max_leaf_nodes=9, n_estimators=100; total time=   0.2s\n",
            "[CV] END max_depth=3, max_features=log2, max_leaf_nodes=9, n_estimators=100; total time=   0.2s\n",
            "[CV] END max_depth=3, max_features=log2, max_leaf_nodes=9, n_estimators=100; total time=   0.2s\n",
            "[CV] END max_depth=3, max_features=log2, max_leaf_nodes=9, n_estimators=100; total time=   0.2s\n",
            "[CV] END max_depth=3, max_features=log2, max_leaf_nodes=9, n_estimators=150; total time=   0.2s\n",
            "[CV] END max_depth=3, max_features=log2, max_leaf_nodes=9, n_estimators=150; total time=   0.2s\n",
            "[CV] END max_depth=3, max_features=log2, max_leaf_nodes=9, n_estimators=150; total time=   0.2s\n",
            "[CV] END max_depth=3, max_features=log2, max_leaf_nodes=9, n_estimators=150; total time=   0.2s\n",
            "[CV] END max_depth=3, max_features=log2, max_leaf_nodes=9, n_estimators=150; total time=   0.2s\n",
            "[CV] END max_depth=3, max_features=None, max_leaf_nodes=3, n_estimators=25; total time=   0.0s\n",
            "[CV] END max_depth=3, max_features=None, max_leaf_nodes=3, n_estimators=25; total time=   0.0s\n",
            "[CV] END max_depth=3, max_features=None, max_leaf_nodes=3, n_estimators=25; total time=   0.0s\n",
            "[CV] END max_depth=3, max_features=None, max_leaf_nodes=3, n_estimators=25; total time=   0.0s\n",
            "[CV] END max_depth=3, max_features=None, max_leaf_nodes=3, n_estimators=25; total time=   0.0s\n",
            "[CV] END max_depth=3, max_features=None, max_leaf_nodes=3, n_estimators=50; total time=   0.1s\n",
            "[CV] END max_depth=3, max_features=None, max_leaf_nodes=3, n_estimators=50; total time=   0.1s\n",
            "[CV] END max_depth=3, max_features=None, max_leaf_nodes=3, n_estimators=50; total time=   0.1s\n",
            "[CV] END max_depth=3, max_features=None, max_leaf_nodes=3, n_estimators=50; total time=   0.1s\n",
            "[CV] END max_depth=3, max_features=None, max_leaf_nodes=3, n_estimators=50; total time=   0.1s\n",
            "[CV] END max_depth=3, max_features=None, max_leaf_nodes=3, n_estimators=100; total time=   0.2s\n",
            "[CV] END max_depth=3, max_features=None, max_leaf_nodes=3, n_estimators=100; total time=   0.2s\n",
            "[CV] END max_depth=3, max_features=None, max_leaf_nodes=3, n_estimators=100; total time=   0.2s\n",
            "[CV] END max_depth=3, max_features=None, max_leaf_nodes=3, n_estimators=100; total time=   0.2s\n",
            "[CV] END max_depth=3, max_features=None, max_leaf_nodes=3, n_estimators=100; total time=   0.2s\n",
            "[CV] END max_depth=3, max_features=None, max_leaf_nodes=3, n_estimators=150; total time=   0.2s\n",
            "[CV] END max_depth=3, max_features=None, max_leaf_nodes=3, n_estimators=150; total time=   0.2s\n",
            "[CV] END max_depth=3, max_features=None, max_leaf_nodes=3, n_estimators=150; total time=   0.2s\n",
            "[CV] END max_depth=3, max_features=None, max_leaf_nodes=3, n_estimators=150; total time=   0.2s\n",
            "[CV] END max_depth=3, max_features=None, max_leaf_nodes=3, n_estimators=150; total time=   0.2s\n",
            "[CV] END max_depth=3, max_features=None, max_leaf_nodes=6, n_estimators=25; total time=   0.1s\n",
            "[CV] END max_depth=3, max_features=None, max_leaf_nodes=6, n_estimators=25; total time=   0.0s\n",
            "[CV] END max_depth=3, max_features=None, max_leaf_nodes=6, n_estimators=25; total time=   0.0s\n",
            "[CV] END max_depth=3, max_features=None, max_leaf_nodes=6, n_estimators=25; total time=   0.0s\n",
            "[CV] END max_depth=3, max_features=None, max_leaf_nodes=6, n_estimators=25; total time=   0.0s\n",
            "[CV] END max_depth=3, max_features=None, max_leaf_nodes=6, n_estimators=50; total time=   0.1s\n",
            "[CV] END max_depth=3, max_features=None, max_leaf_nodes=6, n_estimators=50; total time=   0.1s\n",
            "[CV] END max_depth=3, max_features=None, max_leaf_nodes=6, n_estimators=50; total time=   0.1s\n",
            "[CV] END max_depth=3, max_features=None, max_leaf_nodes=6, n_estimators=50; total time=   0.1s\n",
            "[CV] END max_depth=3, max_features=None, max_leaf_nodes=6, n_estimators=50; total time=   0.1s\n",
            "[CV] END max_depth=3, max_features=None, max_leaf_nodes=6, n_estimators=100; total time=   0.2s\n",
            "[CV] END max_depth=3, max_features=None, max_leaf_nodes=6, n_estimators=100; total time=   0.2s\n",
            "[CV] END max_depth=3, max_features=None, max_leaf_nodes=6, n_estimators=100; total time=   0.2s\n",
            "[CV] END max_depth=3, max_features=None, max_leaf_nodes=6, n_estimators=100; total time=   0.1s\n",
            "[CV] END max_depth=3, max_features=None, max_leaf_nodes=6, n_estimators=100; total time=   0.2s\n",
            "[CV] END max_depth=3, max_features=None, max_leaf_nodes=6, n_estimators=150; total time=   0.2s\n",
            "[CV] END max_depth=3, max_features=None, max_leaf_nodes=6, n_estimators=150; total time=   0.3s\n",
            "[CV] END max_depth=3, max_features=None, max_leaf_nodes=6, n_estimators=150; total time=   0.4s\n",
            "[CV] END max_depth=3, max_features=None, max_leaf_nodes=6, n_estimators=150; total time=   0.4s\n",
            "[CV] END max_depth=3, max_features=None, max_leaf_nodes=6, n_estimators=150; total time=   0.4s\n",
            "[CV] END max_depth=3, max_features=None, max_leaf_nodes=9, n_estimators=25; total time=   0.1s\n",
            "[CV] END max_depth=3, max_features=None, max_leaf_nodes=9, n_estimators=25; total time=   0.1s\n",
            "[CV] END max_depth=3, max_features=None, max_leaf_nodes=9, n_estimators=25; total time=   0.1s\n",
            "[CV] END max_depth=3, max_features=None, max_leaf_nodes=9, n_estimators=25; total time=   0.1s\n",
            "[CV] END max_depth=3, max_features=None, max_leaf_nodes=9, n_estimators=25; total time=   0.1s\n",
            "[CV] END max_depth=3, max_features=None, max_leaf_nodes=9, n_estimators=50; total time=   0.1s\n",
            "[CV] END max_depth=3, max_features=None, max_leaf_nodes=9, n_estimators=50; total time=   0.1s\n",
            "[CV] END max_depth=3, max_features=None, max_leaf_nodes=9, n_estimators=50; total time=   0.1s\n",
            "[CV] END max_depth=3, max_features=None, max_leaf_nodes=9, n_estimators=50; total time=   0.1s\n",
            "[CV] END max_depth=3, max_features=None, max_leaf_nodes=9, n_estimators=50; total time=   0.1s\n",
            "[CV] END max_depth=3, max_features=None, max_leaf_nodes=9, n_estimators=100; total time=   0.3s\n",
            "[CV] END max_depth=3, max_features=None, max_leaf_nodes=9, n_estimators=100; total time=   0.2s\n",
            "[CV] END max_depth=3, max_features=None, max_leaf_nodes=9, n_estimators=100; total time=   0.2s\n",
            "[CV] END max_depth=3, max_features=None, max_leaf_nodes=9, n_estimators=100; total time=   0.2s\n",
            "[CV] END max_depth=3, max_features=None, max_leaf_nodes=9, n_estimators=100; total time=   0.2s\n",
            "[CV] END max_depth=3, max_features=None, max_leaf_nodes=9, n_estimators=150; total time=   0.2s\n",
            "[CV] END max_depth=3, max_features=None, max_leaf_nodes=9, n_estimators=150; total time=   0.3s\n",
            "[CV] END max_depth=3, max_features=None, max_leaf_nodes=9, n_estimators=150; total time=   0.2s\n",
            "[CV] END max_depth=3, max_features=None, max_leaf_nodes=9, n_estimators=150; total time=   0.2s\n",
            "[CV] END max_depth=3, max_features=None, max_leaf_nodes=9, n_estimators=150; total time=   0.2s\n",
            "[CV] END max_depth=6, max_features=sqrt, max_leaf_nodes=3, n_estimators=25; total time=   0.0s\n",
            "[CV] END max_depth=6, max_features=sqrt, max_leaf_nodes=3, n_estimators=25; total time=   0.0s\n",
            "[CV] END max_depth=6, max_features=sqrt, max_leaf_nodes=3, n_estimators=25; total time=   0.0s\n",
            "[CV] END max_depth=6, max_features=sqrt, max_leaf_nodes=3, n_estimators=25; total time=   0.0s\n",
            "[CV] END max_depth=6, max_features=sqrt, max_leaf_nodes=3, n_estimators=25; total time=   0.0s\n",
            "[CV] END max_depth=6, max_features=sqrt, max_leaf_nodes=3, n_estimators=50; total time=   0.1s\n",
            "[CV] END max_depth=6, max_features=sqrt, max_leaf_nodes=3, n_estimators=50; total time=   0.1s\n",
            "[CV] END max_depth=6, max_features=sqrt, max_leaf_nodes=3, n_estimators=50; total time=   0.1s\n",
            "[CV] END max_depth=6, max_features=sqrt, max_leaf_nodes=3, n_estimators=50; total time=   0.1s\n",
            "[CV] END max_depth=6, max_features=sqrt, max_leaf_nodes=3, n_estimators=50; total time=   0.1s\n",
            "[CV] END max_depth=6, max_features=sqrt, max_leaf_nodes=3, n_estimators=100; total time=   0.2s\n",
            "[CV] END max_depth=6, max_features=sqrt, max_leaf_nodes=3, n_estimators=100; total time=   0.2s\n",
            "[CV] END max_depth=6, max_features=sqrt, max_leaf_nodes=3, n_estimators=100; total time=   0.2s\n",
            "[CV] END max_depth=6, max_features=sqrt, max_leaf_nodes=3, n_estimators=100; total time=   0.2s\n",
            "[CV] END max_depth=6, max_features=sqrt, max_leaf_nodes=3, n_estimators=100; total time=   0.2s\n",
            "[CV] END max_depth=6, max_features=sqrt, max_leaf_nodes=3, n_estimators=150; total time=   0.2s\n",
            "[CV] END max_depth=6, max_features=sqrt, max_leaf_nodes=3, n_estimators=150; total time=   0.2s\n",
            "[CV] END max_depth=6, max_features=sqrt, max_leaf_nodes=3, n_estimators=150; total time=   0.2s\n",
            "[CV] END max_depth=6, max_features=sqrt, max_leaf_nodes=3, n_estimators=150; total time=   0.2s\n",
            "[CV] END max_depth=6, max_features=sqrt, max_leaf_nodes=3, n_estimators=150; total time=   0.2s\n",
            "[CV] END max_depth=6, max_features=sqrt, max_leaf_nodes=6, n_estimators=25; total time=   0.0s\n",
            "[CV] END max_depth=6, max_features=sqrt, max_leaf_nodes=6, n_estimators=25; total time=   0.0s\n",
            "[CV] END max_depth=6, max_features=sqrt, max_leaf_nodes=6, n_estimators=25; total time=   0.0s\n",
            "[CV] END max_depth=6, max_features=sqrt, max_leaf_nodes=6, n_estimators=25; total time=   0.0s\n",
            "[CV] END max_depth=6, max_features=sqrt, max_leaf_nodes=6, n_estimators=25; total time=   0.0s\n",
            "[CV] END max_depth=6, max_features=sqrt, max_leaf_nodes=6, n_estimators=50; total time=   0.1s\n",
            "[CV] END max_depth=6, max_features=sqrt, max_leaf_nodes=6, n_estimators=50; total time=   0.1s\n",
            "[CV] END max_depth=6, max_features=sqrt, max_leaf_nodes=6, n_estimators=50; total time=   0.1s\n",
            "[CV] END max_depth=6, max_features=sqrt, max_leaf_nodes=6, n_estimators=50; total time=   0.1s\n",
            "[CV] END max_depth=6, max_features=sqrt, max_leaf_nodes=6, n_estimators=50; total time=   0.1s\n",
            "[CV] END max_depth=6, max_features=sqrt, max_leaf_nodes=6, n_estimators=100; total time=   0.2s\n",
            "[CV] END max_depth=6, max_features=sqrt, max_leaf_nodes=6, n_estimators=100; total time=   0.2s\n",
            "[CV] END max_depth=6, max_features=sqrt, max_leaf_nodes=6, n_estimators=100; total time=   0.2s\n",
            "[CV] END max_depth=6, max_features=sqrt, max_leaf_nodes=6, n_estimators=100; total time=   0.1s\n",
            "[CV] END max_depth=6, max_features=sqrt, max_leaf_nodes=6, n_estimators=100; total time=   0.2s\n",
            "[CV] END max_depth=6, max_features=sqrt, max_leaf_nodes=6, n_estimators=150; total time=   0.2s\n",
            "[CV] END max_depth=6, max_features=sqrt, max_leaf_nodes=6, n_estimators=150; total time=   0.2s\n",
            "[CV] END max_depth=6, max_features=sqrt, max_leaf_nodes=6, n_estimators=150; total time=   0.2s\n",
            "[CV] END max_depth=6, max_features=sqrt, max_leaf_nodes=6, n_estimators=150; total time=   0.2s\n",
            "[CV] END max_depth=6, max_features=sqrt, max_leaf_nodes=6, n_estimators=150; total time=   0.2s\n",
            "[CV] END max_depth=6, max_features=sqrt, max_leaf_nodes=9, n_estimators=25; total time=   0.0s\n",
            "[CV] END max_depth=6, max_features=sqrt, max_leaf_nodes=9, n_estimators=25; total time=   0.0s\n",
            "[CV] END max_depth=6, max_features=sqrt, max_leaf_nodes=9, n_estimators=25; total time=   0.0s\n",
            "[CV] END max_depth=6, max_features=sqrt, max_leaf_nodes=9, n_estimators=25; total time=   0.1s\n",
            "[CV] END max_depth=6, max_features=sqrt, max_leaf_nodes=9, n_estimators=25; total time=   0.0s\n",
            "[CV] END max_depth=6, max_features=sqrt, max_leaf_nodes=9, n_estimators=50; total time=   0.1s\n",
            "[CV] END max_depth=6, max_features=sqrt, max_leaf_nodes=9, n_estimators=50; total time=   0.1s\n",
            "[CV] END max_depth=6, max_features=sqrt, max_leaf_nodes=9, n_estimators=50; total time=   0.1s\n",
            "[CV] END max_depth=6, max_features=sqrt, max_leaf_nodes=9, n_estimators=50; total time=   0.1s\n",
            "[CV] END max_depth=6, max_features=sqrt, max_leaf_nodes=9, n_estimators=50; total time=   0.1s\n",
            "[CV] END max_depth=6, max_features=sqrt, max_leaf_nodes=9, n_estimators=100; total time=   0.2s\n",
            "[CV] END max_depth=6, max_features=sqrt, max_leaf_nodes=9, n_estimators=100; total time=   0.2s\n",
            "[CV] END max_depth=6, max_features=sqrt, max_leaf_nodes=9, n_estimators=100; total time=   0.2s\n",
            "[CV] END max_depth=6, max_features=sqrt, max_leaf_nodes=9, n_estimators=100; total time=   0.2s\n",
            "[CV] END max_depth=6, max_features=sqrt, max_leaf_nodes=9, n_estimators=100; total time=   0.2s\n",
            "[CV] END max_depth=6, max_features=sqrt, max_leaf_nodes=9, n_estimators=150; total time=   0.2s\n",
            "[CV] END max_depth=6, max_features=sqrt, max_leaf_nodes=9, n_estimators=150; total time=   0.2s\n",
            "[CV] END max_depth=6, max_features=sqrt, max_leaf_nodes=9, n_estimators=150; total time=   0.2s\n",
            "[CV] END max_depth=6, max_features=sqrt, max_leaf_nodes=9, n_estimators=150; total time=   0.2s\n",
            "[CV] END max_depth=6, max_features=sqrt, max_leaf_nodes=9, n_estimators=150; total time=   0.2s\n",
            "[CV] END max_depth=6, max_features=log2, max_leaf_nodes=3, n_estimators=25; total time=   0.0s\n",
            "[CV] END max_depth=6, max_features=log2, max_leaf_nodes=3, n_estimators=25; total time=   0.0s\n",
            "[CV] END max_depth=6, max_features=log2, max_leaf_nodes=3, n_estimators=25; total time=   0.0s\n",
            "[CV] END max_depth=6, max_features=log2, max_leaf_nodes=3, n_estimators=25; total time=   0.0s\n",
            "[CV] END max_depth=6, max_features=log2, max_leaf_nodes=3, n_estimators=25; total time=   0.1s\n",
            "[CV] END max_depth=6, max_features=log2, max_leaf_nodes=3, n_estimators=50; total time=   0.1s\n",
            "[CV] END max_depth=6, max_features=log2, max_leaf_nodes=3, n_estimators=50; total time=   0.1s\n",
            "[CV] END max_depth=6, max_features=log2, max_leaf_nodes=3, n_estimators=50; total time=   0.1s\n",
            "[CV] END max_depth=6, max_features=log2, max_leaf_nodes=3, n_estimators=50; total time=   0.1s\n",
            "[CV] END max_depth=6, max_features=log2, max_leaf_nodes=3, n_estimators=50; total time=   0.1s\n",
            "[CV] END max_depth=6, max_features=log2, max_leaf_nodes=3, n_estimators=100; total time=   0.3s\n",
            "[CV] END max_depth=6, max_features=log2, max_leaf_nodes=3, n_estimators=100; total time=   0.3s\n",
            "[CV] END max_depth=6, max_features=log2, max_leaf_nodes=3, n_estimators=100; total time=   0.3s\n",
            "[CV] END max_depth=6, max_features=log2, max_leaf_nodes=3, n_estimators=100; total time=   0.3s\n",
            "[CV] END max_depth=6, max_features=log2, max_leaf_nodes=3, n_estimators=100; total time=   0.3s\n",
            "[CV] END max_depth=6, max_features=log2, max_leaf_nodes=3, n_estimators=150; total time=   0.4s\n",
            "[CV] END max_depth=6, max_features=log2, max_leaf_nodes=3, n_estimators=150; total time=   0.4s\n",
            "[CV] END max_depth=6, max_features=log2, max_leaf_nodes=3, n_estimators=150; total time=   0.3s\n",
            "[CV] END max_depth=6, max_features=log2, max_leaf_nodes=3, n_estimators=150; total time=   0.2s\n",
            "[CV] END max_depth=6, max_features=log2, max_leaf_nodes=3, n_estimators=150; total time=   0.2s\n",
            "[CV] END max_depth=6, max_features=log2, max_leaf_nodes=6, n_estimators=25; total time=   0.0s\n",
            "[CV] END max_depth=6, max_features=log2, max_leaf_nodes=6, n_estimators=25; total time=   0.0s\n",
            "[CV] END max_depth=6, max_features=log2, max_leaf_nodes=6, n_estimators=25; total time=   0.0s\n",
            "[CV] END max_depth=6, max_features=log2, max_leaf_nodes=6, n_estimators=25; total time=   0.0s\n",
            "[CV] END max_depth=6, max_features=log2, max_leaf_nodes=6, n_estimators=25; total time=   0.0s\n",
            "[CV] END max_depth=6, max_features=log2, max_leaf_nodes=6, n_estimators=50; total time=   0.1s\n",
            "[CV] END max_depth=6, max_features=log2, max_leaf_nodes=6, n_estimators=50; total time=   0.1s\n",
            "[CV] END max_depth=6, max_features=log2, max_leaf_nodes=6, n_estimators=50; total time=   0.1s\n",
            "[CV] END max_depth=6, max_features=log2, max_leaf_nodes=6, n_estimators=50; total time=   0.1s\n",
            "[CV] END max_depth=6, max_features=log2, max_leaf_nodes=6, n_estimators=50; total time=   0.1s\n",
            "[CV] END max_depth=6, max_features=log2, max_leaf_nodes=6, n_estimators=100; total time=   0.2s\n",
            "[CV] END max_depth=6, max_features=log2, max_leaf_nodes=6, n_estimators=100; total time=   0.2s\n",
            "[CV] END max_depth=6, max_features=log2, max_leaf_nodes=6, n_estimators=100; total time=   0.2s\n",
            "[CV] END max_depth=6, max_features=log2, max_leaf_nodes=6, n_estimators=100; total time=   0.2s\n",
            "[CV] END max_depth=6, max_features=log2, max_leaf_nodes=6, n_estimators=100; total time=   0.2s\n",
            "[CV] END max_depth=6, max_features=log2, max_leaf_nodes=6, n_estimators=150; total time=   0.2s\n",
            "[CV] END max_depth=6, max_features=log2, max_leaf_nodes=6, n_estimators=150; total time=   0.2s\n",
            "[CV] END max_depth=6, max_features=log2, max_leaf_nodes=6, n_estimators=150; total time=   0.2s\n",
            "[CV] END max_depth=6, max_features=log2, max_leaf_nodes=6, n_estimators=150; total time=   0.2s\n",
            "[CV] END max_depth=6, max_features=log2, max_leaf_nodes=6, n_estimators=150; total time=   0.2s\n",
            "[CV] END max_depth=6, max_features=log2, max_leaf_nodes=9, n_estimators=25; total time=   0.0s\n",
            "[CV] END max_depth=6, max_features=log2, max_leaf_nodes=9, n_estimators=25; total time=   0.0s\n",
            "[CV] END max_depth=6, max_features=log2, max_leaf_nodes=9, n_estimators=25; total time=   0.0s\n",
            "[CV] END max_depth=6, max_features=log2, max_leaf_nodes=9, n_estimators=25; total time=   0.1s\n",
            "[CV] END max_depth=6, max_features=log2, max_leaf_nodes=9, n_estimators=25; total time=   0.0s\n",
            "[CV] END max_depth=6, max_features=log2, max_leaf_nodes=9, n_estimators=50; total time=   0.1s\n",
            "[CV] END max_depth=6, max_features=log2, max_leaf_nodes=9, n_estimators=50; total time=   0.1s\n",
            "[CV] END max_depth=6, max_features=log2, max_leaf_nodes=9, n_estimators=50; total time=   0.1s\n",
            "[CV] END max_depth=6, max_features=log2, max_leaf_nodes=9, n_estimators=50; total time=   0.1s\n",
            "[CV] END max_depth=6, max_features=log2, max_leaf_nodes=9, n_estimators=50; total time=   0.1s\n",
            "[CV] END max_depth=6, max_features=log2, max_leaf_nodes=9, n_estimators=100; total time=   0.2s\n",
            "[CV] END max_depth=6, max_features=log2, max_leaf_nodes=9, n_estimators=100; total time=   0.2s\n",
            "[CV] END max_depth=6, max_features=log2, max_leaf_nodes=9, n_estimators=100; total time=   0.2s\n",
            "[CV] END max_depth=6, max_features=log2, max_leaf_nodes=9, n_estimators=100; total time=   0.2s\n",
            "[CV] END max_depth=6, max_features=log2, max_leaf_nodes=9, n_estimators=100; total time=   0.2s\n",
            "[CV] END max_depth=6, max_features=log2, max_leaf_nodes=9, n_estimators=150; total time=   0.2s\n",
            "[CV] END max_depth=6, max_features=log2, max_leaf_nodes=9, n_estimators=150; total time=   0.2s\n",
            "[CV] END max_depth=6, max_features=log2, max_leaf_nodes=9, n_estimators=150; total time=   0.2s\n",
            "[CV] END max_depth=6, max_features=log2, max_leaf_nodes=9, n_estimators=150; total time=   0.2s\n",
            "[CV] END max_depth=6, max_features=log2, max_leaf_nodes=9, n_estimators=150; total time=   0.2s\n",
            "[CV] END max_depth=6, max_features=None, max_leaf_nodes=3, n_estimators=25; total time=   0.0s\n",
            "[CV] END max_depth=6, max_features=None, max_leaf_nodes=3, n_estimators=25; total time=   0.0s\n",
            "[CV] END max_depth=6, max_features=None, max_leaf_nodes=3, n_estimators=25; total time=   0.0s\n",
            "[CV] END max_depth=6, max_features=None, max_leaf_nodes=3, n_estimators=25; total time=   0.0s\n",
            "[CV] END max_depth=6, max_features=None, max_leaf_nodes=3, n_estimators=25; total time=   0.0s\n",
            "[CV] END max_depth=6, max_features=None, max_leaf_nodes=3, n_estimators=50; total time=   0.1s\n",
            "[CV] END max_depth=6, max_features=None, max_leaf_nodes=3, n_estimators=50; total time=   0.1s\n",
            "[CV] END max_depth=6, max_features=None, max_leaf_nodes=3, n_estimators=50; total time=   0.1s\n",
            "[CV] END max_depth=6, max_features=None, max_leaf_nodes=3, n_estimators=50; total time=   0.1s\n",
            "[CV] END max_depth=6, max_features=None, max_leaf_nodes=3, n_estimators=50; total time=   0.1s\n",
            "[CV] END max_depth=6, max_features=None, max_leaf_nodes=3, n_estimators=100; total time=   0.2s\n",
            "[CV] END max_depth=6, max_features=None, max_leaf_nodes=3, n_estimators=100; total time=   0.2s\n",
            "[CV] END max_depth=6, max_features=None, max_leaf_nodes=3, n_estimators=100; total time=   0.2s\n",
            "[CV] END max_depth=6, max_features=None, max_leaf_nodes=3, n_estimators=100; total time=   0.2s\n",
            "[CV] END max_depth=6, max_features=None, max_leaf_nodes=3, n_estimators=100; total time=   0.2s\n",
            "[CV] END max_depth=6, max_features=None, max_leaf_nodes=3, n_estimators=150; total time=   0.2s\n",
            "[CV] END max_depth=6, max_features=None, max_leaf_nodes=3, n_estimators=150; total time=   0.2s\n",
            "[CV] END max_depth=6, max_features=None, max_leaf_nodes=3, n_estimators=150; total time=   0.2s\n",
            "[CV] END max_depth=6, max_features=None, max_leaf_nodes=3, n_estimators=150; total time=   0.2s\n",
            "[CV] END max_depth=6, max_features=None, max_leaf_nodes=3, n_estimators=150; total time=   0.2s\n",
            "[CV] END max_depth=6, max_features=None, max_leaf_nodes=6, n_estimators=25; total time=   0.1s\n",
            "[CV] END max_depth=6, max_features=None, max_leaf_nodes=6, n_estimators=25; total time=   0.0s\n",
            "[CV] END max_depth=6, max_features=None, max_leaf_nodes=6, n_estimators=25; total time=   0.0s\n",
            "[CV] END max_depth=6, max_features=None, max_leaf_nodes=6, n_estimators=25; total time=   0.0s\n",
            "[CV] END max_depth=6, max_features=None, max_leaf_nodes=6, n_estimators=25; total time=   0.0s\n",
            "[CV] END max_depth=6, max_features=None, max_leaf_nodes=6, n_estimators=50; total time=   0.1s\n",
            "[CV] END max_depth=6, max_features=None, max_leaf_nodes=6, n_estimators=50; total time=   0.1s\n",
            "[CV] END max_depth=6, max_features=None, max_leaf_nodes=6, n_estimators=50; total time=   0.1s\n",
            "[CV] END max_depth=6, max_features=None, max_leaf_nodes=6, n_estimators=50; total time=   0.1s\n",
            "[CV] END max_depth=6, max_features=None, max_leaf_nodes=6, n_estimators=50; total time=   0.1s\n",
            "[CV] END max_depth=6, max_features=None, max_leaf_nodes=6, n_estimators=100; total time=   0.2s\n",
            "[CV] END max_depth=6, max_features=None, max_leaf_nodes=6, n_estimators=100; total time=   0.1s\n",
            "[CV] END max_depth=6, max_features=None, max_leaf_nodes=6, n_estimators=100; total time=   0.2s\n",
            "[CV] END max_depth=6, max_features=None, max_leaf_nodes=6, n_estimators=100; total time=   0.1s\n",
            "[CV] END max_depth=6, max_features=None, max_leaf_nodes=6, n_estimators=100; total time=   0.2s\n",
            "[CV] END max_depth=6, max_features=None, max_leaf_nodes=6, n_estimators=150; total time=   0.4s\n",
            "[CV] END max_depth=6, max_features=None, max_leaf_nodes=6, n_estimators=150; total time=   0.4s\n",
            "[CV] END max_depth=6, max_features=None, max_leaf_nodes=6, n_estimators=150; total time=   1.6s\n",
            "[CV] END max_depth=6, max_features=None, max_leaf_nodes=6, n_estimators=150; total time=   0.9s\n",
            "[CV] END max_depth=6, max_features=None, max_leaf_nodes=6, n_estimators=150; total time=   0.4s\n",
            "[CV] END max_depth=6, max_features=None, max_leaf_nodes=9, n_estimators=25; total time=   0.0s\n",
            "[CV] END max_depth=6, max_features=None, max_leaf_nodes=9, n_estimators=25; total time=   0.1s\n",
            "[CV] END max_depth=6, max_features=None, max_leaf_nodes=9, n_estimators=25; total time=   0.0s\n",
            "[CV] END max_depth=6, max_features=None, max_leaf_nodes=9, n_estimators=25; total time=   0.0s\n",
            "[CV] END max_depth=6, max_features=None, max_leaf_nodes=9, n_estimators=25; total time=   0.0s\n",
            "[CV] END max_depth=6, max_features=None, max_leaf_nodes=9, n_estimators=50; total time=   0.1s\n",
            "[CV] END max_depth=6, max_features=None, max_leaf_nodes=9, n_estimators=50; total time=   0.5s\n",
            "[CV] END max_depth=6, max_features=None, max_leaf_nodes=9, n_estimators=50; total time=   0.3s\n",
            "[CV] END max_depth=6, max_features=None, max_leaf_nodes=9, n_estimators=50; total time=   0.1s\n",
            "[CV] END max_depth=6, max_features=None, max_leaf_nodes=9, n_estimators=50; total time=   0.1s\n",
            "[CV] END max_depth=6, max_features=None, max_leaf_nodes=9, n_estimators=100; total time=   0.2s\n",
            "[CV] END max_depth=6, max_features=None, max_leaf_nodes=9, n_estimators=100; total time=   0.2s\n",
            "[CV] END max_depth=6, max_features=None, max_leaf_nodes=9, n_estimators=100; total time=   0.2s\n",
            "[CV] END max_depth=6, max_features=None, max_leaf_nodes=9, n_estimators=100; total time=   0.1s\n",
            "[CV] END max_depth=6, max_features=None, max_leaf_nodes=9, n_estimators=100; total time=   0.2s\n",
            "[CV] END max_depth=6, max_features=None, max_leaf_nodes=9, n_estimators=150; total time=   0.2s\n",
            "[CV] END max_depth=6, max_features=None, max_leaf_nodes=9, n_estimators=150; total time=   0.2s\n",
            "[CV] END max_depth=6, max_features=None, max_leaf_nodes=9, n_estimators=150; total time=   0.2s\n",
            "[CV] END max_depth=6, max_features=None, max_leaf_nodes=9, n_estimators=150; total time=   0.2s\n",
            "[CV] END max_depth=6, max_features=None, max_leaf_nodes=9, n_estimators=150; total time=   0.2s\n",
            "[CV] END max_depth=9, max_features=sqrt, max_leaf_nodes=3, n_estimators=25; total time=   0.0s\n",
            "[CV] END max_depth=9, max_features=sqrt, max_leaf_nodes=3, n_estimators=25; total time=   0.0s\n",
            "[CV] END max_depth=9, max_features=sqrt, max_leaf_nodes=3, n_estimators=25; total time=   0.0s\n",
            "[CV] END max_depth=9, max_features=sqrt, max_leaf_nodes=3, n_estimators=25; total time=   0.0s\n",
            "[CV] END max_depth=9, max_features=sqrt, max_leaf_nodes=3, n_estimators=25; total time=   0.1s\n",
            "[CV] END max_depth=9, max_features=sqrt, max_leaf_nodes=3, n_estimators=50; total time=   0.1s\n",
            "[CV] END max_depth=9, max_features=sqrt, max_leaf_nodes=3, n_estimators=50; total time=   0.1s\n",
            "[CV] END max_depth=9, max_features=sqrt, max_leaf_nodes=3, n_estimators=50; total time=   0.1s\n",
            "[CV] END max_depth=9, max_features=sqrt, max_leaf_nodes=3, n_estimators=50; total time=   0.1s\n",
            "[CV] END max_depth=9, max_features=sqrt, max_leaf_nodes=3, n_estimators=50; total time=   0.1s\n",
            "[CV] END max_depth=9, max_features=sqrt, max_leaf_nodes=3, n_estimators=100; total time=   0.2s\n",
            "[CV] END max_depth=9, max_features=sqrt, max_leaf_nodes=3, n_estimators=100; total time=   0.2s\n",
            "[CV] END max_depth=9, max_features=sqrt, max_leaf_nodes=3, n_estimators=100; total time=   0.2s\n",
            "[CV] END max_depth=9, max_features=sqrt, max_leaf_nodes=3, n_estimators=100; total time=   0.1s\n",
            "[CV] END max_depth=9, max_features=sqrt, max_leaf_nodes=3, n_estimators=100; total time=   0.2s\n",
            "[CV] END max_depth=9, max_features=sqrt, max_leaf_nodes=3, n_estimators=150; total time=   0.2s\n",
            "[CV] END max_depth=9, max_features=sqrt, max_leaf_nodes=3, n_estimators=150; total time=   0.2s\n",
            "[CV] END max_depth=9, max_features=sqrt, max_leaf_nodes=3, n_estimators=150; total time=   0.2s\n",
            "[CV] END max_depth=9, max_features=sqrt, max_leaf_nodes=3, n_estimators=150; total time=   0.2s\n",
            "[CV] END max_depth=9, max_features=sqrt, max_leaf_nodes=3, n_estimators=150; total time=   0.3s\n",
            "[CV] END max_depth=9, max_features=sqrt, max_leaf_nodes=6, n_estimators=25; total time=   0.0s\n",
            "[CV] END max_depth=9, max_features=sqrt, max_leaf_nodes=6, n_estimators=25; total time=   0.0s\n",
            "[CV] END max_depth=9, max_features=sqrt, max_leaf_nodes=6, n_estimators=25; total time=   0.0s\n",
            "[CV] END max_depth=9, max_features=sqrt, max_leaf_nodes=6, n_estimators=25; total time=   0.0s\n",
            "[CV] END max_depth=9, max_features=sqrt, max_leaf_nodes=6, n_estimators=25; total time=   0.1s\n",
            "[CV] END max_depth=9, max_features=sqrt, max_leaf_nodes=6, n_estimators=50; total time=   0.1s\n",
            "[CV] END max_depth=9, max_features=sqrt, max_leaf_nodes=6, n_estimators=50; total time=   0.1s\n",
            "[CV] END max_depth=9, max_features=sqrt, max_leaf_nodes=6, n_estimators=50; total time=   0.1s\n",
            "[CV] END max_depth=9, max_features=sqrt, max_leaf_nodes=6, n_estimators=50; total time=   0.1s\n",
            "[CV] END max_depth=9, max_features=sqrt, max_leaf_nodes=6, n_estimators=50; total time=   0.1s\n",
            "[CV] END max_depth=9, max_features=sqrt, max_leaf_nodes=6, n_estimators=100; total time=   0.2s\n",
            "[CV] END max_depth=9, max_features=sqrt, max_leaf_nodes=6, n_estimators=100; total time=   0.2s\n",
            "[CV] END max_depth=9, max_features=sqrt, max_leaf_nodes=6, n_estimators=100; total time=   0.2s\n",
            "[CV] END max_depth=9, max_features=sqrt, max_leaf_nodes=6, n_estimators=100; total time=   0.2s\n",
            "[CV] END max_depth=9, max_features=sqrt, max_leaf_nodes=6, n_estimators=100; total time=   0.2s\n",
            "[CV] END max_depth=9, max_features=sqrt, max_leaf_nodes=6, n_estimators=150; total time=   0.2s\n",
            "[CV] END max_depth=9, max_features=sqrt, max_leaf_nodes=6, n_estimators=150; total time=   0.2s\n",
            "[CV] END max_depth=9, max_features=sqrt, max_leaf_nodes=6, n_estimators=150; total time=   0.2s\n",
            "[CV] END max_depth=9, max_features=sqrt, max_leaf_nodes=6, n_estimators=150; total time=   0.2s\n",
            "[CV] END max_depth=9, max_features=sqrt, max_leaf_nodes=6, n_estimators=150; total time=   0.2s\n",
            "[CV] END max_depth=9, max_features=sqrt, max_leaf_nodes=9, n_estimators=25; total time=   0.0s\n",
            "[CV] END max_depth=9, max_features=sqrt, max_leaf_nodes=9, n_estimators=25; total time=   0.0s\n",
            "[CV] END max_depth=9, max_features=sqrt, max_leaf_nodes=9, n_estimators=25; total time=   0.0s\n",
            "[CV] END max_depth=9, max_features=sqrt, max_leaf_nodes=9, n_estimators=25; total time=   0.0s\n",
            "[CV] END max_depth=9, max_features=sqrt, max_leaf_nodes=9, n_estimators=25; total time=   0.0s\n",
            "[CV] END max_depth=9, max_features=sqrt, max_leaf_nodes=9, n_estimators=50; total time=   0.1s\n",
            "[CV] END max_depth=9, max_features=sqrt, max_leaf_nodes=9, n_estimators=50; total time=   0.1s\n",
            "[CV] END max_depth=9, max_features=sqrt, max_leaf_nodes=9, n_estimators=50; total time=   0.1s\n",
            "[CV] END max_depth=9, max_features=sqrt, max_leaf_nodes=9, n_estimators=50; total time=   0.1s\n",
            "[CV] END max_depth=9, max_features=sqrt, max_leaf_nodes=9, n_estimators=50; total time=   0.1s\n",
            "[CV] END max_depth=9, max_features=sqrt, max_leaf_nodes=9, n_estimators=100; total time=   0.3s\n",
            "[CV] END max_depth=9, max_features=sqrt, max_leaf_nodes=9, n_estimators=100; total time=   0.3s\n",
            "[CV] END max_depth=9, max_features=sqrt, max_leaf_nodes=9, n_estimators=100; total time=   0.3s\n",
            "[CV] END max_depth=9, max_features=sqrt, max_leaf_nodes=9, n_estimators=100; total time=   0.3s\n",
            "[CV] END max_depth=9, max_features=sqrt, max_leaf_nodes=9, n_estimators=100; total time=   0.3s\n",
            "[CV] END max_depth=9, max_features=sqrt, max_leaf_nodes=9, n_estimators=150; total time=   0.4s\n",
            "[CV] END max_depth=9, max_features=sqrt, max_leaf_nodes=9, n_estimators=150; total time=   0.4s\n",
            "[CV] END max_depth=9, max_features=sqrt, max_leaf_nodes=9, n_estimators=150; total time=   0.4s\n",
            "[CV] END max_depth=9, max_features=sqrt, max_leaf_nodes=9, n_estimators=150; total time=   0.3s\n",
            "[CV] END max_depth=9, max_features=sqrt, max_leaf_nodes=9, n_estimators=150; total time=   0.2s\n",
            "[CV] END max_depth=9, max_features=log2, max_leaf_nodes=3, n_estimators=25; total time=   0.0s\n",
            "[CV] END max_depth=9, max_features=log2, max_leaf_nodes=3, n_estimators=25; total time=   0.0s\n",
            "[CV] END max_depth=9, max_features=log2, max_leaf_nodes=3, n_estimators=25; total time=   0.0s\n",
            "[CV] END max_depth=9, max_features=log2, max_leaf_nodes=3, n_estimators=25; total time=   0.0s\n",
            "[CV] END max_depth=9, max_features=log2, max_leaf_nodes=3, n_estimators=25; total time=   0.0s\n",
            "[CV] END max_depth=9, max_features=log2, max_leaf_nodes=3, n_estimators=50; total time=   0.1s\n",
            "[CV] END max_depth=9, max_features=log2, max_leaf_nodes=3, n_estimators=50; total time=   0.1s\n",
            "[CV] END max_depth=9, max_features=log2, max_leaf_nodes=3, n_estimators=50; total time=   0.1s\n",
            "[CV] END max_depth=9, max_features=log2, max_leaf_nodes=3, n_estimators=50; total time=   0.1s\n",
            "[CV] END max_depth=9, max_features=log2, max_leaf_nodes=3, n_estimators=50; total time=   0.1s\n",
            "[CV] END max_depth=9, max_features=log2, max_leaf_nodes=3, n_estimators=100; total time=   0.2s\n",
            "[CV] END max_depth=9, max_features=log2, max_leaf_nodes=3, n_estimators=100; total time=   0.2s\n",
            "[CV] END max_depth=9, max_features=log2, max_leaf_nodes=3, n_estimators=100; total time=   0.2s\n",
            "[CV] END max_depth=9, max_features=log2, max_leaf_nodes=3, n_estimators=100; total time=   0.2s\n",
            "[CV] END max_depth=9, max_features=log2, max_leaf_nodes=3, n_estimators=100; total time=   0.2s\n",
            "[CV] END max_depth=9, max_features=log2, max_leaf_nodes=3, n_estimators=150; total time=   0.2s\n",
            "[CV] END max_depth=9, max_features=log2, max_leaf_nodes=3, n_estimators=150; total time=   0.2s\n",
            "[CV] END max_depth=9, max_features=log2, max_leaf_nodes=3, n_estimators=150; total time=   0.2s\n",
            "[CV] END max_depth=9, max_features=log2, max_leaf_nodes=3, n_estimators=150; total time=   0.2s\n",
            "[CV] END max_depth=9, max_features=log2, max_leaf_nodes=3, n_estimators=150; total time=   0.2s\n",
            "[CV] END max_depth=9, max_features=log2, max_leaf_nodes=6, n_estimators=25; total time=   0.0s\n",
            "[CV] END max_depth=9, max_features=log2, max_leaf_nodes=6, n_estimators=25; total time=   0.0s\n",
            "[CV] END max_depth=9, max_features=log2, max_leaf_nodes=6, n_estimators=25; total time=   0.0s\n",
            "[CV] END max_depth=9, max_features=log2, max_leaf_nodes=6, n_estimators=25; total time=   0.0s\n",
            "[CV] END max_depth=9, max_features=log2, max_leaf_nodes=6, n_estimators=25; total time=   0.0s\n",
            "[CV] END max_depth=9, max_features=log2, max_leaf_nodes=6, n_estimators=50; total time=   0.1s\n",
            "[CV] END max_depth=9, max_features=log2, max_leaf_nodes=6, n_estimators=50; total time=   0.1s\n",
            "[CV] END max_depth=9, max_features=log2, max_leaf_nodes=6, n_estimators=50; total time=   0.1s\n",
            "[CV] END max_depth=9, max_features=log2, max_leaf_nodes=6, n_estimators=50; total time=   0.1s\n",
            "[CV] END max_depth=9, max_features=log2, max_leaf_nodes=6, n_estimators=50; total time=   0.1s\n",
            "[CV] END max_depth=9, max_features=log2, max_leaf_nodes=6, n_estimators=100; total time=   0.2s\n",
            "[CV] END max_depth=9, max_features=log2, max_leaf_nodes=6, n_estimators=100; total time=   0.2s\n",
            "[CV] END max_depth=9, max_features=log2, max_leaf_nodes=6, n_estimators=100; total time=   0.2s\n",
            "[CV] END max_depth=9, max_features=log2, max_leaf_nodes=6, n_estimators=100; total time=   0.2s\n",
            "[CV] END max_depth=9, max_features=log2, max_leaf_nodes=6, n_estimators=100; total time=   0.2s\n",
            "[CV] END max_depth=9, max_features=log2, max_leaf_nodes=6, n_estimators=150; total time=   0.2s\n",
            "[CV] END max_depth=9, max_features=log2, max_leaf_nodes=6, n_estimators=150; total time=   0.2s\n",
            "[CV] END max_depth=9, max_features=log2, max_leaf_nodes=6, n_estimators=150; total time=   0.2s\n",
            "[CV] END max_depth=9, max_features=log2, max_leaf_nodes=6, n_estimators=150; total time=   0.2s\n",
            "[CV] END max_depth=9, max_features=log2, max_leaf_nodes=6, n_estimators=150; total time=   0.2s\n",
            "[CV] END max_depth=9, max_features=log2, max_leaf_nodes=9, n_estimators=25; total time=   0.0s\n",
            "[CV] END max_depth=9, max_features=log2, max_leaf_nodes=9, n_estimators=25; total time=   0.0s\n",
            "[CV] END max_depth=9, max_features=log2, max_leaf_nodes=9, n_estimators=25; total time=   0.0s\n",
            "[CV] END max_depth=9, max_features=log2, max_leaf_nodes=9, n_estimators=25; total time=   0.0s\n",
            "[CV] END max_depth=9, max_features=log2, max_leaf_nodes=9, n_estimators=25; total time=   0.1s\n",
            "[CV] END max_depth=9, max_features=log2, max_leaf_nodes=9, n_estimators=50; total time=   0.1s\n",
            "[CV] END max_depth=9, max_features=log2, max_leaf_nodes=9, n_estimators=50; total time=   0.1s\n",
            "[CV] END max_depth=9, max_features=log2, max_leaf_nodes=9, n_estimators=50; total time=   0.1s\n",
            "[CV] END max_depth=9, max_features=log2, max_leaf_nodes=9, n_estimators=50; total time=   0.1s\n",
            "[CV] END max_depth=9, max_features=log2, max_leaf_nodes=9, n_estimators=50; total time=   0.1s\n",
            "[CV] END max_depth=9, max_features=log2, max_leaf_nodes=9, n_estimators=100; total time=   0.2s\n",
            "[CV] END max_depth=9, max_features=log2, max_leaf_nodes=9, n_estimators=100; total time=   0.1s\n",
            "[CV] END max_depth=9, max_features=log2, max_leaf_nodes=9, n_estimators=100; total time=   0.2s\n",
            "[CV] END max_depth=9, max_features=log2, max_leaf_nodes=9, n_estimators=100; total time=   0.2s\n",
            "[CV] END max_depth=9, max_features=log2, max_leaf_nodes=9, n_estimators=100; total time=   0.2s\n",
            "[CV] END max_depth=9, max_features=log2, max_leaf_nodes=9, n_estimators=150; total time=   0.2s\n",
            "[CV] END max_depth=9, max_features=log2, max_leaf_nodes=9, n_estimators=150; total time=   0.2s\n",
            "[CV] END max_depth=9, max_features=log2, max_leaf_nodes=9, n_estimators=150; total time=   0.2s\n",
            "[CV] END max_depth=9, max_features=log2, max_leaf_nodes=9, n_estimators=150; total time=   0.2s\n",
            "[CV] END max_depth=9, max_features=log2, max_leaf_nodes=9, n_estimators=150; total time=   0.2s\n",
            "[CV] END max_depth=9, max_features=None, max_leaf_nodes=3, n_estimators=25; total time=   0.0s\n",
            "[CV] END max_depth=9, max_features=None, max_leaf_nodes=3, n_estimators=25; total time=   0.0s\n",
            "[CV] END max_depth=9, max_features=None, max_leaf_nodes=3, n_estimators=25; total time=   0.0s\n",
            "[CV] END max_depth=9, max_features=None, max_leaf_nodes=3, n_estimators=25; total time=   0.0s\n",
            "[CV] END max_depth=9, max_features=None, max_leaf_nodes=3, n_estimators=25; total time=   0.0s\n",
            "[CV] END max_depth=9, max_features=None, max_leaf_nodes=3, n_estimators=50; total time=   0.1s\n",
            "[CV] END max_depth=9, max_features=None, max_leaf_nodes=3, n_estimators=50; total time=   0.1s\n",
            "[CV] END max_depth=9, max_features=None, max_leaf_nodes=3, n_estimators=50; total time=   0.1s\n",
            "[CV] END max_depth=9, max_features=None, max_leaf_nodes=3, n_estimators=50; total time=   0.1s\n",
            "[CV] END max_depth=9, max_features=None, max_leaf_nodes=3, n_estimators=50; total time=   0.1s\n",
            "[CV] END max_depth=9, max_features=None, max_leaf_nodes=3, n_estimators=100; total time=   0.2s\n",
            "[CV] END max_depth=9, max_features=None, max_leaf_nodes=3, n_estimators=100; total time=   0.2s\n",
            "[CV] END max_depth=9, max_features=None, max_leaf_nodes=3, n_estimators=100; total time=   0.2s\n",
            "[CV] END max_depth=9, max_features=None, max_leaf_nodes=3, n_estimators=100; total time=   0.2s\n",
            "[CV] END max_depth=9, max_features=None, max_leaf_nodes=3, n_estimators=100; total time=   0.2s\n",
            "[CV] END max_depth=9, max_features=None, max_leaf_nodes=3, n_estimators=150; total time=   0.2s\n",
            "[CV] END max_depth=9, max_features=None, max_leaf_nodes=3, n_estimators=150; total time=   0.3s\n",
            "[CV] END max_depth=9, max_features=None, max_leaf_nodes=3, n_estimators=150; total time=   0.4s\n",
            "[CV] END max_depth=9, max_features=None, max_leaf_nodes=3, n_estimators=150; total time=   0.4s\n",
            "[CV] END max_depth=9, max_features=None, max_leaf_nodes=3, n_estimators=150; total time=   0.4s\n",
            "[CV] END max_depth=9, max_features=None, max_leaf_nodes=6, n_estimators=25; total time=   0.1s\n",
            "[CV] END max_depth=9, max_features=None, max_leaf_nodes=6, n_estimators=25; total time=   0.1s\n",
            "[CV] END max_depth=9, max_features=None, max_leaf_nodes=6, n_estimators=25; total time=   0.1s\n",
            "[CV] END max_depth=9, max_features=None, max_leaf_nodes=6, n_estimators=25; total time=   0.1s\n",
            "[CV] END max_depth=9, max_features=None, max_leaf_nodes=6, n_estimators=25; total time=   0.1s\n",
            "[CV] END max_depth=9, max_features=None, max_leaf_nodes=6, n_estimators=50; total time=   0.1s\n",
            "[CV] END max_depth=9, max_features=None, max_leaf_nodes=6, n_estimators=50; total time=   0.1s\n",
            "[CV] END max_depth=9, max_features=None, max_leaf_nodes=6, n_estimators=50; total time=   0.1s\n",
            "[CV] END max_depth=9, max_features=None, max_leaf_nodes=6, n_estimators=50; total time=   0.1s\n",
            "[CV] END max_depth=9, max_features=None, max_leaf_nodes=6, n_estimators=50; total time=   0.1s\n",
            "[CV] END max_depth=9, max_features=None, max_leaf_nodes=6, n_estimators=100; total time=   0.3s\n",
            "[CV] END max_depth=9, max_features=None, max_leaf_nodes=6, n_estimators=100; total time=   0.2s\n",
            "[CV] END max_depth=9, max_features=None, max_leaf_nodes=6, n_estimators=100; total time=   0.2s\n",
            "[CV] END max_depth=9, max_features=None, max_leaf_nodes=6, n_estimators=100; total time=   0.2s\n",
            "[CV] END max_depth=9, max_features=None, max_leaf_nodes=6, n_estimators=100; total time=   0.2s\n",
            "[CV] END max_depth=9, max_features=None, max_leaf_nodes=6, n_estimators=150; total time=   0.2s\n",
            "[CV] END max_depth=9, max_features=None, max_leaf_nodes=6, n_estimators=150; total time=   0.2s\n",
            "[CV] END max_depth=9, max_features=None, max_leaf_nodes=6, n_estimators=150; total time=   0.2s\n",
            "[CV] END max_depth=9, max_features=None, max_leaf_nodes=6, n_estimators=150; total time=   0.2s\n",
            "[CV] END max_depth=9, max_features=None, max_leaf_nodes=6, n_estimators=150; total time=   0.2s\n",
            "[CV] END max_depth=9, max_features=None, max_leaf_nodes=9, n_estimators=25; total time=   0.0s\n",
            "[CV] END max_depth=9, max_features=None, max_leaf_nodes=9, n_estimators=25; total time=   0.0s\n",
            "[CV] END max_depth=9, max_features=None, max_leaf_nodes=9, n_estimators=25; total time=   0.0s\n",
            "[CV] END max_depth=9, max_features=None, max_leaf_nodes=9, n_estimators=25; total time=   0.0s\n",
            "[CV] END max_depth=9, max_features=None, max_leaf_nodes=9, n_estimators=25; total time=   0.0s\n",
            "[CV] END max_depth=9, max_features=None, max_leaf_nodes=9, n_estimators=50; total time=   0.1s\n",
            "[CV] END max_depth=9, max_features=None, max_leaf_nodes=9, n_estimators=50; total time=   0.1s\n",
            "[CV] END max_depth=9, max_features=None, max_leaf_nodes=9, n_estimators=50; total time=   0.1s\n",
            "[CV] END max_depth=9, max_features=None, max_leaf_nodes=9, n_estimators=50; total time=   0.1s\n",
            "[CV] END max_depth=9, max_features=None, max_leaf_nodes=9, n_estimators=50; total time=   0.1s\n",
            "[CV] END max_depth=9, max_features=None, max_leaf_nodes=9, n_estimators=100; total time=   0.2s\n",
            "[CV] END max_depth=9, max_features=None, max_leaf_nodes=9, n_estimators=100; total time=   0.2s\n",
            "[CV] END max_depth=9, max_features=None, max_leaf_nodes=9, n_estimators=100; total time=   0.2s\n",
            "[CV] END max_depth=9, max_features=None, max_leaf_nodes=9, n_estimators=100; total time=   0.2s\n",
            "[CV] END max_depth=9, max_features=None, max_leaf_nodes=9, n_estimators=100; total time=   0.2s\n",
            "[CV] END max_depth=9, max_features=None, max_leaf_nodes=9, n_estimators=150; total time=   0.2s\n",
            "[CV] END max_depth=9, max_features=None, max_leaf_nodes=9, n_estimators=150; total time=   0.2s\n",
            "[CV] END max_depth=9, max_features=None, max_leaf_nodes=9, n_estimators=150; total time=   0.2s\n",
            "[CV] END max_depth=9, max_features=None, max_leaf_nodes=9, n_estimators=150; total time=   0.2s\n",
            "[CV] END max_depth=9, max_features=None, max_leaf_nodes=9, n_estimators=150; total time=   0.2s\n"
          ]
        },
        {
          "output_type": "execute_result",
          "data": {
            "text/plain": [
              "GridSearchCV(estimator=RandomForestClassifier(criterion='entropy'),\n",
              "             param_grid={'max_depth': [3, 6, 9],\n",
              "                         'max_features': ['sqrt', 'log2', None],\n",
              "                         'max_leaf_nodes': [3, 6, 9],\n",
              "                         'n_estimators': [25, 50, 100, 150]},\n",
              "             verbose=2)"
            ],
            "text/html": [
              "<style>#sk-container-id-5 {color: black;background-color: white;}#sk-container-id-5 pre{padding: 0;}#sk-container-id-5 div.sk-toggleable {background-color: white;}#sk-container-id-5 label.sk-toggleable__label {cursor: pointer;display: block;width: 100%;margin-bottom: 0;padding: 0.3em;box-sizing: border-box;text-align: center;}#sk-container-id-5 label.sk-toggleable__label-arrow:before {content: \"▸\";float: left;margin-right: 0.25em;color: #696969;}#sk-container-id-5 label.sk-toggleable__label-arrow:hover:before {color: black;}#sk-container-id-5 div.sk-estimator:hover label.sk-toggleable__label-arrow:before {color: black;}#sk-container-id-5 div.sk-toggleable__content {max-height: 0;max-width: 0;overflow: hidden;text-align: left;background-color: #f0f8ff;}#sk-container-id-5 div.sk-toggleable__content pre {margin: 0.2em;color: black;border-radius: 0.25em;background-color: #f0f8ff;}#sk-container-id-5 input.sk-toggleable__control:checked~div.sk-toggleable__content {max-height: 200px;max-width: 100%;overflow: auto;}#sk-container-id-5 input.sk-toggleable__control:checked~label.sk-toggleable__label-arrow:before {content: \"▾\";}#sk-container-id-5 div.sk-estimator input.sk-toggleable__control:checked~label.sk-toggleable__label {background-color: #d4ebff;}#sk-container-id-5 div.sk-label input.sk-toggleable__control:checked~label.sk-toggleable__label {background-color: #d4ebff;}#sk-container-id-5 input.sk-hidden--visually {border: 0;clip: rect(1px 1px 1px 1px);clip: rect(1px, 1px, 1px, 1px);height: 1px;margin: -1px;overflow: hidden;padding: 0;position: absolute;width: 1px;}#sk-container-id-5 div.sk-estimator {font-family: monospace;background-color: #f0f8ff;border: 1px dotted black;border-radius: 0.25em;box-sizing: border-box;margin-bottom: 0.5em;}#sk-container-id-5 div.sk-estimator:hover {background-color: #d4ebff;}#sk-container-id-5 div.sk-parallel-item::after {content: \"\";width: 100%;border-bottom: 1px solid gray;flex-grow: 1;}#sk-container-id-5 div.sk-label:hover label.sk-toggleable__label {background-color: #d4ebff;}#sk-container-id-5 div.sk-serial::before {content: \"\";position: absolute;border-left: 1px solid gray;box-sizing: border-box;top: 0;bottom: 0;left: 50%;z-index: 0;}#sk-container-id-5 div.sk-serial {display: flex;flex-direction: column;align-items: center;background-color: white;padding-right: 0.2em;padding-left: 0.2em;position: relative;}#sk-container-id-5 div.sk-item {position: relative;z-index: 1;}#sk-container-id-5 div.sk-parallel {display: flex;align-items: stretch;justify-content: center;background-color: white;position: relative;}#sk-container-id-5 div.sk-item::before, #sk-container-id-5 div.sk-parallel-item::before {content: \"\";position: absolute;border-left: 1px solid gray;box-sizing: border-box;top: 0;bottom: 0;left: 50%;z-index: -1;}#sk-container-id-5 div.sk-parallel-item {display: flex;flex-direction: column;z-index: 1;position: relative;background-color: white;}#sk-container-id-5 div.sk-parallel-item:first-child::after {align-self: flex-end;width: 50%;}#sk-container-id-5 div.sk-parallel-item:last-child::after {align-self: flex-start;width: 50%;}#sk-container-id-5 div.sk-parallel-item:only-child::after {width: 0;}#sk-container-id-5 div.sk-dashed-wrapped {border: 1px dashed gray;margin: 0 0.4em 0.5em 0.4em;box-sizing: border-box;padding-bottom: 0.4em;background-color: white;}#sk-container-id-5 div.sk-label label {font-family: monospace;font-weight: bold;display: inline-block;line-height: 1.2em;}#sk-container-id-5 div.sk-label-container {text-align: center;}#sk-container-id-5 div.sk-container {/* jupyter's `normalize.less` sets `[hidden] { display: none; }` but bootstrap.min.css set `[hidden] { display: none !important; }` so we also need the `!important` here to be able to override the default hidden behavior on the sphinx rendered scikit-learn.org. See: https://github.com/scikit-learn/scikit-learn/issues/21755 */display: inline-block !important;position: relative;}#sk-container-id-5 div.sk-text-repr-fallback {display: none;}</style><div id=\"sk-container-id-5\" class=\"sk-top-container\"><div class=\"sk-text-repr-fallback\"><pre>GridSearchCV(estimator=RandomForestClassifier(criterion=&#x27;entropy&#x27;),\n",
              "             param_grid={&#x27;max_depth&#x27;: [3, 6, 9],\n",
              "                         &#x27;max_features&#x27;: [&#x27;sqrt&#x27;, &#x27;log2&#x27;, None],\n",
              "                         &#x27;max_leaf_nodes&#x27;: [3, 6, 9],\n",
              "                         &#x27;n_estimators&#x27;: [25, 50, 100, 150]},\n",
              "             verbose=2)</pre><b>In a Jupyter environment, please rerun this cell to show the HTML representation or trust the notebook. <br />On GitHub, the HTML representation is unable to render, please try loading this page with nbviewer.org.</b></div><div class=\"sk-container\" hidden><div class=\"sk-item sk-dashed-wrapped\"><div class=\"sk-label-container\"><div class=\"sk-label sk-toggleable\"><input class=\"sk-toggleable__control sk-hidden--visually\" id=\"sk-estimator-id-9\" type=\"checkbox\" ><label for=\"sk-estimator-id-9\" class=\"sk-toggleable__label sk-toggleable__label-arrow\">GridSearchCV</label><div class=\"sk-toggleable__content\"><pre>GridSearchCV(estimator=RandomForestClassifier(criterion=&#x27;entropy&#x27;),\n",
              "             param_grid={&#x27;max_depth&#x27;: [3, 6, 9],\n",
              "                         &#x27;max_features&#x27;: [&#x27;sqrt&#x27;, &#x27;log2&#x27;, None],\n",
              "                         &#x27;max_leaf_nodes&#x27;: [3, 6, 9],\n",
              "                         &#x27;n_estimators&#x27;: [25, 50, 100, 150]},\n",
              "             verbose=2)</pre></div></div></div><div class=\"sk-parallel\"><div class=\"sk-parallel-item\"><div class=\"sk-item\"><div class=\"sk-label-container\"><div class=\"sk-label sk-toggleable\"><input class=\"sk-toggleable__control sk-hidden--visually\" id=\"sk-estimator-id-10\" type=\"checkbox\" ><label for=\"sk-estimator-id-10\" class=\"sk-toggleable__label sk-toggleable__label-arrow\">estimator: RandomForestClassifier</label><div class=\"sk-toggleable__content\"><pre>RandomForestClassifier(criterion=&#x27;entropy&#x27;)</pre></div></div></div><div class=\"sk-serial\"><div class=\"sk-item\"><div class=\"sk-estimator sk-toggleable\"><input class=\"sk-toggleable__control sk-hidden--visually\" id=\"sk-estimator-id-11\" type=\"checkbox\" ><label for=\"sk-estimator-id-11\" class=\"sk-toggleable__label sk-toggleable__label-arrow\">RandomForestClassifier</label><div class=\"sk-toggleable__content\"><pre>RandomForestClassifier(criterion=&#x27;entropy&#x27;)</pre></div></div></div></div></div></div></div></div></div></div>"
            ]
          },
          "metadata": {},
          "execution_count": 81
        }
      ]
    },
    {
      "cell_type": "code",
      "source": [
        "clf.best_score_"
      ],
      "metadata": {
        "colab": {
          "base_uri": "https://localhost:8080/"
        },
        "id": "_4oE_wa8CB3H",
        "outputId": "398a523c-ae6f-4519-99ff-902490982f3e"
      },
      "execution_count": null,
      "outputs": [
        {
          "output_type": "execute_result",
          "data": {
            "text/plain": [
              "1.0"
            ]
          },
          "metadata": {},
          "execution_count": 82
        }
      ]
    },
    {
      "cell_type": "code",
      "source": [
        "clf.best_params_"
      ],
      "metadata": {
        "colab": {
          "base_uri": "https://localhost:8080/"
        },
        "id": "-h4xxDlrCODc",
        "outputId": "36d09216-9cd9-4fe4-819f-765cca8151f9"
      },
      "execution_count": null,
      "outputs": [
        {
          "output_type": "execute_result",
          "data": {
            "text/plain": [
              "{'max_depth': 3,\n",
              " 'max_features': 'sqrt',\n",
              " 'max_leaf_nodes': 3,\n",
              " 'n_estimators': 50}"
            ]
          },
          "metadata": {},
          "execution_count": 83
        }
      ]
    },
    {
      "cell_type": "code",
      "source": [
        "model3 =RandomForestClassifier(max_depth= 3,max_features= 'sqrt',max_leaf_nodes= 3,n_estimators=25)"
      ],
      "metadata": {
        "id": "OHCSnK-oCW7Z"
      },
      "execution_count": null,
      "outputs": []
    },
    {
      "cell_type": "code",
      "source": [
        "model3.fit(x_train_smote,y_train_smote)"
      ],
      "metadata": {
        "colab": {
          "base_uri": "https://localhost:8080/",
          "height": 74
        },
        "id": "wvrsAn5lC3ig",
        "outputId": "a3f1ec47-a802-4516-a397-b9719d1ab1e7"
      },
      "execution_count": null,
      "outputs": [
        {
          "output_type": "execute_result",
          "data": {
            "text/plain": [
              "RandomForestClassifier(max_depth=3, max_leaf_nodes=3, n_estimators=25)"
            ],
            "text/html": [
              "<style>#sk-container-id-6 {color: black;background-color: white;}#sk-container-id-6 pre{padding: 0;}#sk-container-id-6 div.sk-toggleable {background-color: white;}#sk-container-id-6 label.sk-toggleable__label {cursor: pointer;display: block;width: 100%;margin-bottom: 0;padding: 0.3em;box-sizing: border-box;text-align: center;}#sk-container-id-6 label.sk-toggleable__label-arrow:before {content: \"▸\";float: left;margin-right: 0.25em;color: #696969;}#sk-container-id-6 label.sk-toggleable__label-arrow:hover:before {color: black;}#sk-container-id-6 div.sk-estimator:hover label.sk-toggleable__label-arrow:before {color: black;}#sk-container-id-6 div.sk-toggleable__content {max-height: 0;max-width: 0;overflow: hidden;text-align: left;background-color: #f0f8ff;}#sk-container-id-6 div.sk-toggleable__content pre {margin: 0.2em;color: black;border-radius: 0.25em;background-color: #f0f8ff;}#sk-container-id-6 input.sk-toggleable__control:checked~div.sk-toggleable__content {max-height: 200px;max-width: 100%;overflow: auto;}#sk-container-id-6 input.sk-toggleable__control:checked~label.sk-toggleable__label-arrow:before {content: \"▾\";}#sk-container-id-6 div.sk-estimator input.sk-toggleable__control:checked~label.sk-toggleable__label {background-color: #d4ebff;}#sk-container-id-6 div.sk-label input.sk-toggleable__control:checked~label.sk-toggleable__label {background-color: #d4ebff;}#sk-container-id-6 input.sk-hidden--visually {border: 0;clip: rect(1px 1px 1px 1px);clip: rect(1px, 1px, 1px, 1px);height: 1px;margin: -1px;overflow: hidden;padding: 0;position: absolute;width: 1px;}#sk-container-id-6 div.sk-estimator {font-family: monospace;background-color: #f0f8ff;border: 1px dotted black;border-radius: 0.25em;box-sizing: border-box;margin-bottom: 0.5em;}#sk-container-id-6 div.sk-estimator:hover {background-color: #d4ebff;}#sk-container-id-6 div.sk-parallel-item::after {content: \"\";width: 100%;border-bottom: 1px solid gray;flex-grow: 1;}#sk-container-id-6 div.sk-label:hover label.sk-toggleable__label {background-color: #d4ebff;}#sk-container-id-6 div.sk-serial::before {content: \"\";position: absolute;border-left: 1px solid gray;box-sizing: border-box;top: 0;bottom: 0;left: 50%;z-index: 0;}#sk-container-id-6 div.sk-serial {display: flex;flex-direction: column;align-items: center;background-color: white;padding-right: 0.2em;padding-left: 0.2em;position: relative;}#sk-container-id-6 div.sk-item {position: relative;z-index: 1;}#sk-container-id-6 div.sk-parallel {display: flex;align-items: stretch;justify-content: center;background-color: white;position: relative;}#sk-container-id-6 div.sk-item::before, #sk-container-id-6 div.sk-parallel-item::before {content: \"\";position: absolute;border-left: 1px solid gray;box-sizing: border-box;top: 0;bottom: 0;left: 50%;z-index: -1;}#sk-container-id-6 div.sk-parallel-item {display: flex;flex-direction: column;z-index: 1;position: relative;background-color: white;}#sk-container-id-6 div.sk-parallel-item:first-child::after {align-self: flex-end;width: 50%;}#sk-container-id-6 div.sk-parallel-item:last-child::after {align-self: flex-start;width: 50%;}#sk-container-id-6 div.sk-parallel-item:only-child::after {width: 0;}#sk-container-id-6 div.sk-dashed-wrapped {border: 1px dashed gray;margin: 0 0.4em 0.5em 0.4em;box-sizing: border-box;padding-bottom: 0.4em;background-color: white;}#sk-container-id-6 div.sk-label label {font-family: monospace;font-weight: bold;display: inline-block;line-height: 1.2em;}#sk-container-id-6 div.sk-label-container {text-align: center;}#sk-container-id-6 div.sk-container {/* jupyter's `normalize.less` sets `[hidden] { display: none; }` but bootstrap.min.css set `[hidden] { display: none !important; }` so we also need the `!important` here to be able to override the default hidden behavior on the sphinx rendered scikit-learn.org. See: https://github.com/scikit-learn/scikit-learn/issues/21755 */display: inline-block !important;position: relative;}#sk-container-id-6 div.sk-text-repr-fallback {display: none;}</style><div id=\"sk-container-id-6\" class=\"sk-top-container\"><div class=\"sk-text-repr-fallback\"><pre>RandomForestClassifier(max_depth=3, max_leaf_nodes=3, n_estimators=25)</pre><b>In a Jupyter environment, please rerun this cell to show the HTML representation or trust the notebook. <br />On GitHub, the HTML representation is unable to render, please try loading this page with nbviewer.org.</b></div><div class=\"sk-container\" hidden><div class=\"sk-item\"><div class=\"sk-estimator sk-toggleable\"><input class=\"sk-toggleable__control sk-hidden--visually\" id=\"sk-estimator-id-12\" type=\"checkbox\" checked><label for=\"sk-estimator-id-12\" class=\"sk-toggleable__label sk-toggleable__label-arrow\">RandomForestClassifier</label><div class=\"sk-toggleable__content\"><pre>RandomForestClassifier(max_depth=3, max_leaf_nodes=3, n_estimators=25)</pre></div></div></div></div></div>"
            ]
          },
          "metadata": {},
          "execution_count": 85
        }
      ]
    },
    {
      "cell_type": "code",
      "source": [
        "y_ = model3.predict(x_test)"
      ],
      "metadata": {
        "id": "Zp50XRYdDDeT"
      },
      "execution_count": null,
      "outputs": []
    },
    {
      "cell_type": "code",
      "source": [
        "accuracy_score(y_test,y_)"
      ],
      "metadata": {
        "colab": {
          "base_uri": "https://localhost:8080/"
        },
        "id": "9pQcgkb4DJly",
        "outputId": "b5d8c3e5-cbee-4b05-c76f-3c8d90be6b2a"
      },
      "execution_count": null,
      "outputs": [
        {
          "output_type": "execute_result",
          "data": {
            "text/plain": [
              "1.0"
            ]
          },
          "metadata": {},
          "execution_count": 87
        }
      ]
    },
    {
      "cell_type": "code",
      "source": [
        "pd.crosstab(y_test,y_)"
      ],
      "metadata": {
        "colab": {
          "base_uri": "https://localhost:8080/",
          "height": 143
        },
        "id": "HbOHepAMDWtl",
        "outputId": "041dab38-ed73-4d0f-bd30-ffe575ce79ae"
      },
      "execution_count": null,
      "outputs": [
        {
          "output_type": "execute_result",
          "data": {
            "text/plain": [
              "col_0      0   1\n",
              "Survived        \n",
              "0         71   0\n",
              "1          0  55"
            ],
            "text/html": [
              "\n",
              "  <div id=\"df-5c00ca4f-e9c8-4508-85fb-23f5ecb9dfdd\" class=\"colab-df-container\">\n",
              "    <div>\n",
              "<style scoped>\n",
              "    .dataframe tbody tr th:only-of-type {\n",
              "        vertical-align: middle;\n",
              "    }\n",
              "\n",
              "    .dataframe tbody tr th {\n",
              "        vertical-align: top;\n",
              "    }\n",
              "\n",
              "    .dataframe thead th {\n",
              "        text-align: right;\n",
              "    }\n",
              "</style>\n",
              "<table border=\"1\" class=\"dataframe\">\n",
              "  <thead>\n",
              "    <tr style=\"text-align: right;\">\n",
              "      <th>col_0</th>\n",
              "      <th>0</th>\n",
              "      <th>1</th>\n",
              "    </tr>\n",
              "    <tr>\n",
              "      <th>Survived</th>\n",
              "      <th></th>\n",
              "      <th></th>\n",
              "    </tr>\n",
              "  </thead>\n",
              "  <tbody>\n",
              "    <tr>\n",
              "      <th>0</th>\n",
              "      <td>71</td>\n",
              "      <td>0</td>\n",
              "    </tr>\n",
              "    <tr>\n",
              "      <th>1</th>\n",
              "      <td>0</td>\n",
              "      <td>55</td>\n",
              "    </tr>\n",
              "  </tbody>\n",
              "</table>\n",
              "</div>\n",
              "    <div class=\"colab-df-buttons\">\n",
              "\n",
              "  <div class=\"colab-df-container\">\n",
              "    <button class=\"colab-df-convert\" onclick=\"convertToInteractive('df-5c00ca4f-e9c8-4508-85fb-23f5ecb9dfdd')\"\n",
              "            title=\"Convert this dataframe to an interactive table.\"\n",
              "            style=\"display:none;\">\n",
              "\n",
              "  <svg xmlns=\"http://www.w3.org/2000/svg\" height=\"24px\" viewBox=\"0 -960 960 960\">\n",
              "    <path d=\"M120-120v-720h720v720H120Zm60-500h600v-160H180v160Zm220 220h160v-160H400v160Zm0 220h160v-160H400v160ZM180-400h160v-160H180v160Zm440 0h160v-160H620v160ZM180-180h160v-160H180v160Zm440 0h160v-160H620v160Z\"/>\n",
              "  </svg>\n",
              "    </button>\n",
              "\n",
              "  <style>\n",
              "    .colab-df-container {\n",
              "      display:flex;\n",
              "      gap: 12px;\n",
              "    }\n",
              "\n",
              "    .colab-df-convert {\n",
              "      background-color: #E8F0FE;\n",
              "      border: none;\n",
              "      border-radius: 50%;\n",
              "      cursor: pointer;\n",
              "      display: none;\n",
              "      fill: #1967D2;\n",
              "      height: 32px;\n",
              "      padding: 0 0 0 0;\n",
              "      width: 32px;\n",
              "    }\n",
              "\n",
              "    .colab-df-convert:hover {\n",
              "      background-color: #E2EBFA;\n",
              "      box-shadow: 0px 1px 2px rgba(60, 64, 67, 0.3), 0px 1px 3px 1px rgba(60, 64, 67, 0.15);\n",
              "      fill: #174EA6;\n",
              "    }\n",
              "\n",
              "    .colab-df-buttons div {\n",
              "      margin-bottom: 4px;\n",
              "    }\n",
              "\n",
              "    [theme=dark] .colab-df-convert {\n",
              "      background-color: #3B4455;\n",
              "      fill: #D2E3FC;\n",
              "    }\n",
              "\n",
              "    [theme=dark] .colab-df-convert:hover {\n",
              "      background-color: #434B5C;\n",
              "      box-shadow: 0px 1px 3px 1px rgba(0, 0, 0, 0.15);\n",
              "      filter: drop-shadow(0px 1px 2px rgba(0, 0, 0, 0.3));\n",
              "      fill: #FFFFFF;\n",
              "    }\n",
              "  </style>\n",
              "\n",
              "    <script>\n",
              "      const buttonEl =\n",
              "        document.querySelector('#df-5c00ca4f-e9c8-4508-85fb-23f5ecb9dfdd button.colab-df-convert');\n",
              "      buttonEl.style.display =\n",
              "        google.colab.kernel.accessAllowed ? 'block' : 'none';\n",
              "\n",
              "      async function convertToInteractive(key) {\n",
              "        const element = document.querySelector('#df-5c00ca4f-e9c8-4508-85fb-23f5ecb9dfdd');\n",
              "        const dataTable =\n",
              "          await google.colab.kernel.invokeFunction('convertToInteractive',\n",
              "                                                    [key], {});\n",
              "        if (!dataTable) return;\n",
              "\n",
              "        const docLinkHtml = 'Like what you see? Visit the ' +\n",
              "          '<a target=\"_blank\" href=https://colab.research.google.com/notebooks/data_table.ipynb>data table notebook</a>'\n",
              "          + ' to learn more about interactive tables.';\n",
              "        element.innerHTML = '';\n",
              "        dataTable['output_type'] = 'display_data';\n",
              "        await google.colab.output.renderOutput(dataTable, element);\n",
              "        const docLink = document.createElement('div');\n",
              "        docLink.innerHTML = docLinkHtml;\n",
              "        element.appendChild(docLink);\n",
              "      }\n",
              "    </script>\n",
              "  </div>\n",
              "\n",
              "\n",
              "<div id=\"df-54100267-e355-4f82-82e3-1e064a4e982a\">\n",
              "  <button class=\"colab-df-quickchart\" onclick=\"quickchart('df-54100267-e355-4f82-82e3-1e064a4e982a')\"\n",
              "            title=\"Suggest charts.\"\n",
              "            style=\"display:none;\">\n",
              "\n",
              "<svg xmlns=\"http://www.w3.org/2000/svg\" height=\"24px\"viewBox=\"0 0 24 24\"\n",
              "     width=\"24px\">\n",
              "    <g>\n",
              "        <path d=\"M19 3H5c-1.1 0-2 .9-2 2v14c0 1.1.9 2 2 2h14c1.1 0 2-.9 2-2V5c0-1.1-.9-2-2-2zM9 17H7v-7h2v7zm4 0h-2V7h2v10zm4 0h-2v-4h2v4z\"/>\n",
              "    </g>\n",
              "</svg>\n",
              "  </button>\n",
              "\n",
              "<style>\n",
              "  .colab-df-quickchart {\n",
              "      --bg-color: #E8F0FE;\n",
              "      --fill-color: #1967D2;\n",
              "      --hover-bg-color: #E2EBFA;\n",
              "      --hover-fill-color: #174EA6;\n",
              "      --disabled-fill-color: #AAA;\n",
              "      --disabled-bg-color: #DDD;\n",
              "  }\n",
              "\n",
              "  [theme=dark] .colab-df-quickchart {\n",
              "      --bg-color: #3B4455;\n",
              "      --fill-color: #D2E3FC;\n",
              "      --hover-bg-color: #434B5C;\n",
              "      --hover-fill-color: #FFFFFF;\n",
              "      --disabled-bg-color: #3B4455;\n",
              "      --disabled-fill-color: #666;\n",
              "  }\n",
              "\n",
              "  .colab-df-quickchart {\n",
              "    background-color: var(--bg-color);\n",
              "    border: none;\n",
              "    border-radius: 50%;\n",
              "    cursor: pointer;\n",
              "    display: none;\n",
              "    fill: var(--fill-color);\n",
              "    height: 32px;\n",
              "    padding: 0;\n",
              "    width: 32px;\n",
              "  }\n",
              "\n",
              "  .colab-df-quickchart:hover {\n",
              "    background-color: var(--hover-bg-color);\n",
              "    box-shadow: 0 1px 2px rgba(60, 64, 67, 0.3), 0 1px 3px 1px rgba(60, 64, 67, 0.15);\n",
              "    fill: var(--button-hover-fill-color);\n",
              "  }\n",
              "\n",
              "  .colab-df-quickchart-complete:disabled,\n",
              "  .colab-df-quickchart-complete:disabled:hover {\n",
              "    background-color: var(--disabled-bg-color);\n",
              "    fill: var(--disabled-fill-color);\n",
              "    box-shadow: none;\n",
              "  }\n",
              "\n",
              "  .colab-df-spinner {\n",
              "    border: 2px solid var(--fill-color);\n",
              "    border-color: transparent;\n",
              "    border-bottom-color: var(--fill-color);\n",
              "    animation:\n",
              "      spin 1s steps(1) infinite;\n",
              "  }\n",
              "\n",
              "  @keyframes spin {\n",
              "    0% {\n",
              "      border-color: transparent;\n",
              "      border-bottom-color: var(--fill-color);\n",
              "      border-left-color: var(--fill-color);\n",
              "    }\n",
              "    20% {\n",
              "      border-color: transparent;\n",
              "      border-left-color: var(--fill-color);\n",
              "      border-top-color: var(--fill-color);\n",
              "    }\n",
              "    30% {\n",
              "      border-color: transparent;\n",
              "      border-left-color: var(--fill-color);\n",
              "      border-top-color: var(--fill-color);\n",
              "      border-right-color: var(--fill-color);\n",
              "    }\n",
              "    40% {\n",
              "      border-color: transparent;\n",
              "      border-right-color: var(--fill-color);\n",
              "      border-top-color: var(--fill-color);\n",
              "    }\n",
              "    60% {\n",
              "      border-color: transparent;\n",
              "      border-right-color: var(--fill-color);\n",
              "    }\n",
              "    80% {\n",
              "      border-color: transparent;\n",
              "      border-right-color: var(--fill-color);\n",
              "      border-bottom-color: var(--fill-color);\n",
              "    }\n",
              "    90% {\n",
              "      border-color: transparent;\n",
              "      border-bottom-color: var(--fill-color);\n",
              "    }\n",
              "  }\n",
              "</style>\n",
              "\n",
              "  <script>\n",
              "    async function quickchart(key) {\n",
              "      const quickchartButtonEl =\n",
              "        document.querySelector('#' + key + ' button');\n",
              "      quickchartButtonEl.disabled = true;  // To prevent multiple clicks.\n",
              "      quickchartButtonEl.classList.add('colab-df-spinner');\n",
              "      try {\n",
              "        const charts = await google.colab.kernel.invokeFunction(\n",
              "            'suggestCharts', [key], {});\n",
              "      } catch (error) {\n",
              "        console.error('Error during call to suggestCharts:', error);\n",
              "      }\n",
              "      quickchartButtonEl.classList.remove('colab-df-spinner');\n",
              "      quickchartButtonEl.classList.add('colab-df-quickchart-complete');\n",
              "    }\n",
              "    (() => {\n",
              "      let quickchartButtonEl =\n",
              "        document.querySelector('#df-54100267-e355-4f82-82e3-1e064a4e982a button');\n",
              "      quickchartButtonEl.style.display =\n",
              "        google.colab.kernel.accessAllowed ? 'block' : 'none';\n",
              "    })();\n",
              "  </script>\n",
              "</div>\n",
              "    </div>\n",
              "  </div>\n"
            ]
          },
          "metadata": {},
          "execution_count": 88
        }
      ]
    },
    {
      "cell_type": "code",
      "source": [
        "print(classification_report(y_test,y_))"
      ],
      "metadata": {
        "colab": {
          "base_uri": "https://localhost:8080/"
        },
        "id": "XiPEZ4PLDcE1",
        "outputId": "03ec7bd9-5825-4039-e5ac-fdf2146951bb"
      },
      "execution_count": null,
      "outputs": [
        {
          "output_type": "stream",
          "name": "stdout",
          "text": [
            "              precision    recall  f1-score   support\n",
            "\n",
            "           0       1.00      1.00      1.00        71\n",
            "           1       1.00      1.00      1.00        55\n",
            "\n",
            "    accuracy                           1.00       126\n",
            "   macro avg       1.00      1.00      1.00       126\n",
            "weighted avg       1.00      1.00      1.00       126\n",
            "\n"
          ]
        }
      ]
    },
    {
      "cell_type": "code",
      "source": [
        "import pickle"
      ],
      "metadata": {
        "id": "v4d18160_as7"
      },
      "execution_count": null,
      "outputs": []
    },
    {
      "cell_type": "code",
      "source": [
        "pickle.dump(model3,open('titan.pkl','wb'))"
      ],
      "metadata": {
        "id": "42vl-jtk_cfW"
      },
      "execution_count": null,
      "outputs": []
    }
  ]
}